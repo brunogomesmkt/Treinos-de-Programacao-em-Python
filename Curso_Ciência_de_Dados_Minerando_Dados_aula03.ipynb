{
  "nbformat": 4,
  "nbformat_minor": 0,
  "metadata": {
    "anaconda-cloud": {},
    "kernelspec": {
      "display_name": "Python 3",
      "language": "python",
      "name": "python3"
    },
    "language_info": {
      "codemirror_mode": {
        "name": "ipython",
        "version": 3
      },
      "file_extension": ".py",
      "mimetype": "text/x-python",
      "name": "python",
      "nbconvert_exporter": "python",
      "pygments_lexer": "ipython3",
      "version": "3.6.5"
    },
    "colab": {
      "name": "Curso Ciência de Dados - Minerando Dados_aula03.ipynb",
      "provenance": [],
      "collapsed_sections": [],
      "include_colab_link": true
    }
  },
  "cells": [
    {
      "cell_type": "markdown",
      "metadata": {
        "id": "view-in-github",
        "colab_type": "text"
      },
      "source": [
        "<a href=\"https://colab.research.google.com/github/brunogomesmkt/Treinos-de-Programacao-em-Python/blob/main/Curso_Ci%C3%AAncia_de_Dados_Minerando_Dados_aula03.ipynb\" target=\"_parent\"><img src=\"https://colab.research.google.com/assets/colab-badge.svg\" alt=\"Open In Colab\"/></a>"
      ]
    },
    {
      "cell_type": "markdown",
      "metadata": {
        "id": "GFJ4EVNomx-9"
      },
      "source": [
        "## **Semana de Data Science**\n",
        "\n",
        "- Minerando Dados"
      ]
    },
    {
      "cell_type": "markdown",
      "metadata": {
        "id": "4vhNe3CadOcI"
      },
      "source": [
        "### Conhecendo a base de dados"
      ]
    },
    {
      "cell_type": "markdown",
      "metadata": {
        "id": "UIKcG9cuf73S"
      },
      "source": [
        "Monta o drive"
      ]
    },
    {
      "cell_type": "code",
      "metadata": {
        "id": "Pra_pLjfAW3d",
        "colab": {
          "base_uri": "https://localhost:8080/"
        },
        "outputId": "0978e6c0-3570-40ba-cab7-f002048c7dff"
      },
      "source": [
        "from google.colab import drive\n",
        "drive.mount('/content/drive')"
      ],
      "execution_count": null,
      "outputs": [
        {
          "output_type": "stream",
          "text": [
            "Drive already mounted at /content/drive; to attempt to forcibly remount, call drive.mount(\"/content/drive\", force_remount=True).\n"
          ],
          "name": "stdout"
        }
      ]
    },
    {
      "cell_type": "markdown",
      "metadata": {
        "id": "LpI7iiKFVv85"
      },
      "source": [
        "Importando as bibliotecas básicas"
      ]
    },
    {
      "cell_type": "code",
      "metadata": {
        "id": "KrCFI6wjVy8r"
      },
      "source": [
        "import pandas as pd\n",
        "import seaborn as sns\n",
        "import numpy as np\n",
        "import matplotlib.pyplot as plt\n",
        "%matplotlib inline"
      ],
      "execution_count": null,
      "outputs": []
    },
    {
      "cell_type": "markdown",
      "metadata": {
        "id": "pN6MI_aOdLkK"
      },
      "source": [
        "Carregando a Base de Dados"
      ]
    },
    {
      "cell_type": "code",
      "metadata": {
        "id": "fH08VuIvDYqC"
      },
      "source": [
        "# carrega o dataset de london\n",
        "from sklearn.datasets import load_boston\n",
        "boston = load_boston()"
      ],
      "execution_count": null,
      "outputs": []
    },
    {
      "cell_type": "code",
      "metadata": {
        "id": "vdncFGtm9EZe",
        "colab": {
          "base_uri": "https://localhost:8080/"
        },
        "outputId": "47718b61-0e12-4c87-ab65-93b343d6c684"
      },
      "source": [
        "# descrição do dataset\n",
        "print (boston.DESCR)"
      ],
      "execution_count": null,
      "outputs": [
        {
          "output_type": "stream",
          "text": [
            ".. _boston_dataset:\n",
            "\n",
            "Boston house prices dataset\n",
            "---------------------------\n",
            "\n",
            "**Data Set Characteristics:**  \n",
            "\n",
            "    :Number of Instances: 506 \n",
            "\n",
            "    :Number of Attributes: 13 numeric/categorical predictive. Median Value (attribute 14) is usually the target.\n",
            "\n",
            "    :Attribute Information (in order):\n",
            "        - CRIM     per capita crime rate by town\n",
            "        - ZN       proportion of residential land zoned for lots over 25,000 sq.ft.\n",
            "        - INDUS    proportion of non-retail business acres per town\n",
            "        - CHAS     Charles River dummy variable (= 1 if tract bounds river; 0 otherwise)\n",
            "        - NOX      nitric oxides concentration (parts per 10 million)\n",
            "        - RM       average number of rooms per dwelling\n",
            "        - AGE      proportion of owner-occupied units built prior to 1940\n",
            "        - DIS      weighted distances to five Boston employment centres\n",
            "        - RAD      index of accessibility to radial highways\n",
            "        - TAX      full-value property-tax rate per $10,000\n",
            "        - PTRATIO  pupil-teacher ratio by town\n",
            "        - B        1000(Bk - 0.63)^2 where Bk is the proportion of blacks by town\n",
            "        - LSTAT    % lower status of the population\n",
            "        - MEDV     Median value of owner-occupied homes in $1000's\n",
            "\n",
            "    :Missing Attribute Values: None\n",
            "\n",
            "    :Creator: Harrison, D. and Rubinfeld, D.L.\n",
            "\n",
            "This is a copy of UCI ML housing dataset.\n",
            "https://archive.ics.uci.edu/ml/machine-learning-databases/housing/\n",
            "\n",
            "\n",
            "This dataset was taken from the StatLib library which is maintained at Carnegie Mellon University.\n",
            "\n",
            "The Boston house-price data of Harrison, D. and Rubinfeld, D.L. 'Hedonic\n",
            "prices and the demand for clean air', J. Environ. Economics & Management,\n",
            "vol.5, 81-102, 1978.   Used in Belsley, Kuh & Welsch, 'Regression diagnostics\n",
            "...', Wiley, 1980.   N.B. Various transformations are used in the table on\n",
            "pages 244-261 of the latter.\n",
            "\n",
            "The Boston house-price data has been used in many machine learning papers that address regression\n",
            "problems.   \n",
            "     \n",
            ".. topic:: References\n",
            "\n",
            "   - Belsley, Kuh & Welsch, 'Regression diagnostics: Identifying Influential Data and Sources of Collinearity', Wiley, 1980. 244-261.\n",
            "   - Quinlan,R. (1993). Combining Instance-Based and Model-Based Learning. In Proceedings on the Tenth International Conference of Machine Learning, 236-243, University of Massachusetts, Amherst. Morgan Kaufmann.\n",
            "\n"
          ],
          "name": "stdout"
        }
      ]
    },
    {
      "cell_type": "code",
      "metadata": {
        "id": "e1d1cfElD_aD"
      },
      "source": [
        "# cria um dataframe pandas\n",
        "data = pd.DataFrame(boston.data, columns=boston.feature_names)"
      ],
      "execution_count": null,
      "outputs": []
    },
    {
      "cell_type": "markdown",
      "metadata": {
        "id": "2DqDhU9Gdkme"
      },
      "source": [
        "Adicionando a coluna que será nossa variável alvo"
      ]
    },
    {
      "cell_type": "code",
      "metadata": {
        "id": "WaGqRi0vElWS"
      },
      "source": [
        "# adiciona a variável MEDV\n",
        "data['MEDV'] = boston.target"
      ],
      "execution_count": null,
      "outputs": []
    },
    {
      "cell_type": "code",
      "metadata": {
        "id": "caKPkl_SFil0"
      },
      "source": [
        "# filtra os top 16 maiores registro da coluna MEDV\n",
        "top16 = data.nlargest(16, 'MEDV').index"
      ],
      "execution_count": null,
      "outputs": []
    },
    {
      "cell_type": "code",
      "metadata": {
        "id": "cicsUFf4OELZ"
      },
      "source": [
        "# remove os valores listados em top16\n",
        "data.drop(top16, inplace=True)"
      ],
      "execution_count": null,
      "outputs": []
    },
    {
      "cell_type": "markdown",
      "metadata": {
        "id": "X2mMG-H_xfCU"
      },
      "source": [
        "**Definindo um Baseline**\n",
        "\n",
        "- `Uma baseline é importante para ter marcos no projeto`.\n",
        "- `Permite uma explicação fácil para todos os envolvidos`.\n",
        "- `É algo que sempre tentaremos ganhar na medida do possível`."
      ]
    },
    {
      "cell_type": "code",
      "metadata": {
        "id": "q-k-jC68Tmra"
      },
      "source": [
        "# converte os dados\n",
        "data.RM = data.RM.astype(int)"
      ],
      "execution_count": null,
      "outputs": []
    },
    {
      "cell_type": "code",
      "metadata": {
        "id": "cA9VCNRnUOPi",
        "colab": {
          "base_uri": "https://localhost:8080/"
        },
        "outputId": "578f9e3c-250d-48f4-ef2f-627003416007"
      },
      "source": [
        "data.info()"
      ],
      "execution_count": null,
      "outputs": [
        {
          "output_type": "stream",
          "text": [
            "<class 'pandas.core.frame.DataFrame'>\n",
            "Int64Index: 490 entries, 0 to 505\n",
            "Data columns (total 14 columns):\n",
            " #   Column   Non-Null Count  Dtype  \n",
            "---  ------   --------------  -----  \n",
            " 0   CRIM     490 non-null    float64\n",
            " 1   ZN       490 non-null    float64\n",
            " 2   INDUS    490 non-null    float64\n",
            " 3   CHAS     490 non-null    float64\n",
            " 4   NOX      490 non-null    float64\n",
            " 5   RM       490 non-null    int64  \n",
            " 6   AGE      490 non-null    float64\n",
            " 7   DIS      490 non-null    float64\n",
            " 8   RAD      490 non-null    float64\n",
            " 9   TAX      490 non-null    float64\n",
            " 10  PTRATIO  490 non-null    float64\n",
            " 11  B        490 non-null    float64\n",
            " 12  LSTAT    490 non-null    float64\n",
            " 13  MEDV     490 non-null    float64\n",
            "dtypes: float64(13), int64(1)\n",
            "memory usage: 57.4 KB\n"
          ],
          "name": "stdout"
        }
      ]
    },
    {
      "cell_type": "code",
      "metadata": {
        "id": "K_-mp-6WtUee",
        "colab": {
          "base_uri": "https://localhost:8080/"
        },
        "outputId": "e35eb415-11ab-4fcf-a55d-04dab2996206"
      },
      "source": [
        "# estatística descritiva da coluna numero de quartos\n",
        "data.RM.describe()"
      ],
      "execution_count": null,
      "outputs": [
        {
          "output_type": "execute_result",
          "data": {
            "text/plain": [
              "count    490.000000\n",
              "mean       5.740816\n",
              "std        0.737657\n",
              "min        3.000000\n",
              "25%        5.000000\n",
              "50%        6.000000\n",
              "75%        6.000000\n",
              "max        8.000000\n",
              "Name: RM, dtype: float64"
            ]
          },
          "metadata": {
            "tags": []
          },
          "execution_count": 12
        }
      ]
    },
    {
      "cell_type": "code",
      "metadata": {
        "id": "HIknobGdtUQR"
      },
      "source": [
        "# definindo a regra para categorizar os dados\n",
        "categorias = []"
      ],
      "execution_count": null,
      "outputs": []
    },
    {
      "cell_type": "code",
      "metadata": {
        "id": "faL-8m1onPP2"
      },
      "source": [
        "# alimenta a lista categorias\n",
        "for i in data.RM.iteritems():\n",
        "  valor = (i[1])\n",
        "  if valor <= 4:\n",
        "    categorias.append('Pequeno')\n",
        "  elif valor < 7:\n",
        "    categorias.append('Medio')\n",
        "  else:\n",
        "    categorias.append('Grande')"
      ],
      "execution_count": null,
      "outputs": []
    },
    {
      "cell_type": "code",
      "metadata": {
        "id": "-nEk0wXeNFWE"
      },
      "source": [
        "# cria a coluna categorias\n",
        "data['categorias'] = categorias"
      ],
      "execution_count": null,
      "outputs": []
    },
    {
      "cell_type": "code",
      "metadata": {
        "id": "i-iVO76sR-am",
        "colab": {
          "base_uri": "https://localhost:8080/"
        },
        "outputId": "681f92e6-bc56-4eaa-dc88-fca858ef977f"
      },
      "source": [
        "# imprime a contagem de categorias\n",
        "data.categorias.value_counts()"
      ],
      "execution_count": null,
      "outputs": [
        {
          "output_type": "execute_result",
          "data": {
            "text/plain": [
              "Medio      424\n",
              "Grande      52\n",
              "Pequeno     14\n",
              "Name: categorias, dtype: int64"
            ]
          },
          "metadata": {
            "tags": []
          },
          "execution_count": 16
        }
      ]
    },
    {
      "cell_type": "code",
      "metadata": {
        "id": "Gxa6OrD8Ht-0"
      },
      "source": [
        "# agrupa as categorias e calcula as médias\n",
        "medias_categorias = data.groupby(by='categorias')['MEDV'].mean()"
      ],
      "execution_count": null,
      "outputs": []
    },
    {
      "cell_type": "code",
      "metadata": {
        "id": "zYMhxnzDIM2X",
        "colab": {
          "base_uri": "https://localhost:8080/"
        },
        "outputId": "08f01cea-c689-42d7-8d2a-56ca14642030"
      },
      "source": [
        "# visualizando a variável medias_categorias\n",
        "medias_categorias"
      ],
      "execution_count": null,
      "outputs": [
        {
          "output_type": "execute_result",
          "data": {
            "text/plain": [
              "categorias\n",
              "Grande     35.719231\n",
              "Medio      20.130425\n",
              "Pequeno    14.921429\n",
              "Name: MEDV, dtype: float64"
            ]
          },
          "metadata": {
            "tags": []
          },
          "execution_count": 18
        }
      ]
    },
    {
      "cell_type": "code",
      "metadata": {
        "id": "wJHkQXozHcYN"
      },
      "source": [
        "# criando o dicionario com chaves medio, grande e pequeno e seus valores\n",
        "dic_baseline = {'Grande': medias_categorias[0], 'Medio': medias_categorias[1], 'Pequeno': medias_categorias[2]}"
      ],
      "execution_count": null,
      "outputs": []
    },
    {
      "cell_type": "code",
      "metadata": {
        "id": "AMrYkM_T7eqS",
        "colab": {
          "base_uri": "https://localhost:8080/"
        },
        "outputId": "94c66220-784a-4fe5-89b3-c0cdb232d81b"
      },
      "source": [
        "# imprime dicionario\n",
        "dic_baseline"
      ],
      "execution_count": null,
      "outputs": [
        {
          "output_type": "execute_result",
          "data": {
            "text/plain": [
              "{'Grande': 35.71923076923077,\n",
              " 'Medio': 20.1304245283019,\n",
              " 'Pequeno': 14.921428571428574}"
            ]
          },
          "metadata": {
            "tags": []
          },
          "execution_count": 20
        }
      ]
    },
    {
      "cell_type": "code",
      "metadata": {
        "id": "7lfDPAmL8kjX"
      },
      "source": [
        "# cria a função retorna baseline\n",
        "def retorna_baseline(num_quartos):\n",
        "  if num_quartos <= 4:\n",
        "    return dic_baseline.get('Pequeno')\n",
        "  elif num_quartos < 7:\n",
        "    return dic_baseline.get('Medio')\n",
        "  else:\n",
        "    return dic_baseline.get('Grande')"
      ],
      "execution_count": null,
      "outputs": []
    },
    {
      "cell_type": "code",
      "metadata": {
        "id": "um5I8oQ2Arhe",
        "colab": {
          "base_uri": "https://localhost:8080/"
        },
        "outputId": "04417cd1-8560-4fac-e81b-c72f934baa1d"
      },
      "source": [
        "# chama a função retorna baseline\n",
        "retorna_baseline(7)"
      ],
      "execution_count": null,
      "outputs": [
        {
          "output_type": "execute_result",
          "data": {
            "text/plain": [
              "35.71923076923077"
            ]
          },
          "metadata": {
            "tags": []
          },
          "execution_count": 22
        }
      ]
    },
    {
      "cell_type": "code",
      "metadata": {
        "id": "785EhcLuCoqw",
        "colab": {
          "base_uri": "https://localhost:8080/"
        },
        "outputId": "09e9ccf8-71c7-459f-e4b1-aceb5a734356"
      },
      "source": [
        "for i in data.RM.iteritems():\n",
        "  n_quartos = i[1]\n",
        "  print('Número de quartos é: {} , Valor médio: {}'.format(n_quartos,retorna_baseline(n_quartos)))"
      ],
      "execution_count": null,
      "outputs": [
        {
          "output_type": "stream",
          "text": [
            "Número de quartos é: 6 , Valor médio: 20.1304245283019\n",
            "Número de quartos é: 6 , Valor médio: 20.1304245283019\n",
            "Número de quartos é: 7 , Valor médio: 35.71923076923077\n",
            "Número de quartos é: 6 , Valor médio: 20.1304245283019\n",
            "Número de quartos é: 7 , Valor médio: 35.71923076923077\n",
            "Número de quartos é: 6 , Valor médio: 20.1304245283019\n",
            "Número de quartos é: 6 , Valor médio: 20.1304245283019\n",
            "Número de quartos é: 6 , Valor médio: 20.1304245283019\n",
            "Número de quartos é: 5 , Valor médio: 20.1304245283019\n",
            "Número de quartos é: 6 , Valor médio: 20.1304245283019\n",
            "Número de quartos é: 6 , Valor médio: 20.1304245283019\n",
            "Número de quartos é: 6 , Valor médio: 20.1304245283019\n",
            "Número de quartos é: 5 , Valor médio: 20.1304245283019\n",
            "Número de quartos é: 5 , Valor médio: 20.1304245283019\n",
            "Número de quartos é: 6 , Valor médio: 20.1304245283019\n",
            "Número de quartos é: 5 , Valor médio: 20.1304245283019\n",
            "Número de quartos é: 5 , Valor médio: 20.1304245283019\n",
            "Número de quartos é: 5 , Valor médio: 20.1304245283019\n",
            "Número de quartos é: 5 , Valor médio: 20.1304245283019\n",
            "Número de quartos é: 5 , Valor médio: 20.1304245283019\n",
            "Número de quartos é: 5 , Valor médio: 20.1304245283019\n",
            "Número de quartos é: 5 , Valor médio: 20.1304245283019\n",
            "Número de quartos é: 6 , Valor médio: 20.1304245283019\n",
            "Número de quartos é: 5 , Valor médio: 20.1304245283019\n",
            "Número de quartos é: 5 , Valor médio: 20.1304245283019\n",
            "Número de quartos é: 5 , Valor médio: 20.1304245283019\n",
            "Número de quartos é: 5 , Valor médio: 20.1304245283019\n",
            "Número de quartos é: 6 , Valor médio: 20.1304245283019\n",
            "Número de quartos é: 6 , Valor médio: 20.1304245283019\n",
            "Número de quartos é: 6 , Valor médio: 20.1304245283019\n",
            "Número de quartos é: 5 , Valor médio: 20.1304245283019\n",
            "Número de quartos é: 6 , Valor médio: 20.1304245283019\n",
            "Número de quartos é: 5 , Valor médio: 20.1304245283019\n",
            "Número de quartos é: 5 , Valor médio: 20.1304245283019\n",
            "Número de quartos é: 6 , Valor médio: 20.1304245283019\n",
            "Número de quartos é: 5 , Valor médio: 20.1304245283019\n",
            "Número de quartos é: 5 , Valor médio: 20.1304245283019\n",
            "Número de quartos é: 5 , Valor médio: 20.1304245283019\n",
            "Número de quartos é: 5 , Valor médio: 20.1304245283019\n",
            "Número de quartos é: 6 , Valor médio: 20.1304245283019\n",
            "Número de quartos é: 7 , Valor médio: 35.71923076923077\n",
            "Número de quartos é: 6 , Valor médio: 20.1304245283019\n",
            "Número de quartos é: 6 , Valor médio: 20.1304245283019\n",
            "Número de quartos é: 6 , Valor médio: 20.1304245283019\n",
            "Número de quartos é: 6 , Valor médio: 20.1304245283019\n",
            "Número de quartos é: 5 , Valor médio: 20.1304245283019\n",
            "Número de quartos é: 5 , Valor médio: 20.1304245283019\n",
            "Número de quartos é: 6 , Valor médio: 20.1304245283019\n",
            "Número de quartos é: 5 , Valor médio: 20.1304245283019\n",
            "Número de quartos é: 5 , Valor médio: 20.1304245283019\n",
            "Número de quartos é: 5 , Valor médio: 20.1304245283019\n",
            "Número de quartos é: 6 , Valor médio: 20.1304245283019\n",
            "Número de quartos é: 6 , Valor médio: 20.1304245283019\n",
            "Número de quartos é: 5 , Valor médio: 20.1304245283019\n",
            "Número de quartos é: 5 , Valor médio: 20.1304245283019\n",
            "Número de quartos é: 7 , Valor médio: 35.71923076923077\n",
            "Número de quartos é: 6 , Valor médio: 20.1304245283019\n",
            "Número de quartos é: 6 , Valor médio: 20.1304245283019\n",
            "Número de quartos é: 6 , Valor médio: 20.1304245283019\n",
            "Número de quartos é: 5 , Valor médio: 20.1304245283019\n",
            "Número de quartos é: 5 , Valor médio: 20.1304245283019\n",
            "Número de quartos é: 5 , Valor médio: 20.1304245283019\n",
            "Número de quartos é: 6 , Valor médio: 20.1304245283019\n",
            "Número de quartos é: 6 , Valor médio: 20.1304245283019\n",
            "Número de quartos é: 7 , Valor médio: 35.71923076923077\n",
            "Número de quartos é: 6 , Valor médio: 20.1304245283019\n",
            "Número de quartos é: 5 , Valor médio: 20.1304245283019\n",
            "Número de quartos é: 5 , Valor médio: 20.1304245283019\n",
            "Número de quartos é: 5 , Valor médio: 20.1304245283019\n",
            "Número de quartos é: 5 , Valor médio: 20.1304245283019\n",
            "Número de quartos é: 6 , Valor médio: 20.1304245283019\n",
            "Número de quartos é: 5 , Valor médio: 20.1304245283019\n",
            "Número de quartos é: 6 , Valor médio: 20.1304245283019\n",
            "Número de quartos é: 6 , Valor médio: 20.1304245283019\n",
            "Número de quartos é: 6 , Valor médio: 20.1304245283019\n",
            "Número de quartos é: 6 , Valor médio: 20.1304245283019\n",
            "Número de quartos é: 6 , Valor médio: 20.1304245283019\n",
            "Número de quartos é: 6 , Valor médio: 20.1304245283019\n",
            "Número de quartos é: 6 , Valor médio: 20.1304245283019\n",
            "Número de quartos é: 5 , Valor médio: 20.1304245283019\n",
            "Número de quartos é: 6 , Valor médio: 20.1304245283019\n",
            "Número de quartos é: 6 , Valor médio: 20.1304245283019\n",
            "Número de quartos é: 6 , Valor médio: 20.1304245283019\n",
            "Número de quartos é: 6 , Valor médio: 20.1304245283019\n",
            "Número de quartos é: 6 , Valor médio: 20.1304245283019\n",
            "Número de quartos é: 6 , Valor médio: 20.1304245283019\n",
            "Número de quartos é: 6 , Valor médio: 20.1304245283019\n",
            "Número de quartos é: 6 , Valor médio: 20.1304245283019\n",
            "Número de quartos é: 7 , Valor médio: 35.71923076923077\n",
            "Número de quartos é: 7 , Valor médio: 35.71923076923077\n",
            "Número de quartos é: 6 , Valor médio: 20.1304245283019\n",
            "Número de quartos é: 6 , Valor médio: 20.1304245283019\n",
            "Número de quartos é: 6 , Valor médio: 20.1304245283019\n",
            "Número de quartos é: 6 , Valor médio: 20.1304245283019\n",
            "Número de quartos é: 6 , Valor médio: 20.1304245283019\n",
            "Número de quartos é: 6 , Valor médio: 20.1304245283019\n",
            "Número de quartos é: 6 , Valor médio: 20.1304245283019\n",
            "Número de quartos é: 8 , Valor médio: 35.71923076923077\n",
            "Número de quartos é: 7 , Valor médio: 35.71923076923077\n",
            "Número de quartos é: 7 , Valor médio: 35.71923076923077\n",
            "Número de quartos é: 6 , Valor médio: 20.1304245283019\n",
            "Número de quartos é: 6 , Valor médio: 20.1304245283019\n",
            "Número de quartos é: 6 , Valor médio: 20.1304245283019\n",
            "Número de quartos é: 6 , Valor médio: 20.1304245283019\n",
            "Número de quartos é: 6 , Valor médio: 20.1304245283019\n",
            "Número de quartos é: 5 , Valor médio: 20.1304245283019\n",
            "Número de quartos é: 5 , Valor médio: 20.1304245283019\n",
            "Número de quartos é: 6 , Valor médio: 20.1304245283019\n",
            "Número de quartos é: 6 , Valor médio: 20.1304245283019\n",
            "Número de quartos é: 6 , Valor médio: 20.1304245283019\n",
            "Número de quartos é: 6 , Valor médio: 20.1304245283019\n",
            "Número de quartos é: 6 , Valor médio: 20.1304245283019\n",
            "Número de quartos é: 5 , Valor médio: 20.1304245283019\n",
            "Número de quartos é: 6 , Valor médio: 20.1304245283019\n",
            "Número de quartos é: 6 , Valor médio: 20.1304245283019\n",
            "Número de quartos é: 5 , Valor médio: 20.1304245283019\n",
            "Número de quartos é: 6 , Valor médio: 20.1304245283019\n",
            "Número de quartos é: 6 , Valor médio: 20.1304245283019\n",
            "Número de quartos é: 5 , Valor médio: 20.1304245283019\n",
            "Número de quartos é: 5 , Valor médio: 20.1304245283019\n",
            "Número de quartos é: 5 , Valor médio: 20.1304245283019\n",
            "Número de quartos é: 6 , Valor médio: 20.1304245283019\n",
            "Número de quartos é: 5 , Valor médio: 20.1304245283019\n",
            "Número de quartos é: 5 , Valor médio: 20.1304245283019\n",
            "Número de quartos é: 5 , Valor médio: 20.1304245283019\n",
            "Número de quartos é: 5 , Valor médio: 20.1304245283019\n",
            "Número de quartos é: 5 , Valor médio: 20.1304245283019\n",
            "Número de quartos é: 5 , Valor médio: 20.1304245283019\n",
            "Número de quartos é: 6 , Valor médio: 20.1304245283019\n",
            "Número de quartos é: 5 , Valor médio: 20.1304245283019\n",
            "Número de quartos é: 6 , Valor médio: 20.1304245283019\n",
            "Número de quartos é: 6 , Valor médio: 20.1304245283019\n",
            "Número de quartos é: 6 , Valor médio: 20.1304245283019\n",
            "Número de quartos é: 5 , Valor médio: 20.1304245283019\n",
            "Número de quartos é: 5 , Valor médio: 20.1304245283019\n",
            "Número de quartos é: 6 , Valor médio: 20.1304245283019\n",
            "Número de quartos é: 5 , Valor médio: 20.1304245283019\n",
            "Número de quartos é: 6 , Valor médio: 20.1304245283019\n",
            "Número de quartos é: 5 , Valor médio: 20.1304245283019\n",
            "Número de quartos é: 6 , Valor médio: 20.1304245283019\n",
            "Número de quartos é: 6 , Valor médio: 20.1304245283019\n",
            "Número de quartos é: 5 , Valor médio: 20.1304245283019\n",
            "Número de quartos é: 5 , Valor médio: 20.1304245283019\n",
            "Número de quartos é: 5 , Valor médio: 20.1304245283019\n",
            "Número de quartos é: 4 , Valor médio: 14.921428571428574\n",
            "Número de quartos é: 6 , Valor médio: 20.1304245283019\n",
            "Número de quartos é: 5 , Valor médio: 20.1304245283019\n",
            "Número de quartos é: 4 , Valor médio: 14.921428571428574\n",
            "Número de quartos é: 5 , Valor médio: 20.1304245283019\n",
            "Número de quartos é: 5 , Valor médio: 20.1304245283019\n",
            "Número de quartos é: 6 , Valor médio: 20.1304245283019\n",
            "Número de quartos é: 5 , Valor médio: 20.1304245283019\n",
            "Número de quartos é: 5 , Valor médio: 20.1304245283019\n",
            "Número de quartos é: 5 , Valor médio: 20.1304245283019\n",
            "Número de quartos é: 6 , Valor médio: 20.1304245283019\n",
            "Número de quartos é: 6 , Valor médio: 20.1304245283019\n",
            "Número de quartos é: 5 , Valor médio: 20.1304245283019\n",
            "Número de quartos é: 6 , Valor médio: 20.1304245283019\n",
            "Número de quartos é: 6 , Valor médio: 20.1304245283019\n",
            "Número de quartos é: 6 , Valor médio: 20.1304245283019\n",
            "Número de quartos é: 6 , Valor médio: 20.1304245283019\n",
            "Número de quartos é: 5 , Valor médio: 20.1304245283019\n",
            "Número de quartos é: 6 , Valor médio: 20.1304245283019\n",
            "Número de quartos é: 5 , Valor médio: 20.1304245283019\n",
            "Número de quartos é: 6 , Valor médio: 20.1304245283019\n",
            "Número de quartos é: 6 , Valor médio: 20.1304245283019\n",
            "Número de quartos é: 5 , Valor médio: 20.1304245283019\n",
            "Número de quartos é: 5 , Valor médio: 20.1304245283019\n",
            "Número de quartos é: 5 , Valor médio: 20.1304245283019\n",
            "Número de quartos é: 6 , Valor médio: 20.1304245283019\n",
            "Número de quartos é: 5 , Valor médio: 20.1304245283019\n",
            "Número de quartos é: 6 , Valor médio: 20.1304245283019\n",
            "Número de quartos é: 6 , Valor médio: 20.1304245283019\n",
            "Número de quartos é: 6 , Valor médio: 20.1304245283019\n",
            "Número de quartos é: 6 , Valor médio: 20.1304245283019\n",
            "Número de quartos é: 6 , Valor médio: 20.1304245283019\n",
            "Número de quartos é: 7 , Valor médio: 35.71923076923077\n",
            "Número de quartos é: 6 , Valor médio: 20.1304245283019\n",
            "Número de quartos é: 7 , Valor médio: 35.71923076923077\n",
            "Número de quartos é: 6 , Valor médio: 20.1304245283019\n",
            "Número de quartos é: 5 , Valor médio: 20.1304245283019\n",
            "Número de quartos é: 6 , Valor médio: 20.1304245283019\n",
            "Número de quartos é: 6 , Valor médio: 20.1304245283019\n",
            "Número de quartos é: 6 , Valor médio: 20.1304245283019\n",
            "Número de quartos é: 7 , Valor médio: 35.71923076923077\n",
            "Número de quartos é: 6 , Valor médio: 20.1304245283019\n",
            "Número de quartos é: 6 , Valor médio: 20.1304245283019\n",
            "Número de quartos é: 7 , Valor médio: 35.71923076923077\n",
            "Número de quartos é: 6 , Valor médio: 20.1304245283019\n",
            "Número de quartos é: 6 , Valor médio: 20.1304245283019\n",
            "Número de quartos é: 7 , Valor médio: 35.71923076923077\n",
            "Número de quartos é: 7 , Valor médio: 35.71923076923077\n",
            "Número de quartos é: 7 , Valor médio: 35.71923076923077\n",
            "Número de quartos é: 6 , Valor médio: 20.1304245283019\n",
            "Número de quartos é: 7 , Valor médio: 35.71923076923077\n",
            "Número de quartos é: 6 , Valor médio: 20.1304245283019\n",
            "Número de quartos é: 7 , Valor médio: 35.71923076923077\n",
            "Número de quartos é: 7 , Valor médio: 35.71923076923077\n",
            "Número de quartos é: 5 , Valor médio: 20.1304245283019\n",
            "Número de quartos é: 6 , Valor médio: 20.1304245283019\n",
            "Número de quartos é: 5 , Valor médio: 20.1304245283019\n",
            "Número de quartos é: 6 , Valor médio: 20.1304245283019\n",
            "Número de quartos é: 5 , Valor médio: 20.1304245283019\n",
            "Número de quartos é: 5 , Valor médio: 20.1304245283019\n",
            "Número de quartos é: 5 , Valor médio: 20.1304245283019\n",
            "Número de quartos é: 5 , Valor médio: 20.1304245283019\n",
            "Número de quartos é: 6 , Valor médio: 20.1304245283019\n",
            "Número de quartos é: 5 , Valor médio: 20.1304245283019\n",
            "Número de quartos é: 6 , Valor médio: 20.1304245283019\n",
            "Número de quartos é: 5 , Valor médio: 20.1304245283019\n",
            "Número de quartos é: 6 , Valor médio: 20.1304245283019\n",
            "Número de quartos é: 5 , Valor médio: 20.1304245283019\n",
            "Número de quartos é: 6 , Valor médio: 20.1304245283019\n",
            "Número de quartos é: 6 , Valor médio: 20.1304245283019\n",
            "Número de quartos é: 6 , Valor médio: 20.1304245283019\n",
            "Número de quartos é: 6 , Valor médio: 20.1304245283019\n",
            "Número de quartos é: 6 , Valor médio: 20.1304245283019\n",
            "Número de quartos é: 8 , Valor médio: 35.71923076923077\n",
            "Número de quartos é: 8 , Valor médio: 35.71923076923077\n",
            "Número de quartos é: 7 , Valor médio: 35.71923076923077\n",
            "Número de quartos é: 7 , Valor médio: 35.71923076923077\n",
            "Número de quartos é: 6 , Valor médio: 20.1304245283019\n",
            "Número de quartos é: 5 , Valor médio: 20.1304245283019\n",
            "Número de quartos é: 7 , Valor médio: 35.71923076923077\n",
            "Número de quartos é: 8 , Valor médio: 35.71923076923077\n",
            "Número de quartos é: 8 , Valor médio: 35.71923076923077\n",
            "Número de quartos é: 6 , Valor médio: 20.1304245283019\n",
            "Número de quartos é: 6 , Valor médio: 20.1304245283019\n",
            "Número de quartos é: 6 , Valor médio: 20.1304245283019\n",
            "Número de quartos é: 7 , Valor médio: 35.71923076923077\n",
            "Número de quartos é: 6 , Valor médio: 20.1304245283019\n",
            "Número de quartos é: 6 , Valor médio: 20.1304245283019\n",
            "Número de quartos é: 6 , Valor médio: 20.1304245283019\n",
            "Número de quartos é: 6 , Valor médio: 20.1304245283019\n",
            "Número de quartos é: 6 , Valor médio: 20.1304245283019\n",
            "Número de quartos é: 6 , Valor médio: 20.1304245283019\n",
            "Número de quartos é: 5 , Valor médio: 20.1304245283019\n",
            "Número de quartos é: 5 , Valor médio: 20.1304245283019\n",
            "Número de quartos é: 6 , Valor médio: 20.1304245283019\n",
            "Número de quartos é: 6 , Valor médio: 20.1304245283019\n",
            "Número de quartos é: 6 , Valor médio: 20.1304245283019\n",
            "Número de quartos é: 6 , Valor médio: 20.1304245283019\n",
            "Número de quartos é: 6 , Valor médio: 20.1304245283019\n",
            "Número de quartos é: 6 , Valor médio: 20.1304245283019\n",
            "Número de quartos é: 6 , Valor médio: 20.1304245283019\n",
            "Número de quartos é: 8 , Valor médio: 35.71923076923077\n",
            "Número de quartos é: 6 , Valor médio: 20.1304245283019\n",
            "Número de quartos é: 5 , Valor médio: 20.1304245283019\n",
            "Número de quartos é: 7 , Valor médio: 35.71923076923077\n",
            "Número de quartos é: 7 , Valor médio: 35.71923076923077\n",
            "Número de quartos é: 6 , Valor médio: 20.1304245283019\n",
            "Número de quartos é: 7 , Valor médio: 35.71923076923077\n",
            "Número de quartos é: 7 , Valor médio: 35.71923076923077\n",
            "Número de quartos é: 8 , Valor médio: 35.71923076923077\n",
            "Número de quartos é: 7 , Valor médio: 35.71923076923077\n",
            "Número de quartos é: 7 , Valor médio: 35.71923076923077\n",
            "Número de quartos é: 5 , Valor médio: 20.1304245283019\n",
            "Número de quartos é: 7 , Valor médio: 35.71923076923077\n",
            "Número de quartos é: 7 , Valor médio: 35.71923076923077\n",
            "Número de quartos é: 5 , Valor médio: 20.1304245283019\n",
            "Número de quartos é: 5 , Valor médio: 20.1304245283019\n",
            "Número de quartos é: 6 , Valor médio: 20.1304245283019\n",
            "Número de quartos é: 6 , Valor médio: 20.1304245283019\n",
            "Número de quartos é: 7 , Valor médio: 35.71923076923077\n",
            "Número de quartos é: 6 , Valor médio: 20.1304245283019\n",
            "Número de quartos é: 6 , Valor médio: 20.1304245283019\n",
            "Número de quartos é: 7 , Valor médio: 35.71923076923077\n",
            "Número de quartos é: 6 , Valor médio: 20.1304245283019\n",
            "Número de quartos é: 6 , Valor médio: 20.1304245283019\n",
            "Número de quartos é: 6 , Valor médio: 20.1304245283019\n",
            "Número de quartos é: 7 , Valor médio: 35.71923076923077\n",
            "Número de quartos é: 6 , Valor médio: 20.1304245283019\n",
            "Número de quartos é: 7 , Valor médio: 35.71923076923077\n",
            "Número de quartos é: 7 , Valor médio: 35.71923076923077\n",
            "Número de quartos é: 6 , Valor médio: 20.1304245283019\n",
            "Número de quartos é: 6 , Valor médio: 20.1304245283019\n",
            "Número de quartos é: 6 , Valor médio: 20.1304245283019\n",
            "Número de quartos é: 6 , Valor médio: 20.1304245283019\n",
            "Número de quartos é: 6 , Valor médio: 20.1304245283019\n",
            "Número de quartos é: 6 , Valor médio: 20.1304245283019\n",
            "Número de quartos é: 7 , Valor médio: 35.71923076923077\n",
            "Número de quartos é: 6 , Valor médio: 20.1304245283019\n",
            "Número de quartos é: 6 , Valor médio: 20.1304245283019\n",
            "Número de quartos é: 6 , Valor médio: 20.1304245283019\n",
            "Número de quartos é: 6 , Valor médio: 20.1304245283019\n",
            "Número de quartos é: 6 , Valor médio: 20.1304245283019\n",
            "Número de quartos é: 5 , Valor médio: 20.1304245283019\n",
            "Número de quartos é: 6 , Valor médio: 20.1304245283019\n",
            "Número de quartos é: 7 , Valor médio: 35.71923076923077\n",
            "Número de quartos é: 6 , Valor médio: 20.1304245283019\n",
            "Número de quartos é: 6 , Valor médio: 20.1304245283019\n",
            "Número de quartos é: 6 , Valor médio: 20.1304245283019\n",
            "Número de quartos é: 6 , Valor médio: 20.1304245283019\n",
            "Número de quartos é: 7 , Valor médio: 35.71923076923077\n",
            "Número de quartos é: 6 , Valor médio: 20.1304245283019\n",
            "Número de quartos é: 7 , Valor médio: 35.71923076923077\n",
            "Número de quartos é: 6 , Valor médio: 20.1304245283019\n",
            "Número de quartos é: 6 , Valor médio: 20.1304245283019\n",
            "Número de quartos é: 5 , Valor médio: 20.1304245283019\n",
            "Número de quartos é: 4 , Valor médio: 14.921428571428574\n",
            "Número de quartos é: 6 , Valor médio: 20.1304245283019\n",
            "Número de quartos é: 6 , Valor médio: 20.1304245283019\n",
            "Número de quartos é: 6 , Valor médio: 20.1304245283019\n",
            "Número de quartos é: 6 , Valor médio: 20.1304245283019\n",
            "Número de quartos é: 5 , Valor médio: 20.1304245283019\n",
            "Número de quartos é: 5 , Valor médio: 20.1304245283019\n",
            "Número de quartos é: 5 , Valor médio: 20.1304245283019\n",
            "Número de quartos é: 6 , Valor médio: 20.1304245283019\n",
            "Número de quartos é: 6 , Valor médio: 20.1304245283019\n",
            "Número de quartos é: 6 , Valor médio: 20.1304245283019\n",
            "Número de quartos é: 6 , Valor médio: 20.1304245283019\n",
            "Número de quartos é: 6 , Valor médio: 20.1304245283019\n",
            "Número de quartos é: 5 , Valor médio: 20.1304245283019\n",
            "Número de quartos é: 6 , Valor médio: 20.1304245283019\n",
            "Número de quartos é: 6 , Valor médio: 20.1304245283019\n",
            "Número de quartos é: 6 , Valor médio: 20.1304245283019\n",
            "Número de quartos é: 6 , Valor médio: 20.1304245283019\n",
            "Número de quartos é: 5 , Valor médio: 20.1304245283019\n",
            "Número de quartos é: 6 , Valor médio: 20.1304245283019\n",
            "Número de quartos é: 6 , Valor médio: 20.1304245283019\n",
            "Número de quartos é: 5 , Valor médio: 20.1304245283019\n",
            "Número de quartos é: 6 , Valor médio: 20.1304245283019\n",
            "Número de quartos é: 6 , Valor médio: 20.1304245283019\n",
            "Número de quartos é: 6 , Valor médio: 20.1304245283019\n",
            "Número de quartos é: 6 , Valor médio: 20.1304245283019\n",
            "Número de quartos é: 5 , Valor médio: 20.1304245283019\n",
            "Número de quartos é: 5 , Valor médio: 20.1304245283019\n",
            "Número de quartos é: 6 , Valor médio: 20.1304245283019\n",
            "Número de quartos é: 5 , Valor médio: 20.1304245283019\n",
            "Número de quartos é: 5 , Valor médio: 20.1304245283019\n",
            "Número de quartos é: 7 , Valor médio: 35.71923076923077\n",
            "Número de quartos é: 6 , Valor médio: 20.1304245283019\n",
            "Número de quartos é: 6 , Valor médio: 20.1304245283019\n",
            "Número de quartos é: 6 , Valor médio: 20.1304245283019\n",
            "Número de quartos é: 6 , Valor médio: 20.1304245283019\n",
            "Número de quartos é: 5 , Valor médio: 20.1304245283019\n",
            "Número de quartos é: 6 , Valor médio: 20.1304245283019\n",
            "Número de quartos é: 6 , Valor médio: 20.1304245283019\n",
            "Número de quartos é: 6 , Valor médio: 20.1304245283019\n",
            "Número de quartos é: 6 , Valor médio: 20.1304245283019\n",
            "Número de quartos é: 6 , Valor médio: 20.1304245283019\n",
            "Número de quartos é: 5 , Valor médio: 20.1304245283019\n",
            "Número de quartos é: 6 , Valor médio: 20.1304245283019\n",
            "Número de quartos é: 5 , Valor médio: 20.1304245283019\n",
            "Número de quartos é: 5 , Valor médio: 20.1304245283019\n",
            "Número de quartos é: 6 , Valor médio: 20.1304245283019\n",
            "Número de quartos é: 6 , Valor médio: 20.1304245283019\n",
            "Número de quartos é: 6 , Valor médio: 20.1304245283019\n",
            "Número de quartos é: 6 , Valor médio: 20.1304245283019\n",
            "Número de quartos é: 6 , Valor médio: 20.1304245283019\n",
            "Número de quartos é: 6 , Valor médio: 20.1304245283019\n",
            "Número de quartos é: 5 , Valor médio: 20.1304245283019\n",
            "Número de quartos é: 5 , Valor médio: 20.1304245283019\n",
            "Número de quartos é: 8 , Valor médio: 35.71923076923077\n",
            "Número de quartos é: 3 , Valor médio: 14.921428571428574\n",
            "Número de quartos é: 4 , Valor médio: 14.921428571428574\n",
            "Número de quartos é: 3 , Valor médio: 14.921428571428574\n",
            "Número de quartos é: 4 , Valor médio: 14.921428571428574\n",
            "Número de quartos é: 4 , Valor médio: 14.921428571428574\n",
            "Número de quartos é: 7 , Valor médio: 35.71923076923077\n",
            "Número de quartos é: 6 , Valor médio: 20.1304245283019\n",
            "Número de quartos é: 6 , Valor médio: 20.1304245283019\n",
            "Número de quartos é: 6 , Valor médio: 20.1304245283019\n",
            "Número de quartos é: 6 , Valor médio: 20.1304245283019\n",
            "Número de quartos é: 6 , Valor médio: 20.1304245283019\n",
            "Número de quartos é: 6 , Valor médio: 20.1304245283019\n",
            "Número de quartos é: 5 , Valor médio: 20.1304245283019\n",
            "Número de quartos é: 5 , Valor médio: 20.1304245283019\n",
            "Número de quartos é: 4 , Valor médio: 14.921428571428574\n",
            "Número de quartos é: 5 , Valor médio: 20.1304245283019\n",
            "Número de quartos é: 4 , Valor médio: 14.921428571428574\n",
            "Número de quartos é: 5 , Valor médio: 20.1304245283019\n",
            "Número de quartos é: 4 , Valor médio: 14.921428571428574\n",
            "Número de quartos é: 5 , Valor médio: 20.1304245283019\n",
            "Número de quartos é: 5 , Valor médio: 20.1304245283019\n",
            "Número de quartos é: 6 , Valor médio: 20.1304245283019\n",
            "Número de quartos é: 5 , Valor médio: 20.1304245283019\n",
            "Número de quartos é: 6 , Valor médio: 20.1304245283019\n",
            "Número de quartos é: 5 , Valor médio: 20.1304245283019\n",
            "Número de quartos é: 6 , Valor médio: 20.1304245283019\n",
            "Número de quartos é: 6 , Valor médio: 20.1304245283019\n",
            "Número de quartos é: 5 , Valor médio: 20.1304245283019\n",
            "Número de quartos é: 5 , Valor médio: 20.1304245283019\n",
            "Número de quartos é: 5 , Valor médio: 20.1304245283019\n",
            "Número de quartos é: 5 , Valor médio: 20.1304245283019\n",
            "Número de quartos é: 6 , Valor médio: 20.1304245283019\n",
            "Número de quartos é: 6 , Valor médio: 20.1304245283019\n",
            "Número de quartos é: 5 , Valor médio: 20.1304245283019\n",
            "Número de quartos é: 5 , Valor médio: 20.1304245283019\n",
            "Número de quartos é: 5 , Valor médio: 20.1304245283019\n",
            "Número de quartos é: 4 , Valor médio: 14.921428571428574\n",
            "Número de quartos é: 5 , Valor médio: 20.1304245283019\n",
            "Número de quartos é: 5 , Valor médio: 20.1304245283019\n",
            "Número de quartos é: 6 , Valor médio: 20.1304245283019\n",
            "Número de quartos é: 5 , Valor médio: 20.1304245283019\n",
            "Número de quartos é: 6 , Valor médio: 20.1304245283019\n",
            "Número de quartos é: 4 , Valor médio: 14.921428571428574\n",
            "Número de quartos é: 5 , Valor médio: 20.1304245283019\n",
            "Número de quartos é: 4 , Valor médio: 14.921428571428574\n",
            "Número de quartos é: 6 , Valor médio: 20.1304245283019\n",
            "Número de quartos é: 6 , Valor médio: 20.1304245283019\n",
            "Número de quartos é: 5 , Valor médio: 20.1304245283019\n",
            "Número de quartos é: 5 , Valor médio: 20.1304245283019\n",
            "Número de quartos é: 6 , Valor médio: 20.1304245283019\n",
            "Número de quartos é: 6 , Valor médio: 20.1304245283019\n",
            "Número de quartos é: 6 , Valor médio: 20.1304245283019\n",
            "Número de quartos é: 5 , Valor médio: 20.1304245283019\n",
            "Número de quartos é: 6 , Valor médio: 20.1304245283019\n",
            "Número de quartos é: 5 , Valor médio: 20.1304245283019\n",
            "Número de quartos é: 5 , Valor médio: 20.1304245283019\n",
            "Número de quartos é: 5 , Valor médio: 20.1304245283019\n",
            "Número de quartos é: 6 , Valor médio: 20.1304245283019\n",
            "Número de quartos é: 6 , Valor médio: 20.1304245283019\n",
            "Número de quartos é: 6 , Valor médio: 20.1304245283019\n",
            "Número de quartos é: 6 , Valor médio: 20.1304245283019\n",
            "Número de quartos é: 6 , Valor médio: 20.1304245283019\n",
            "Número de quartos é: 6 , Valor médio: 20.1304245283019\n",
            "Número de quartos é: 6 , Valor médio: 20.1304245283019\n",
            "Número de quartos é: 6 , Valor médio: 20.1304245283019\n",
            "Número de quartos é: 6 , Valor médio: 20.1304245283019\n",
            "Número de quartos é: 6 , Valor médio: 20.1304245283019\n",
            "Número de quartos é: 6 , Valor médio: 20.1304245283019\n",
            "Número de quartos é: 5 , Valor médio: 20.1304245283019\n",
            "Número de quartos é: 5 , Valor médio: 20.1304245283019\n",
            "Número de quartos é: 5 , Valor médio: 20.1304245283019\n",
            "Número de quartos é: 6 , Valor médio: 20.1304245283019\n",
            "Número de quartos é: 6 , Valor médio: 20.1304245283019\n",
            "Número de quartos é: 6 , Valor médio: 20.1304245283019\n",
            "Número de quartos é: 5 , Valor médio: 20.1304245283019\n",
            "Número de quartos é: 6 , Valor médio: 20.1304245283019\n",
            "Número de quartos é: 6 , Valor médio: 20.1304245283019\n",
            "Número de quartos é: 6 , Valor médio: 20.1304245283019\n",
            "Número de quartos é: 6 , Valor médio: 20.1304245283019\n",
            "Número de quartos é: 6 , Valor médio: 20.1304245283019\n",
            "Número de quartos é: 6 , Valor médio: 20.1304245283019\n",
            "Número de quartos é: 6 , Valor médio: 20.1304245283019\n",
            "Número de quartos é: 6 , Valor médio: 20.1304245283019\n",
            "Número de quartos é: 7 , Valor médio: 35.71923076923077\n",
            "Número de quartos é: 6 , Valor médio: 20.1304245283019\n",
            "Número de quartos é: 6 , Valor médio: 20.1304245283019\n",
            "Número de quartos é: 5 , Valor médio: 20.1304245283019\n",
            "Número de quartos é: 5 , Valor médio: 20.1304245283019\n",
            "Número de quartos é: 6 , Valor médio: 20.1304245283019\n",
            "Número de quartos é: 6 , Valor médio: 20.1304245283019\n",
            "Número de quartos é: 6 , Valor médio: 20.1304245283019\n",
            "Número de quartos é: 6 , Valor médio: 20.1304245283019\n",
            "Número de quartos é: 6 , Valor médio: 20.1304245283019\n",
            "Número de quartos é: 6 , Valor médio: 20.1304245283019\n",
            "Número de quartos é: 6 , Valor médio: 20.1304245283019\n",
            "Número de quartos é: 5 , Valor médio: 20.1304245283019\n",
            "Número de quartos é: 5 , Valor médio: 20.1304245283019\n",
            "Número de quartos é: 6 , Valor médio: 20.1304245283019\n",
            "Número de quartos é: 5 , Valor médio: 20.1304245283019\n",
            "Número de quartos é: 5 , Valor médio: 20.1304245283019\n",
            "Número de quartos é: 6 , Valor médio: 20.1304245283019\n",
            "Número de quartos é: 6 , Valor médio: 20.1304245283019\n",
            "Número de quartos é: 6 , Valor médio: 20.1304245283019\n",
            "Número de quartos é: 6 , Valor médio: 20.1304245283019\n",
            "Número de quartos é: 5 , Valor médio: 20.1304245283019\n",
            "Número de quartos é: 6 , Valor médio: 20.1304245283019\n",
            "Número de quartos é: 6 , Valor médio: 20.1304245283019\n",
            "Número de quartos é: 5 , Valor médio: 20.1304245283019\n",
            "Número de quartos é: 6 , Valor médio: 20.1304245283019\n",
            "Número de quartos é: 6 , Valor médio: 20.1304245283019\n",
            "Número de quartos é: 6 , Valor médio: 20.1304245283019\n",
            "Número de quartos é: 6 , Valor médio: 20.1304245283019\n",
            "Número de quartos é: 7 , Valor médio: 35.71923076923077\n",
            "Número de quartos é: 5 , Valor médio: 20.1304245283019\n",
            "Número de quartos é: 5 , Valor médio: 20.1304245283019\n",
            "Número de quartos é: 6 , Valor médio: 20.1304245283019\n",
            "Número de quartos é: 6 , Valor médio: 20.1304245283019\n",
            "Número de quartos é: 5 , Valor médio: 20.1304245283019\n",
            "Número de quartos é: 5 , Valor médio: 20.1304245283019\n",
            "Número de quartos é: 5 , Valor médio: 20.1304245283019\n",
            "Número de quartos é: 5 , Valor médio: 20.1304245283019\n",
            "Número de quartos é: 5 , Valor médio: 20.1304245283019\n",
            "Número de quartos é: 5 , Valor médio: 20.1304245283019\n",
            "Número de quartos é: 5 , Valor médio: 20.1304245283019\n",
            "Número de quartos é: 5 , Valor médio: 20.1304245283019\n",
            "Número de quartos é: 5 , Valor médio: 20.1304245283019\n",
            "Número de quartos é: 5 , Valor médio: 20.1304245283019\n",
            "Número de quartos é: 5 , Valor médio: 20.1304245283019\n",
            "Número de quartos é: 6 , Valor médio: 20.1304245283019\n",
            "Número de quartos é: 5 , Valor médio: 20.1304245283019\n",
            "Número de quartos é: 6 , Valor médio: 20.1304245283019\n",
            "Número de quartos é: 6 , Valor médio: 20.1304245283019\n",
            "Número de quartos é: 6 , Valor médio: 20.1304245283019\n",
            "Número de quartos é: 6 , Valor médio: 20.1304245283019\n",
            "Número de quartos é: 6 , Valor médio: 20.1304245283019\n",
            "Número de quartos é: 6 , Valor médio: 20.1304245283019\n"
          ],
          "name": "stdout"
        }
      ]
    },
    {
      "cell_type": "code",
      "metadata": {
        "id": "7Is3KDjcXzBG",
        "colab": {
          "base_uri": "https://localhost:8080/",
          "height": 204
        },
        "outputId": "26c57ebc-7552-4606-9bc4-8760066448aa"
      },
      "source": [
        "# imprime as 5 primeiras linhas do dataframe\n",
        "data.head()"
      ],
      "execution_count": null,
      "outputs": [
        {
          "output_type": "execute_result",
          "data": {
            "text/html": [
              "<div>\n",
              "<style scoped>\n",
              "    .dataframe tbody tr th:only-of-type {\n",
              "        vertical-align: middle;\n",
              "    }\n",
              "\n",
              "    .dataframe tbody tr th {\n",
              "        vertical-align: top;\n",
              "    }\n",
              "\n",
              "    .dataframe thead th {\n",
              "        text-align: right;\n",
              "    }\n",
              "</style>\n",
              "<table border=\"1\" class=\"dataframe\">\n",
              "  <thead>\n",
              "    <tr style=\"text-align: right;\">\n",
              "      <th></th>\n",
              "      <th>CRIM</th>\n",
              "      <th>ZN</th>\n",
              "      <th>INDUS</th>\n",
              "      <th>CHAS</th>\n",
              "      <th>NOX</th>\n",
              "      <th>RM</th>\n",
              "      <th>AGE</th>\n",
              "      <th>DIS</th>\n",
              "      <th>RAD</th>\n",
              "      <th>TAX</th>\n",
              "      <th>PTRATIO</th>\n",
              "      <th>B</th>\n",
              "      <th>LSTAT</th>\n",
              "      <th>MEDV</th>\n",
              "      <th>categorias</th>\n",
              "    </tr>\n",
              "  </thead>\n",
              "  <tbody>\n",
              "    <tr>\n",
              "      <th>0</th>\n",
              "      <td>0.00632</td>\n",
              "      <td>18.0</td>\n",
              "      <td>2.31</td>\n",
              "      <td>0.0</td>\n",
              "      <td>0.538</td>\n",
              "      <td>6</td>\n",
              "      <td>65.2</td>\n",
              "      <td>4.0900</td>\n",
              "      <td>1.0</td>\n",
              "      <td>296.0</td>\n",
              "      <td>15.3</td>\n",
              "      <td>396.90</td>\n",
              "      <td>4.98</td>\n",
              "      <td>24.0</td>\n",
              "      <td>Medio</td>\n",
              "    </tr>\n",
              "    <tr>\n",
              "      <th>1</th>\n",
              "      <td>0.02731</td>\n",
              "      <td>0.0</td>\n",
              "      <td>7.07</td>\n",
              "      <td>0.0</td>\n",
              "      <td>0.469</td>\n",
              "      <td>6</td>\n",
              "      <td>78.9</td>\n",
              "      <td>4.9671</td>\n",
              "      <td>2.0</td>\n",
              "      <td>242.0</td>\n",
              "      <td>17.8</td>\n",
              "      <td>396.90</td>\n",
              "      <td>9.14</td>\n",
              "      <td>21.6</td>\n",
              "      <td>Medio</td>\n",
              "    </tr>\n",
              "    <tr>\n",
              "      <th>2</th>\n",
              "      <td>0.02729</td>\n",
              "      <td>0.0</td>\n",
              "      <td>7.07</td>\n",
              "      <td>0.0</td>\n",
              "      <td>0.469</td>\n",
              "      <td>7</td>\n",
              "      <td>61.1</td>\n",
              "      <td>4.9671</td>\n",
              "      <td>2.0</td>\n",
              "      <td>242.0</td>\n",
              "      <td>17.8</td>\n",
              "      <td>392.83</td>\n",
              "      <td>4.03</td>\n",
              "      <td>34.7</td>\n",
              "      <td>Grande</td>\n",
              "    </tr>\n",
              "    <tr>\n",
              "      <th>3</th>\n",
              "      <td>0.03237</td>\n",
              "      <td>0.0</td>\n",
              "      <td>2.18</td>\n",
              "      <td>0.0</td>\n",
              "      <td>0.458</td>\n",
              "      <td>6</td>\n",
              "      <td>45.8</td>\n",
              "      <td>6.0622</td>\n",
              "      <td>3.0</td>\n",
              "      <td>222.0</td>\n",
              "      <td>18.7</td>\n",
              "      <td>394.63</td>\n",
              "      <td>2.94</td>\n",
              "      <td>33.4</td>\n",
              "      <td>Medio</td>\n",
              "    </tr>\n",
              "    <tr>\n",
              "      <th>4</th>\n",
              "      <td>0.06905</td>\n",
              "      <td>0.0</td>\n",
              "      <td>2.18</td>\n",
              "      <td>0.0</td>\n",
              "      <td>0.458</td>\n",
              "      <td>7</td>\n",
              "      <td>54.2</td>\n",
              "      <td>6.0622</td>\n",
              "      <td>3.0</td>\n",
              "      <td>222.0</td>\n",
              "      <td>18.7</td>\n",
              "      <td>396.90</td>\n",
              "      <td>5.33</td>\n",
              "      <td>36.2</td>\n",
              "      <td>Grande</td>\n",
              "    </tr>\n",
              "  </tbody>\n",
              "</table>\n",
              "</div>"
            ],
            "text/plain": [
              "      CRIM    ZN  INDUS  CHAS    NOX  ...  PTRATIO       B  LSTAT  MEDV  categorias\n",
              "0  0.00632  18.0   2.31   0.0  0.538  ...     15.3  396.90   4.98  24.0       Medio\n",
              "1  0.02731   0.0   7.07   0.0  0.469  ...     17.8  396.90   9.14  21.6       Medio\n",
              "2  0.02729   0.0   7.07   0.0  0.469  ...     17.8  392.83   4.03  34.7      Grande\n",
              "3  0.03237   0.0   2.18   0.0  0.458  ...     18.7  394.63   2.94  33.4       Medio\n",
              "4  0.06905   0.0   2.18   0.0  0.458  ...     18.7  396.90   5.33  36.2      Grande\n",
              "\n",
              "[5 rows x 15 columns]"
            ]
          },
          "metadata": {
            "tags": []
          },
          "execution_count": 24
        }
      ]
    },
    {
      "cell_type": "markdown",
      "metadata": {
        "id": "SaYmsVtotcF_"
      },
      "source": [
        "### Trabalhando com a baseline"
      ]
    },
    {
      "cell_type": "markdown",
      "metadata": {
        "id": "SXXetS7AHiXz"
      },
      "source": [
        "Preparando os dados"
      ]
    },
    {
      "cell_type": "code",
      "metadata": {
        "id": "vxOb-hwYFFJx"
      },
      "source": [
        "# variável 'y' é nossa variável alvo\n",
        "y = data['MEDV']"
      ],
      "execution_count": null,
      "outputs": []
    },
    {
      "cell_type": "code",
      "metadata": {
        "id": "Ai2si0SMFKVX"
      },
      "source": [
        "# remove as colunas colineares, variavel alvo e a coluna categorias\n",
        "X = data.drop(['RAD','TAX','MEDV','DIS','AGE','ZN','categorias'], axis=1)"
      ],
      "execution_count": null,
      "outputs": []
    },
    {
      "cell_type": "code",
      "metadata": {
        "id": "EhagncsDLyk-",
        "colab": {
          "base_uri": "https://localhost:8080/",
          "height": 204
        },
        "outputId": "e16a0200-dd62-4d7d-c0b7-9f700b900bab"
      },
      "source": [
        "# Dados na variável X\n",
        "X.head()"
      ],
      "execution_count": null,
      "outputs": [
        {
          "output_type": "execute_result",
          "data": {
            "text/html": [
              "<div>\n",
              "<style scoped>\n",
              "    .dataframe tbody tr th:only-of-type {\n",
              "        vertical-align: middle;\n",
              "    }\n",
              "\n",
              "    .dataframe tbody tr th {\n",
              "        vertical-align: top;\n",
              "    }\n",
              "\n",
              "    .dataframe thead th {\n",
              "        text-align: right;\n",
              "    }\n",
              "</style>\n",
              "<table border=\"1\" class=\"dataframe\">\n",
              "  <thead>\n",
              "    <tr style=\"text-align: right;\">\n",
              "      <th></th>\n",
              "      <th>CRIM</th>\n",
              "      <th>INDUS</th>\n",
              "      <th>CHAS</th>\n",
              "      <th>NOX</th>\n",
              "      <th>RM</th>\n",
              "      <th>PTRATIO</th>\n",
              "      <th>B</th>\n",
              "      <th>LSTAT</th>\n",
              "    </tr>\n",
              "  </thead>\n",
              "  <tbody>\n",
              "    <tr>\n",
              "      <th>0</th>\n",
              "      <td>0.00632</td>\n",
              "      <td>2.31</td>\n",
              "      <td>0.0</td>\n",
              "      <td>0.538</td>\n",
              "      <td>6</td>\n",
              "      <td>15.3</td>\n",
              "      <td>396.90</td>\n",
              "      <td>4.98</td>\n",
              "    </tr>\n",
              "    <tr>\n",
              "      <th>1</th>\n",
              "      <td>0.02731</td>\n",
              "      <td>7.07</td>\n",
              "      <td>0.0</td>\n",
              "      <td>0.469</td>\n",
              "      <td>6</td>\n",
              "      <td>17.8</td>\n",
              "      <td>396.90</td>\n",
              "      <td>9.14</td>\n",
              "    </tr>\n",
              "    <tr>\n",
              "      <th>2</th>\n",
              "      <td>0.02729</td>\n",
              "      <td>7.07</td>\n",
              "      <td>0.0</td>\n",
              "      <td>0.469</td>\n",
              "      <td>7</td>\n",
              "      <td>17.8</td>\n",
              "      <td>392.83</td>\n",
              "      <td>4.03</td>\n",
              "    </tr>\n",
              "    <tr>\n",
              "      <th>3</th>\n",
              "      <td>0.03237</td>\n",
              "      <td>2.18</td>\n",
              "      <td>0.0</td>\n",
              "      <td>0.458</td>\n",
              "      <td>6</td>\n",
              "      <td>18.7</td>\n",
              "      <td>394.63</td>\n",
              "      <td>2.94</td>\n",
              "    </tr>\n",
              "    <tr>\n",
              "      <th>4</th>\n",
              "      <td>0.06905</td>\n",
              "      <td>2.18</td>\n",
              "      <td>0.0</td>\n",
              "      <td>0.458</td>\n",
              "      <td>7</td>\n",
              "      <td>18.7</td>\n",
              "      <td>396.90</td>\n",
              "      <td>5.33</td>\n",
              "    </tr>\n",
              "  </tbody>\n",
              "</table>\n",
              "</div>"
            ],
            "text/plain": [
              "      CRIM  INDUS  CHAS    NOX  RM  PTRATIO       B  LSTAT\n",
              "0  0.00632   2.31   0.0  0.538   6     15.3  396.90   4.98\n",
              "1  0.02731   7.07   0.0  0.469   6     17.8  396.90   9.14\n",
              "2  0.02729   7.07   0.0  0.469   7     17.8  392.83   4.03\n",
              "3  0.03237   2.18   0.0  0.458   6     18.7  394.63   2.94\n",
              "4  0.06905   2.18   0.0  0.458   7     18.7  396.90   5.33"
            ]
          },
          "metadata": {
            "tags": []
          },
          "execution_count": 27
        }
      ]
    },
    {
      "cell_type": "code",
      "metadata": {
        "id": "W3He9wgaL5W7",
        "colab": {
          "base_uri": "https://localhost:8080/"
        },
        "outputId": "757b67cb-0e9c-4fee-9b15-ddd9347de693"
      },
      "source": [
        "# Variável alvo\n",
        "y.head()"
      ],
      "execution_count": null,
      "outputs": [
        {
          "output_type": "execute_result",
          "data": {
            "text/plain": [
              "0    24.0\n",
              "1    21.6\n",
              "2    34.7\n",
              "3    33.4\n",
              "4    36.2\n",
              "Name: MEDV, dtype: float64"
            ]
          },
          "metadata": {
            "tags": []
          },
          "execution_count": 31
        }
      ]
    },
    {
      "cell_type": "markdown",
      "metadata": {
        "id": "B0I1geDbH2cV"
      },
      "source": [
        "Separando os conjuntos de treino e teste"
      ]
    },
    {
      "cell_type": "code",
      "metadata": {
        "id": "13W2Fe2PfoK2"
      },
      "source": [
        "# carrega o método train_test_split\n",
        "from sklearn.model_selection import train_test_split"
      ],
      "execution_count": null,
      "outputs": []
    },
    {
      "cell_type": "code",
      "metadata": {
        "id": "FaFtnr62AJ74"
      },
      "source": [
        "# divide os dados entre o conjunto de treino e teste, 80% e 20% respectivamente.\n",
        "# define qualquer valor para o parâmetro random_state.\n",
        "X_train, X_test, y_train, y_test = train_test_split(X, y, test_size = 0.2, random_state=5)"
      ],
      "execution_count": null,
      "outputs": []
    },
    {
      "cell_type": "code",
      "metadata": {
        "id": "BiUsFzXQAJ38",
        "colab": {
          "base_uri": "https://localhost:8080/"
        },
        "outputId": "da2e61f4-17c2-4281-9b76-6605c146662c"
      },
      "source": [
        "# imprime a quantidade de linhas dos conjuntos\n",
        "print ('X_train: numero de linhas e colunas: {}'.format(X_train.shape))\n",
        "print ('X_test: numero de linhas e colunas: {}'.format(X_test.shape))\n",
        "print ('y_train: numero de linhas e colunas: {}'.format(y_train.shape))\n",
        "print ('y_test: numero de linhas e colunas: {}'.format(y_test.shape))"
      ],
      "execution_count": null,
      "outputs": [
        {
          "output_type": "stream",
          "text": [
            "X_train: numero de linhas e colunas: (392, 8)\n",
            "X_test: numero de linhas e colunas: (98, 8)\n",
            "y_train: numero de linhas e colunas: (392,)\n",
            "y_test: numero de linhas e colunas: (98,)\n"
          ],
          "name": "stdout"
        }
      ]
    },
    {
      "cell_type": "markdown",
      "metadata": {
        "id": "Wu94wESmFQqy"
      },
      "source": [
        "Modelo de baseline"
      ]
    },
    {
      "cell_type": "code",
      "metadata": {
        "id": "FI97hd4HFPtR",
        "colab": {
          "base_uri": "https://localhost:8080/",
          "height": 204
        },
        "outputId": "b7cb0fd1-5d64-46db-cf79-c6996a60cf71"
      },
      "source": [
        "# imprimindo as 5 primeiras linhas dos dados de teste\n",
        "X_test.head()"
      ],
      "execution_count": null,
      "outputs": [
        {
          "output_type": "execute_result",
          "data": {
            "text/html": [
              "<div>\n",
              "<style scoped>\n",
              "    .dataframe tbody tr th:only-of-type {\n",
              "        vertical-align: middle;\n",
              "    }\n",
              "\n",
              "    .dataframe tbody tr th {\n",
              "        vertical-align: top;\n",
              "    }\n",
              "\n",
              "    .dataframe thead th {\n",
              "        text-align: right;\n",
              "    }\n",
              "</style>\n",
              "<table border=\"1\" class=\"dataframe\">\n",
              "  <thead>\n",
              "    <tr style=\"text-align: right;\">\n",
              "      <th></th>\n",
              "      <th>CRIM</th>\n",
              "      <th>INDUS</th>\n",
              "      <th>CHAS</th>\n",
              "      <th>NOX</th>\n",
              "      <th>RM</th>\n",
              "      <th>PTRATIO</th>\n",
              "      <th>B</th>\n",
              "      <th>LSTAT</th>\n",
              "    </tr>\n",
              "  </thead>\n",
              "  <tbody>\n",
              "    <tr>\n",
              "      <th>245</th>\n",
              "      <td>0.19133</td>\n",
              "      <td>5.86</td>\n",
              "      <td>0.0</td>\n",
              "      <td>0.431</td>\n",
              "      <td>5</td>\n",
              "      <td>19.1</td>\n",
              "      <td>389.13</td>\n",
              "      <td>18.46</td>\n",
              "    </tr>\n",
              "    <tr>\n",
              "      <th>456</th>\n",
              "      <td>4.66883</td>\n",
              "      <td>18.10</td>\n",
              "      <td>0.0</td>\n",
              "      <td>0.713</td>\n",
              "      <td>5</td>\n",
              "      <td>20.2</td>\n",
              "      <td>10.48</td>\n",
              "      <td>19.01</td>\n",
              "    </tr>\n",
              "    <tr>\n",
              "      <th>75</th>\n",
              "      <td>0.09512</td>\n",
              "      <td>12.83</td>\n",
              "      <td>0.0</td>\n",
              "      <td>0.437</td>\n",
              "      <td>6</td>\n",
              "      <td>18.7</td>\n",
              "      <td>383.23</td>\n",
              "      <td>8.94</td>\n",
              "    </tr>\n",
              "    <tr>\n",
              "      <th>238</th>\n",
              "      <td>0.08244</td>\n",
              "      <td>4.93</td>\n",
              "      <td>0.0</td>\n",
              "      <td>0.428</td>\n",
              "      <td>6</td>\n",
              "      <td>16.6</td>\n",
              "      <td>379.41</td>\n",
              "      <td>6.36</td>\n",
              "    </tr>\n",
              "    <tr>\n",
              "      <th>362</th>\n",
              "      <td>3.67822</td>\n",
              "      <td>18.10</td>\n",
              "      <td>0.0</td>\n",
              "      <td>0.770</td>\n",
              "      <td>5</td>\n",
              "      <td>20.2</td>\n",
              "      <td>380.79</td>\n",
              "      <td>10.19</td>\n",
              "    </tr>\n",
              "  </tbody>\n",
              "</table>\n",
              "</div>"
            ],
            "text/plain": [
              "        CRIM  INDUS  CHAS    NOX  RM  PTRATIO       B  LSTAT\n",
              "245  0.19133   5.86   0.0  0.431   5     19.1  389.13  18.46\n",
              "456  4.66883  18.10   0.0  0.713   5     20.2   10.48  19.01\n",
              "75   0.09512  12.83   0.0  0.437   6     18.7  383.23   8.94\n",
              "238  0.08244   4.93   0.0  0.428   6     16.6  379.41   6.36\n",
              "362  3.67822  18.10   0.0  0.770   5     20.2  380.79  10.19"
            ]
          },
          "metadata": {
            "tags": []
          },
          "execution_count": 35
        }
      ]
    },
    {
      "cell_type": "code",
      "metadata": {
        "id": "vRGvzY2jFbvD"
      },
      "source": [
        "# definindo uma lista de predicoes\n",
        "predicoes = []"
      ],
      "execution_count": null,
      "outputs": []
    },
    {
      "cell_type": "code",
      "metadata": {
        "id": "xZ09WeQcGdL0"
      },
      "source": [
        "# para cada elemento do teste alimenta a lista predicoes\n",
        "for i in X_test.RM.iteritems():\n",
        "  n_quartos = i[1]\n",
        "  predicoes.append(retorna_baseline(n_quartos))"
      ],
      "execution_count": null,
      "outputs": []
    },
    {
      "cell_type": "code",
      "metadata": {
        "id": "Zn-1qKZYF16H",
        "colab": {
          "base_uri": "https://localhost:8080/"
        },
        "outputId": "6ffa26d3-d0de-4d50-cd3c-69be14c46beb"
      },
      "source": [
        "# imprime as 10 primeiras linhas da lista de predicoes\n",
        "predicoes[:10]"
      ],
      "execution_count": null,
      "outputs": [
        {
          "output_type": "execute_result",
          "data": {
            "text/plain": [
              "[20.1304245283019,\n",
              " 20.1304245283019,\n",
              " 20.1304245283019,\n",
              " 20.1304245283019,\n",
              " 20.1304245283019,\n",
              " 20.1304245283019,\n",
              " 20.1304245283019,\n",
              " 20.1304245283019,\n",
              " 35.71923076923077,\n",
              " 35.71923076923077]"
            ]
          },
          "metadata": {
            "tags": []
          },
          "execution_count": 40
        }
      ]
    },
    {
      "cell_type": "markdown",
      "metadata": {
        "id": "CM3QVVQ-Ug5L"
      },
      "source": [
        "Atribuindo resultados a um dataframe\n",
        "\n",
        "-   `Manteremos um log ao longo do projeto`\n",
        "-   `Permite a evolução dado o baseline`\n",
        "\n"
      ]
    },
    {
      "cell_type": "code",
      "metadata": {
        "id": "dMr0oUucnuy-"
      },
      "source": [
        "# cria um dataframe vazio\n",
        "df_results = pd.DataFrame()"
      ],
      "execution_count": null,
      "outputs": []
    },
    {
      "cell_type": "code",
      "metadata": {
        "id": "9T5FnjHnUDTA"
      },
      "source": [
        "# adiciona a coluna valor_real\n",
        "df_results['valor_real'] = y_test.values"
      ],
      "execution_count": null,
      "outputs": []
    },
    {
      "cell_type": "code",
      "metadata": {
        "id": "seteWjL0UDL3"
      },
      "source": [
        "# cria a coluna valor_predito_baseline com as predicoes\n",
        "df_results['valor_predito_baseline'] = predicoes"
      ],
      "execution_count": null,
      "outputs": []
    },
    {
      "cell_type": "code",
      "metadata": {
        "id": "6e34IoHyUC77",
        "colab": {
          "base_uri": "https://localhost:8080/",
          "height": 359
        },
        "outputId": "ac004cc8-2da2-4ab5-9bbc-e4f22142c902"
      },
      "source": [
        "# imprimindo as 10 primeiras linhas do df_results\n",
        "df_results.head(10)"
      ],
      "execution_count": null,
      "outputs": [
        {
          "output_type": "execute_result",
          "data": {
            "text/html": [
              "<div>\n",
              "<style scoped>\n",
              "    .dataframe tbody tr th:only-of-type {\n",
              "        vertical-align: middle;\n",
              "    }\n",
              "\n",
              "    .dataframe tbody tr th {\n",
              "        vertical-align: top;\n",
              "    }\n",
              "\n",
              "    .dataframe thead th {\n",
              "        text-align: right;\n",
              "    }\n",
              "</style>\n",
              "<table border=\"1\" class=\"dataframe\">\n",
              "  <thead>\n",
              "    <tr style=\"text-align: right;\">\n",
              "      <th></th>\n",
              "      <th>valor_real</th>\n",
              "      <th>valor_predito_baseline</th>\n",
              "    </tr>\n",
              "  </thead>\n",
              "  <tbody>\n",
              "    <tr>\n",
              "      <th>0</th>\n",
              "      <td>18.5</td>\n",
              "      <td>20.130425</td>\n",
              "    </tr>\n",
              "    <tr>\n",
              "      <th>1</th>\n",
              "      <td>12.7</td>\n",
              "      <td>20.130425</td>\n",
              "    </tr>\n",
              "    <tr>\n",
              "      <th>2</th>\n",
              "      <td>21.4</td>\n",
              "      <td>20.130425</td>\n",
              "    </tr>\n",
              "    <tr>\n",
              "      <th>3</th>\n",
              "      <td>23.7</td>\n",
              "      <td>20.130425</td>\n",
              "    </tr>\n",
              "    <tr>\n",
              "      <th>4</th>\n",
              "      <td>20.8</td>\n",
              "      <td>20.130425</td>\n",
              "    </tr>\n",
              "    <tr>\n",
              "      <th>5</th>\n",
              "      <td>25.0</td>\n",
              "      <td>20.130425</td>\n",
              "    </tr>\n",
              "    <tr>\n",
              "      <th>6</th>\n",
              "      <td>9.7</td>\n",
              "      <td>20.130425</td>\n",
              "    </tr>\n",
              "    <tr>\n",
              "      <th>7</th>\n",
              "      <td>14.9</td>\n",
              "      <td>20.130425</td>\n",
              "    </tr>\n",
              "    <tr>\n",
              "      <th>8</th>\n",
              "      <td>34.9</td>\n",
              "      <td>35.719231</td>\n",
              "    </tr>\n",
              "    <tr>\n",
              "      <th>9</th>\n",
              "      <td>31.6</td>\n",
              "      <td>35.719231</td>\n",
              "    </tr>\n",
              "  </tbody>\n",
              "</table>\n",
              "</div>"
            ],
            "text/plain": [
              "   valor_real  valor_predito_baseline\n",
              "0        18.5               20.130425\n",
              "1        12.7               20.130425\n",
              "2        21.4               20.130425\n",
              "3        23.7               20.130425\n",
              "4        20.8               20.130425\n",
              "5        25.0               20.130425\n",
              "6         9.7               20.130425\n",
              "7        14.9               20.130425\n",
              "8        34.9               35.719231\n",
              "9        31.6               35.719231"
            ]
          },
          "metadata": {
            "tags": []
          },
          "execution_count": 44
        }
      ]
    },
    {
      "cell_type": "markdown",
      "metadata": {
        "id": "HNRa3fuzVX_6"
      },
      "source": [
        "Plota o valor real e o baseline"
      ]
    },
    {
      "cell_type": "code",
      "metadata": {
        "id": "wcrc2krAVJCN",
        "colab": {
          "base_uri": "https://localhost:8080/",
          "height": 542
        },
        "outputId": "eaf9256a-238f-4be8-d6a4-e406b7ef07a3"
      },
      "source": [
        "import plotly.graph_objects as go\n",
        "\n",
        "# Create traces\n",
        "fig = go.Figure()\n",
        "\n",
        "# Linha com os dados de teste\n",
        "fig.add_trace(go.Scatter(x=df_results.index,\n",
        "                         y=df_results.valor_real,\n",
        "                         mode='lines+markers',\n",
        "                         name='Valor Real'))\n",
        "\n",
        "# Linha com os dados preditos\n",
        "fig.add_trace(go.Scatter(x=df_results.index,\n",
        "                         y=df_results.valor_predito_baseline,\n",
        "                         mode='lines+markers',\n",
        "                         name='Valor Predito Baseline'))\n",
        "# Plota a figura\n",
        "fig.show()"
      ],
      "execution_count": null,
      "outputs": [
        {
          "output_type": "display_data",
          "data": {
            "text/html": [
              "<html>\n",
              "<head><meta charset=\"utf-8\" /></head>\n",
              "<body>\n",
              "    <div>\n",
              "            <script src=\"https://cdnjs.cloudflare.com/ajax/libs/mathjax/2.7.5/MathJax.js?config=TeX-AMS-MML_SVG\"></script><script type=\"text/javascript\">if (window.MathJax) {MathJax.Hub.Config({SVG: {font: \"STIX-Web\"}});}</script>\n",
              "                <script type=\"text/javascript\">window.PlotlyConfig = {MathJaxConfig: 'local'};</script>\n",
              "        <script src=\"https://cdn.plot.ly/plotly-latest.min.js\"></script>    \n",
              "            <div id=\"dce2c1b6-5802-48d5-8ad0-58abf4abd25d\" class=\"plotly-graph-div\" style=\"height:525px; width:100%;\"></div>\n",
              "            <script type=\"text/javascript\">\n",
              "                \n",
              "                    window.PLOTLYENV=window.PLOTLYENV || {};\n",
              "                    \n",
              "                if (document.getElementById(\"dce2c1b6-5802-48d5-8ad0-58abf4abd25d\")) {\n",
              "                    Plotly.newPlot(\n",
              "                        'dce2c1b6-5802-48d5-8ad0-58abf4abd25d',\n",
              "                        [{\"mode\": \"lines+markers\", \"name\": \"Valor Real\", \"type\": \"scatter\", \"x\": [0, 1, 2, 3, 4, 5, 6, 7, 8, 9, 10, 11, 12, 13, 14, 15, 16, 17, 18, 19, 20, 21, 22, 23, 24, 25, 26, 27, 28, 29, 30, 31, 32, 33, 34, 35, 36, 37, 38, 39, 40, 41, 42, 43, 44, 45, 46, 47, 48, 49, 50, 51, 52, 53, 54, 55, 56, 57, 58, 59, 60, 61, 62, 63, 64, 65, 66, 67, 68, 69, 70, 71, 72, 73, 74, 75, 76, 77, 78, 79, 80, 81, 82, 83, 84, 85, 86, 87, 88, 89, 90, 91, 92, 93, 94, 95, 96, 97], \"y\": [18.5, 12.7, 21.4, 23.7, 20.8, 25.0, 9.7, 14.9, 34.9, 31.6, 24.7, 22.9, 33.2, 9.6, 30.5, 19.2, 30.3, 15.4, 24.3, 24.4, 21.5, 27.9, 17.3, 21.4, 21.7, 24.4, 8.5, 15.0, 11.5, 13.6, 24.4, 7.4, 44.0, 21.7, 19.3, 16.1, 29.0, 26.4, 20.3, 10.8, 5.0, 19.6, 23.1, 23.9, 17.5, 13.5, 48.8, 26.2, 19.7, 14.2, 11.0, 19.0, 21.7, 18.4, 33.4, 14.0, 24.7, 43.8, 48.5, 25.0, 22.6, 21.2, 22.4, 23.8, 19.9, 16.5, 16.7, 17.2, 13.1, 19.1, 18.5, 22.2, 22.6, 19.4, 15.2, 19.8, 19.4, 21.6, 18.2, 19.6, 19.6, 23.0, 7.0, 17.6, 25.0, 41.3, 24.1, 22.6, 18.7, 22.6, 13.1, 22.2, 16.1, 39.8, 25.0, 20.5, 10.4, 20.4]}, {\"mode\": \"lines+markers\", \"name\": \"Valor Predito Baseline\", \"type\": \"scatter\", \"x\": [0, 1, 2, 3, 4, 5, 6, 7, 8, 9, 10, 11, 12, 13, 14, 15, 16, 17, 18, 19, 20, 21, 22, 23, 24, 25, 26, 27, 28, 29, 30, 31, 32, 33, 34, 35, 36, 37, 38, 39, 40, 41, 42, 43, 44, 45, 46, 47, 48, 49, 50, 51, 52, 53, 54, 55, 56, 57, 58, 59, 60, 61, 62, 63, 64, 65, 66, 67, 68, 69, 70, 71, 72, 73, 74, 75, 76, 77, 78, 79, 80, 81, 82, 83, 84, 85, 86, 87, 88, 89, 90, 91, 92, 93, 94, 95, 96, 97], \"y\": [20.1304245283019, 20.1304245283019, 20.1304245283019, 20.1304245283019, 20.1304245283019, 20.1304245283019, 20.1304245283019, 20.1304245283019, 35.71923076923077, 35.71923076923077, 20.1304245283019, 20.1304245283019, 35.71923076923077, 20.1304245283019, 20.1304245283019, 20.1304245283019, 35.71923076923077, 20.1304245283019, 20.1304245283019, 20.1304245283019, 20.1304245283019, 20.1304245283019, 20.1304245283019, 20.1304245283019, 20.1304245283019, 20.1304245283019, 20.1304245283019, 35.71923076923077, 20.1304245283019, 20.1304245283019, 20.1304245283019, 20.1304245283019, 35.71923076923077, 20.1304245283019, 20.1304245283019, 14.921428571428574, 35.71923076923077, 20.1304245283019, 20.1304245283019, 20.1304245283019, 20.1304245283019, 20.1304245283019, 20.1304245283019, 20.1304245283019, 20.1304245283019, 20.1304245283019, 35.71923076923077, 20.1304245283019, 20.1304245283019, 20.1304245283019, 20.1304245283019, 20.1304245283019, 20.1304245283019, 20.1304245283019, 35.71923076923077, 20.1304245283019, 20.1304245283019, 35.71923076923077, 35.71923076923077, 20.1304245283019, 20.1304245283019, 20.1304245283019, 20.1304245283019, 20.1304245283019, 20.1304245283019, 20.1304245283019, 20.1304245283019, 20.1304245283019, 20.1304245283019, 20.1304245283019, 20.1304245283019, 20.1304245283019, 20.1304245283019, 20.1304245283019, 20.1304245283019, 20.1304245283019, 20.1304245283019, 20.1304245283019, 20.1304245283019, 20.1304245283019, 20.1304245283019, 20.1304245283019, 14.921428571428574, 20.1304245283019, 20.1304245283019, 20.1304245283019, 20.1304245283019, 20.1304245283019, 20.1304245283019, 20.1304245283019, 20.1304245283019, 20.1304245283019, 20.1304245283019, 35.71923076923077, 35.71923076923077, 20.1304245283019, 20.1304245283019, 20.1304245283019]}],\n",
              "                        {\"template\": {\"data\": {\"bar\": [{\"error_x\": {\"color\": \"#2a3f5f\"}, \"error_y\": {\"color\": \"#2a3f5f\"}, \"marker\": {\"line\": {\"color\": \"#E5ECF6\", \"width\": 0.5}}, \"type\": \"bar\"}], \"barpolar\": [{\"marker\": {\"line\": {\"color\": \"#E5ECF6\", \"width\": 0.5}}, \"type\": \"barpolar\"}], \"carpet\": [{\"aaxis\": {\"endlinecolor\": \"#2a3f5f\", \"gridcolor\": \"white\", \"linecolor\": \"white\", \"minorgridcolor\": \"white\", \"startlinecolor\": \"#2a3f5f\"}, \"baxis\": {\"endlinecolor\": \"#2a3f5f\", \"gridcolor\": \"white\", \"linecolor\": \"white\", \"minorgridcolor\": \"white\", \"startlinecolor\": \"#2a3f5f\"}, \"type\": \"carpet\"}], \"choropleth\": [{\"colorbar\": {\"outlinewidth\": 0, \"ticks\": \"\"}, \"type\": \"choropleth\"}], \"contour\": [{\"colorbar\": {\"outlinewidth\": 0, \"ticks\": \"\"}, \"colorscale\": [[0.0, \"#0d0887\"], [0.1111111111111111, \"#46039f\"], [0.2222222222222222, \"#7201a8\"], [0.3333333333333333, \"#9c179e\"], [0.4444444444444444, \"#bd3786\"], [0.5555555555555556, \"#d8576b\"], [0.6666666666666666, \"#ed7953\"], [0.7777777777777778, \"#fb9f3a\"], [0.8888888888888888, \"#fdca26\"], [1.0, \"#f0f921\"]], \"type\": \"contour\"}], \"contourcarpet\": [{\"colorbar\": {\"outlinewidth\": 0, \"ticks\": \"\"}, \"type\": \"contourcarpet\"}], \"heatmap\": [{\"colorbar\": {\"outlinewidth\": 0, \"ticks\": \"\"}, \"colorscale\": [[0.0, \"#0d0887\"], [0.1111111111111111, \"#46039f\"], [0.2222222222222222, \"#7201a8\"], [0.3333333333333333, \"#9c179e\"], [0.4444444444444444, \"#bd3786\"], [0.5555555555555556, \"#d8576b\"], [0.6666666666666666, \"#ed7953\"], [0.7777777777777778, \"#fb9f3a\"], [0.8888888888888888, \"#fdca26\"], [1.0, \"#f0f921\"]], \"type\": \"heatmap\"}], \"heatmapgl\": [{\"colorbar\": {\"outlinewidth\": 0, \"ticks\": \"\"}, \"colorscale\": [[0.0, \"#0d0887\"], [0.1111111111111111, \"#46039f\"], [0.2222222222222222, \"#7201a8\"], [0.3333333333333333, \"#9c179e\"], [0.4444444444444444, \"#bd3786\"], [0.5555555555555556, \"#d8576b\"], [0.6666666666666666, \"#ed7953\"], [0.7777777777777778, \"#fb9f3a\"], [0.8888888888888888, \"#fdca26\"], [1.0, \"#f0f921\"]], \"type\": \"heatmapgl\"}], \"histogram\": [{\"marker\": {\"colorbar\": {\"outlinewidth\": 0, \"ticks\": \"\"}}, \"type\": \"histogram\"}], \"histogram2d\": [{\"colorbar\": {\"outlinewidth\": 0, \"ticks\": \"\"}, \"colorscale\": [[0.0, \"#0d0887\"], [0.1111111111111111, \"#46039f\"], [0.2222222222222222, \"#7201a8\"], [0.3333333333333333, \"#9c179e\"], [0.4444444444444444, \"#bd3786\"], [0.5555555555555556, \"#d8576b\"], [0.6666666666666666, \"#ed7953\"], [0.7777777777777778, \"#fb9f3a\"], [0.8888888888888888, \"#fdca26\"], [1.0, \"#f0f921\"]], \"type\": \"histogram2d\"}], \"histogram2dcontour\": [{\"colorbar\": {\"outlinewidth\": 0, \"ticks\": \"\"}, \"colorscale\": [[0.0, \"#0d0887\"], [0.1111111111111111, \"#46039f\"], [0.2222222222222222, \"#7201a8\"], [0.3333333333333333, \"#9c179e\"], [0.4444444444444444, \"#bd3786\"], [0.5555555555555556, \"#d8576b\"], [0.6666666666666666, \"#ed7953\"], [0.7777777777777778, \"#fb9f3a\"], [0.8888888888888888, \"#fdca26\"], [1.0, \"#f0f921\"]], \"type\": \"histogram2dcontour\"}], \"mesh3d\": [{\"colorbar\": {\"outlinewidth\": 0, \"ticks\": \"\"}, \"type\": \"mesh3d\"}], \"parcoords\": [{\"line\": {\"colorbar\": {\"outlinewidth\": 0, \"ticks\": \"\"}}, \"type\": \"parcoords\"}], \"pie\": [{\"automargin\": true, \"type\": \"pie\"}], \"scatter\": [{\"marker\": {\"colorbar\": {\"outlinewidth\": 0, \"ticks\": \"\"}}, \"type\": \"scatter\"}], \"scatter3d\": [{\"line\": {\"colorbar\": {\"outlinewidth\": 0, \"ticks\": \"\"}}, \"marker\": {\"colorbar\": {\"outlinewidth\": 0, \"ticks\": \"\"}}, \"type\": \"scatter3d\"}], \"scattercarpet\": [{\"marker\": {\"colorbar\": {\"outlinewidth\": 0, \"ticks\": \"\"}}, \"type\": \"scattercarpet\"}], \"scattergeo\": [{\"marker\": {\"colorbar\": {\"outlinewidth\": 0, \"ticks\": \"\"}}, \"type\": \"scattergeo\"}], \"scattergl\": [{\"marker\": {\"colorbar\": {\"outlinewidth\": 0, \"ticks\": \"\"}}, \"type\": \"scattergl\"}], \"scattermapbox\": [{\"marker\": {\"colorbar\": {\"outlinewidth\": 0, \"ticks\": \"\"}}, \"type\": \"scattermapbox\"}], \"scatterpolar\": [{\"marker\": {\"colorbar\": {\"outlinewidth\": 0, \"ticks\": \"\"}}, \"type\": \"scatterpolar\"}], \"scatterpolargl\": [{\"marker\": {\"colorbar\": {\"outlinewidth\": 0, \"ticks\": \"\"}}, \"type\": \"scatterpolargl\"}], \"scatterternary\": [{\"marker\": {\"colorbar\": {\"outlinewidth\": 0, \"ticks\": \"\"}}, \"type\": \"scatterternary\"}], \"surface\": [{\"colorbar\": {\"outlinewidth\": 0, \"ticks\": \"\"}, \"colorscale\": [[0.0, \"#0d0887\"], [0.1111111111111111, \"#46039f\"], [0.2222222222222222, \"#7201a8\"], [0.3333333333333333, \"#9c179e\"], [0.4444444444444444, \"#bd3786\"], [0.5555555555555556, \"#d8576b\"], [0.6666666666666666, \"#ed7953\"], [0.7777777777777778, \"#fb9f3a\"], [0.8888888888888888, \"#fdca26\"], [1.0, \"#f0f921\"]], \"type\": \"surface\"}], \"table\": [{\"cells\": {\"fill\": {\"color\": \"#EBF0F8\"}, \"line\": {\"color\": \"white\"}}, \"header\": {\"fill\": {\"color\": \"#C8D4E3\"}, \"line\": {\"color\": \"white\"}}, \"type\": \"table\"}]}, \"layout\": {\"annotationdefaults\": {\"arrowcolor\": \"#2a3f5f\", \"arrowhead\": 0, \"arrowwidth\": 1}, \"coloraxis\": {\"colorbar\": {\"outlinewidth\": 0, \"ticks\": \"\"}}, \"colorscale\": {\"diverging\": [[0, \"#8e0152\"], [0.1, \"#c51b7d\"], [0.2, \"#de77ae\"], [0.3, \"#f1b6da\"], [0.4, \"#fde0ef\"], [0.5, \"#f7f7f7\"], [0.6, \"#e6f5d0\"], [0.7, \"#b8e186\"], [0.8, \"#7fbc41\"], [0.9, \"#4d9221\"], [1, \"#276419\"]], \"sequential\": [[0.0, \"#0d0887\"], [0.1111111111111111, \"#46039f\"], [0.2222222222222222, \"#7201a8\"], [0.3333333333333333, \"#9c179e\"], [0.4444444444444444, \"#bd3786\"], [0.5555555555555556, \"#d8576b\"], [0.6666666666666666, \"#ed7953\"], [0.7777777777777778, \"#fb9f3a\"], [0.8888888888888888, \"#fdca26\"], [1.0, \"#f0f921\"]], \"sequentialminus\": [[0.0, \"#0d0887\"], [0.1111111111111111, \"#46039f\"], [0.2222222222222222, \"#7201a8\"], [0.3333333333333333, \"#9c179e\"], [0.4444444444444444, \"#bd3786\"], [0.5555555555555556, \"#d8576b\"], [0.6666666666666666, \"#ed7953\"], [0.7777777777777778, \"#fb9f3a\"], [0.8888888888888888, \"#fdca26\"], [1.0, \"#f0f921\"]]}, \"colorway\": [\"#636efa\", \"#EF553B\", \"#00cc96\", \"#ab63fa\", \"#FFA15A\", \"#19d3f3\", \"#FF6692\", \"#B6E880\", \"#FF97FF\", \"#FECB52\"], \"font\": {\"color\": \"#2a3f5f\"}, \"geo\": {\"bgcolor\": \"white\", \"lakecolor\": \"white\", \"landcolor\": \"#E5ECF6\", \"showlakes\": true, \"showland\": true, \"subunitcolor\": \"white\"}, \"hoverlabel\": {\"align\": \"left\"}, \"hovermode\": \"closest\", \"mapbox\": {\"style\": \"light\"}, \"paper_bgcolor\": \"white\", \"plot_bgcolor\": \"#E5ECF6\", \"polar\": {\"angularaxis\": {\"gridcolor\": \"white\", \"linecolor\": \"white\", \"ticks\": \"\"}, \"bgcolor\": \"#E5ECF6\", \"radialaxis\": {\"gridcolor\": \"white\", \"linecolor\": \"white\", \"ticks\": \"\"}}, \"scene\": {\"xaxis\": {\"backgroundcolor\": \"#E5ECF6\", \"gridcolor\": \"white\", \"gridwidth\": 2, \"linecolor\": \"white\", \"showbackground\": true, \"ticks\": \"\", \"zerolinecolor\": \"white\"}, \"yaxis\": {\"backgroundcolor\": \"#E5ECF6\", \"gridcolor\": \"white\", \"gridwidth\": 2, \"linecolor\": \"white\", \"showbackground\": true, \"ticks\": \"\", \"zerolinecolor\": \"white\"}, \"zaxis\": {\"backgroundcolor\": \"#E5ECF6\", \"gridcolor\": \"white\", \"gridwidth\": 2, \"linecolor\": \"white\", \"showbackground\": true, \"ticks\": \"\", \"zerolinecolor\": \"white\"}}, \"shapedefaults\": {\"line\": {\"color\": \"#2a3f5f\"}}, \"ternary\": {\"aaxis\": {\"gridcolor\": \"white\", \"linecolor\": \"white\", \"ticks\": \"\"}, \"baxis\": {\"gridcolor\": \"white\", \"linecolor\": \"white\", \"ticks\": \"\"}, \"bgcolor\": \"#E5ECF6\", \"caxis\": {\"gridcolor\": \"white\", \"linecolor\": \"white\", \"ticks\": \"\"}}, \"title\": {\"x\": 0.05}, \"xaxis\": {\"automargin\": true, \"gridcolor\": \"white\", \"linecolor\": \"white\", \"ticks\": \"\", \"title\": {\"standoff\": 15}, \"zerolinecolor\": \"white\", \"zerolinewidth\": 2}, \"yaxis\": {\"automargin\": true, \"gridcolor\": \"white\", \"linecolor\": \"white\", \"ticks\": \"\", \"title\": {\"standoff\": 15}, \"zerolinecolor\": \"white\", \"zerolinewidth\": 2}}}},\n",
              "                        {\"responsive\": true}\n",
              "                    ).then(function(){\n",
              "                            \n",
              "var gd = document.getElementById('dce2c1b6-5802-48d5-8ad0-58abf4abd25d');\n",
              "var x = new MutationObserver(function (mutations, observer) {{\n",
              "        var display = window.getComputedStyle(gd).display;\n",
              "        if (!display || display === 'none') {{\n",
              "            console.log([gd, 'removed!']);\n",
              "            Plotly.purge(gd);\n",
              "            observer.disconnect();\n",
              "        }}\n",
              "}});\n",
              "\n",
              "// Listen for the removal of the full notebook cells\n",
              "var notebookContainer = gd.closest('#notebook-container');\n",
              "if (notebookContainer) {{\n",
              "    x.observe(notebookContainer, {childList: true});\n",
              "}}\n",
              "\n",
              "// Listen for the clearing of the current output cell\n",
              "var outputEl = gd.closest('.output');\n",
              "if (outputEl) {{\n",
              "    x.observe(outputEl, {childList: true});\n",
              "}}\n",
              "\n",
              "                        })\n",
              "                };\n",
              "                \n",
              "            </script>\n",
              "        </div>\n",
              "</body>\n",
              "</html>"
            ]
          },
          "metadata": {
            "tags": []
          }
        }
      ]
    },
    {
      "cell_type": "markdown",
      "metadata": {
        "id": "IUt81GVWGHLb"
      },
      "source": [
        "Avaliação do modelo baseline"
      ]
    },
    {
      "cell_type": "code",
      "metadata": {
        "id": "ACJFie9JF7iq"
      },
      "source": [
        "# calcula a métrica rmse\n",
        "from sklearn.metrics import mean_squared_error\n",
        "from math import sqrt"
      ],
      "execution_count": null,
      "outputs": []
    },
    {
      "cell_type": "code",
      "metadata": {
        "id": "6UO0iZm44Gl_"
      },
      "source": [
        "rmse = (np.sqrt(mean_squared_error(y_test, predicoes)))"
      ],
      "execution_count": null,
      "outputs": []
    },
    {
      "cell_type": "code",
      "metadata": {
        "id": "aFThM7L9GDA6",
        "colab": {
          "base_uri": "https://localhost:8080/"
        },
        "outputId": "256f6a82-b5ff-4157-ce21-b4142d6d7642"
      },
      "source": [
        "# imprime a performance do modelo\n",
        "print ('Performance do modelo baseline:')\n",
        "print('\\nRMSE é: {} '.format(rmse))"
      ],
      "execution_count": null,
      "outputs": [
        {
          "output_type": "stream",
          "text": [
            "Performance do modelo baseline:\n",
            "\n",
            "RMSE é: 6.205816494411828 \n"
          ],
          "name": "stdout"
        }
      ]
    },
    {
      "cell_type": "markdown",
      "metadata": {
        "id": "6jL-gszHYgZY"
      },
      "source": [
        "### Machine Learning"
      ]
    },
    {
      "cell_type": "markdown",
      "metadata": {
        "id": "8rokdiRpzTry"
      },
      "source": [
        "#### Regressão Linear"
      ]
    },
    {
      "cell_type": "markdown",
      "metadata": {
        "id": "nEbWBlL3Ir9M"
      },
      "source": [
        "- `Devido a correlação entre algumas features podemos usar uma regressão linear.`\n",
        "- `Modelo simples e eficiente.`\n",
        "- `Solução rápida e robusta.`"
      ]
    },
    {
      "cell_type": "code",
      "metadata": {
        "id": "xy7zx_pJIw6e"
      },
      "source": [
        "# carrega o pacote LinearRegression\n",
        "from sklearn.linear_model import LinearRegression"
      ],
      "execution_count": null,
      "outputs": []
    },
    {
      "cell_type": "code",
      "metadata": {
        "id": "fRgZ6NHUfvzM"
      },
      "source": [
        "# cria o objeto do tipo LinearRegression\n",
        "lin_model = LinearRegression()"
      ],
      "execution_count": null,
      "outputs": []
    },
    {
      "cell_type": "code",
      "metadata": {
        "id": "EP4-r-x9fyMF",
        "colab": {
          "base_uri": "https://localhost:8080/"
        },
        "outputId": "cbd21cf1-96b3-4077-c60f-29bf3fb76b63"
      },
      "source": [
        "# treina o algoritmo de regressão linear\n",
        "lin_model.fit(X_train, y_train)"
      ],
      "execution_count": null,
      "outputs": [
        {
          "output_type": "execute_result",
          "data": {
            "text/plain": [
              "LinearRegression(copy_X=True, fit_intercept=True, n_jobs=None, normalize=False)"
            ]
          },
          "metadata": {
            "tags": []
          },
          "execution_count": 51
        }
      ]
    },
    {
      "cell_type": "code",
      "metadata": {
        "id": "XwIaD1k1NVzg"
      },
      "source": [
        "# avaliação do modelo nos dados de teste\n",
        "y_pred = lin_model.predict(X_test)"
      ],
      "execution_count": null,
      "outputs": []
    },
    {
      "cell_type": "code",
      "metadata": {
        "id": "Wx7arH2JoHGU"
      },
      "source": [
        "# calcula a métrica rmse\n",
        "rmse = (np.sqrt(mean_squared_error(y_test, y_pred)))"
      ],
      "execution_count": null,
      "outputs": []
    },
    {
      "cell_type": "code",
      "metadata": {
        "id": "zi54cRQwNcPm",
        "colab": {
          "base_uri": "https://localhost:8080/"
        },
        "outputId": "c2aa2163-e62b-4972-9767-a44ee83d3719"
      },
      "source": [
        "# imprime a performance do modelo\n",
        "print ('Performance do modelo avaliado com os dados de teste:')\n",
        "print('\\nRMSE é: {} '.format(rmse))"
      ],
      "execution_count": null,
      "outputs": [
        {
          "output_type": "stream",
          "text": [
            "Performance do modelo avaliado com os dados de teste:\n",
            "\n",
            "RMSE é: 4.460277295153907 \n"
          ],
          "name": "stdout"
        }
      ]
    },
    {
      "cell_type": "code",
      "metadata": {
        "id": "Fc4Cy6ehSRz7"
      },
      "source": [
        "# atribui os resultados no dataframe df_results\n",
        "df_results['valor_predito_reg_linear'] = lin_model.predict(X_test)"
      ],
      "execution_count": null,
      "outputs": []
    },
    {
      "cell_type": "code",
      "metadata": {
        "id": "vY6sddMASRrj",
        "colab": {
          "base_uri": "https://localhost:8080/",
          "height": 359
        },
        "outputId": "038dbb35-c248-4215-80da-57ffd8bd40be"
      },
      "source": [
        "df_results.head(10)"
      ],
      "execution_count": null,
      "outputs": [
        {
          "output_type": "execute_result",
          "data": {
            "text/html": [
              "<div>\n",
              "<style scoped>\n",
              "    .dataframe tbody tr th:only-of-type {\n",
              "        vertical-align: middle;\n",
              "    }\n",
              "\n",
              "    .dataframe tbody tr th {\n",
              "        vertical-align: top;\n",
              "    }\n",
              "\n",
              "    .dataframe thead th {\n",
              "        text-align: right;\n",
              "    }\n",
              "</style>\n",
              "<table border=\"1\" class=\"dataframe\">\n",
              "  <thead>\n",
              "    <tr style=\"text-align: right;\">\n",
              "      <th></th>\n",
              "      <th>valor_real</th>\n",
              "      <th>valor_predito_baseline</th>\n",
              "      <th>valor_predito_reg_linear</th>\n",
              "    </tr>\n",
              "  </thead>\n",
              "  <tbody>\n",
              "    <tr>\n",
              "      <th>0</th>\n",
              "      <td>18.5</td>\n",
              "      <td>20.130425</td>\n",
              "      <td>18.459170</td>\n",
              "    </tr>\n",
              "    <tr>\n",
              "      <th>1</th>\n",
              "      <td>12.7</td>\n",
              "      <td>20.130425</td>\n",
              "      <td>12.279894</td>\n",
              "    </tr>\n",
              "    <tr>\n",
              "      <th>2</th>\n",
              "      <td>21.4</td>\n",
              "      <td>20.130425</td>\n",
              "      <td>24.588307</td>\n",
              "    </tr>\n",
              "    <tr>\n",
              "      <th>3</th>\n",
              "      <td>23.7</td>\n",
              "      <td>20.130425</td>\n",
              "      <td>28.254693</td>\n",
              "    </tr>\n",
              "    <tr>\n",
              "      <th>4</th>\n",
              "      <td>20.8</td>\n",
              "      <td>20.130425</td>\n",
              "      <td>18.195439</td>\n",
              "    </tr>\n",
              "    <tr>\n",
              "      <th>5</th>\n",
              "      <td>25.0</td>\n",
              "      <td>20.130425</td>\n",
              "      <td>21.630648</td>\n",
              "    </tr>\n",
              "    <tr>\n",
              "      <th>6</th>\n",
              "      <td>9.7</td>\n",
              "      <td>20.130425</td>\n",
              "      <td>11.319198</td>\n",
              "    </tr>\n",
              "    <tr>\n",
              "      <th>7</th>\n",
              "      <td>14.9</td>\n",
              "      <td>20.130425</td>\n",
              "      <td>14.561032</td>\n",
              "    </tr>\n",
              "    <tr>\n",
              "      <th>8</th>\n",
              "      <td>34.9</td>\n",
              "      <td>35.719231</td>\n",
              "      <td>31.623717</td>\n",
              "    </tr>\n",
              "    <tr>\n",
              "      <th>9</th>\n",
              "      <td>31.6</td>\n",
              "      <td>35.719231</td>\n",
              "      <td>29.588133</td>\n",
              "    </tr>\n",
              "  </tbody>\n",
              "</table>\n",
              "</div>"
            ],
            "text/plain": [
              "   valor_real  valor_predito_baseline  valor_predito_reg_linear\n",
              "0        18.5               20.130425                 18.459170\n",
              "1        12.7               20.130425                 12.279894\n",
              "2        21.4               20.130425                 24.588307\n",
              "3        23.7               20.130425                 28.254693\n",
              "4        20.8               20.130425                 18.195439\n",
              "5        25.0               20.130425                 21.630648\n",
              "6         9.7               20.130425                 11.319198\n",
              "7        14.9               20.130425                 14.561032\n",
              "8        34.9               35.719231                 31.623717\n",
              "9        31.6               35.719231                 29.588133"
            ]
          },
          "metadata": {
            "tags": []
          },
          "execution_count": 56
        }
      ]
    },
    {
      "cell_type": "code",
      "metadata": {
        "id": "qojh6XHzSDHZ",
        "colab": {
          "base_uri": "https://localhost:8080/",
          "height": 542
        },
        "outputId": "b9bcdfef-7176-476a-e4ab-8858ebc646ce"
      },
      "source": [
        "import plotly.graph_objects as go\n",
        "\n",
        "# Create traces\n",
        "fig = go.Figure()\n",
        "\n",
        "# Linha com os dados de teste\n",
        "fig.add_trace(go.Scatter(x=df_results.index,\n",
        "                         y=df_results.valor_real,\n",
        "                         mode='lines+markers',\n",
        "                         name='Valor Real'))\n",
        "\n",
        "# Linha com os dados de baseline\n",
        "fig.add_trace(go.Scatter(x=df_results.index,\n",
        "                         y=df_results.valor_predito_baseline,\n",
        "                         mode='lines+markers',\n",
        "                         name='Baseline'))\n",
        "\n",
        "# Linha com os dados preditos pela regressão linear\n",
        "fig.add_trace(go.Scatter(x=df_results.index,\n",
        "                         y=df_results.valor_predito_reg_linear,\n",
        "                         mode='lines',\n",
        "                         line = dict(color = '#FEBFB3'),\n",
        "                         name='Valor Predito Regressão Linear'))\n",
        "\n",
        "# Plota a figura\n",
        "fig.show()"
      ],
      "execution_count": null,
      "outputs": [
        {
          "output_type": "display_data",
          "data": {
            "text/html": [
              "<html>\n",
              "<head><meta charset=\"utf-8\" /></head>\n",
              "<body>\n",
              "    <div>\n",
              "            <script src=\"https://cdnjs.cloudflare.com/ajax/libs/mathjax/2.7.5/MathJax.js?config=TeX-AMS-MML_SVG\"></script><script type=\"text/javascript\">if (window.MathJax) {MathJax.Hub.Config({SVG: {font: \"STIX-Web\"}});}</script>\n",
              "                <script type=\"text/javascript\">window.PlotlyConfig = {MathJaxConfig: 'local'};</script>\n",
              "        <script src=\"https://cdn.plot.ly/plotly-latest.min.js\"></script>    \n",
              "            <div id=\"9e703e79-92e3-400c-a8cf-28fbb87dfe13\" class=\"plotly-graph-div\" style=\"height:525px; width:100%;\"></div>\n",
              "            <script type=\"text/javascript\">\n",
              "                \n",
              "                    window.PLOTLYENV=window.PLOTLYENV || {};\n",
              "                    \n",
              "                if (document.getElementById(\"9e703e79-92e3-400c-a8cf-28fbb87dfe13\")) {\n",
              "                    Plotly.newPlot(\n",
              "                        '9e703e79-92e3-400c-a8cf-28fbb87dfe13',\n",
              "                        [{\"mode\": \"lines+markers\", \"name\": \"Valor Real\", \"type\": \"scatter\", \"x\": [0, 1, 2, 3, 4, 5, 6, 7, 8, 9, 10, 11, 12, 13, 14, 15, 16, 17, 18, 19, 20, 21, 22, 23, 24, 25, 26, 27, 28, 29, 30, 31, 32, 33, 34, 35, 36, 37, 38, 39, 40, 41, 42, 43, 44, 45, 46, 47, 48, 49, 50, 51, 52, 53, 54, 55, 56, 57, 58, 59, 60, 61, 62, 63, 64, 65, 66, 67, 68, 69, 70, 71, 72, 73, 74, 75, 76, 77, 78, 79, 80, 81, 82, 83, 84, 85, 86, 87, 88, 89, 90, 91, 92, 93, 94, 95, 96, 97], \"y\": [18.5, 12.7, 21.4, 23.7, 20.8, 25.0, 9.7, 14.9, 34.9, 31.6, 24.7, 22.9, 33.2, 9.6, 30.5, 19.2, 30.3, 15.4, 24.3, 24.4, 21.5, 27.9, 17.3, 21.4, 21.7, 24.4, 8.5, 15.0, 11.5, 13.6, 24.4, 7.4, 44.0, 21.7, 19.3, 16.1, 29.0, 26.4, 20.3, 10.8, 5.0, 19.6, 23.1, 23.9, 17.5, 13.5, 48.8, 26.2, 19.7, 14.2, 11.0, 19.0, 21.7, 18.4, 33.4, 14.0, 24.7, 43.8, 48.5, 25.0, 22.6, 21.2, 22.4, 23.8, 19.9, 16.5, 16.7, 17.2, 13.1, 19.1, 18.5, 22.2, 22.6, 19.4, 15.2, 19.8, 19.4, 21.6, 18.2, 19.6, 19.6, 23.0, 7.0, 17.6, 25.0, 41.3, 24.1, 22.6, 18.7, 22.6, 13.1, 22.2, 16.1, 39.8, 25.0, 20.5, 10.4, 20.4]}, {\"mode\": \"lines+markers\", \"name\": \"Baseline\", \"type\": \"scatter\", \"x\": [0, 1, 2, 3, 4, 5, 6, 7, 8, 9, 10, 11, 12, 13, 14, 15, 16, 17, 18, 19, 20, 21, 22, 23, 24, 25, 26, 27, 28, 29, 30, 31, 32, 33, 34, 35, 36, 37, 38, 39, 40, 41, 42, 43, 44, 45, 46, 47, 48, 49, 50, 51, 52, 53, 54, 55, 56, 57, 58, 59, 60, 61, 62, 63, 64, 65, 66, 67, 68, 69, 70, 71, 72, 73, 74, 75, 76, 77, 78, 79, 80, 81, 82, 83, 84, 85, 86, 87, 88, 89, 90, 91, 92, 93, 94, 95, 96, 97], \"y\": [20.1304245283019, 20.1304245283019, 20.1304245283019, 20.1304245283019, 20.1304245283019, 20.1304245283019, 20.1304245283019, 20.1304245283019, 35.71923076923077, 35.71923076923077, 20.1304245283019, 20.1304245283019, 35.71923076923077, 20.1304245283019, 20.1304245283019, 20.1304245283019, 35.71923076923077, 20.1304245283019, 20.1304245283019, 20.1304245283019, 20.1304245283019, 20.1304245283019, 20.1304245283019, 20.1304245283019, 20.1304245283019, 20.1304245283019, 20.1304245283019, 35.71923076923077, 20.1304245283019, 20.1304245283019, 20.1304245283019, 20.1304245283019, 35.71923076923077, 20.1304245283019, 20.1304245283019, 14.921428571428574, 35.71923076923077, 20.1304245283019, 20.1304245283019, 20.1304245283019, 20.1304245283019, 20.1304245283019, 20.1304245283019, 20.1304245283019, 20.1304245283019, 20.1304245283019, 35.71923076923077, 20.1304245283019, 20.1304245283019, 20.1304245283019, 20.1304245283019, 20.1304245283019, 20.1304245283019, 20.1304245283019, 35.71923076923077, 20.1304245283019, 20.1304245283019, 35.71923076923077, 35.71923076923077, 20.1304245283019, 20.1304245283019, 20.1304245283019, 20.1304245283019, 20.1304245283019, 20.1304245283019, 20.1304245283019, 20.1304245283019, 20.1304245283019, 20.1304245283019, 20.1304245283019, 20.1304245283019, 20.1304245283019, 20.1304245283019, 20.1304245283019, 20.1304245283019, 20.1304245283019, 20.1304245283019, 20.1304245283019, 20.1304245283019, 20.1304245283019, 20.1304245283019, 20.1304245283019, 14.921428571428574, 20.1304245283019, 20.1304245283019, 20.1304245283019, 20.1304245283019, 20.1304245283019, 20.1304245283019, 20.1304245283019, 20.1304245283019, 20.1304245283019, 20.1304245283019, 35.71923076923077, 35.71923076923077, 20.1304245283019, 20.1304245283019, 20.1304245283019]}, {\"line\": {\"color\": \"#FEBFB3\"}, \"mode\": \"lines\", \"name\": \"Valor Predito Regress\\u00e3o Linear\", \"type\": \"scatter\", \"x\": [0, 1, 2, 3, 4, 5, 6, 7, 8, 9, 10, 11, 12, 13, 14, 15, 16, 17, 18, 19, 20, 21, 22, 23, 24, 25, 26, 27, 28, 29, 30, 31, 32, 33, 34, 35, 36, 37, 38, 39, 40, 41, 42, 43, 44, 45, 46, 47, 48, 49, 50, 51, 52, 53, 54, 55, 56, 57, 58, 59, 60, 61, 62, 63, 64, 65, 66, 67, 68, 69, 70, 71, 72, 73, 74, 75, 76, 77, 78, 79, 80, 81, 82, 83, 84, 85, 86, 87, 88, 89, 90, 91, 92, 93, 94, 95, 96, 97], \"y\": [18.459169620175622, 12.279894164156513, 24.588306565387427, 28.2546932806687, 18.1954385373438, 21.63064823568959, 11.319198030946154, 14.561032219959817, 31.623716773040098, 29.58813260755701, 28.603936015257425, 26.482125815783228, 29.96603420778131, 14.553173045326119, 30.278248711999726, 24.630039158761864, 33.23345824950146, 16.931248570273688, 24.994464219097782, 26.46644144086013, 22.81363952407009, 27.10339073181635, 12.524996632311229, 19.379297519749333, 21.58154597100254, 23.87700670203906, 14.08585579782036, 21.23014696755979, 13.643973122717867, 14.71671288201728, 25.800161542012095, 7.867171947538871, 33.02051098404502, 26.04521891780928, 24.036781665116372, 17.775403456686536, 33.227091636621694, 27.517944398741665, 21.18738356258344, 10.957868727277685, 7.507685772949117, 19.41858658453992, 27.39333995128659, 23.841018256361505, 24.74227083856386, 16.99072369802027, 35.47974424493103, 26.159912917617138, 22.496912181783873, 17.904788196114126, 14.15411678225707, 21.181885684574738, 20.62452538832067, 21.177587641065536, 29.495521224006474, 14.230041126797463, 26.544112805265776, 31.0880450668066, 33.72693559925391, 24.891581735351778, 24.187944371239208, 23.864725908860088, 22.052781673616483, 21.389940457854472, 18.84595164654472, 27.8415820549433, 17.936323317583252, 13.823897089289776, 17.67613991103613, 19.294638279682893, 20.58230655963814, 25.39064984663409, 26.235960423440755, 18.894869868164715, 14.748302917740684, 26.81867562501565, 24.878238751496408, 25.213916812117628, 21.19251508313218, 20.51270333880149, 18.27047762963257, 21.370391016885534, -0.09444264955234516, 20.958291503542682, 28.55253759121914, 28.021862079991504, 27.666907491955033, 21.45842164716916, 21.37782433477167, 27.62100650340493, 16.075247361056487, 26.092542124103048, 17.7560875528065, 29.389596403738953, 25.474439973258516, 15.839468986221021, 8.446985834078287, 20.760205429443282]}],\n",
              "                        {\"template\": {\"data\": {\"bar\": [{\"error_x\": {\"color\": \"#2a3f5f\"}, \"error_y\": {\"color\": \"#2a3f5f\"}, \"marker\": {\"line\": {\"color\": \"#E5ECF6\", \"width\": 0.5}}, \"type\": \"bar\"}], \"barpolar\": [{\"marker\": {\"line\": {\"color\": \"#E5ECF6\", \"width\": 0.5}}, \"type\": \"barpolar\"}], \"carpet\": [{\"aaxis\": {\"endlinecolor\": \"#2a3f5f\", \"gridcolor\": \"white\", \"linecolor\": \"white\", \"minorgridcolor\": \"white\", \"startlinecolor\": \"#2a3f5f\"}, \"baxis\": {\"endlinecolor\": \"#2a3f5f\", \"gridcolor\": \"white\", \"linecolor\": \"white\", \"minorgridcolor\": \"white\", \"startlinecolor\": \"#2a3f5f\"}, \"type\": \"carpet\"}], \"choropleth\": [{\"colorbar\": {\"outlinewidth\": 0, \"ticks\": \"\"}, \"type\": \"choropleth\"}], \"contour\": [{\"colorbar\": {\"outlinewidth\": 0, \"ticks\": \"\"}, \"colorscale\": [[0.0, \"#0d0887\"], [0.1111111111111111, \"#46039f\"], [0.2222222222222222, \"#7201a8\"], [0.3333333333333333, \"#9c179e\"], [0.4444444444444444, \"#bd3786\"], [0.5555555555555556, \"#d8576b\"], [0.6666666666666666, \"#ed7953\"], [0.7777777777777778, \"#fb9f3a\"], [0.8888888888888888, \"#fdca26\"], [1.0, \"#f0f921\"]], \"type\": \"contour\"}], \"contourcarpet\": [{\"colorbar\": {\"outlinewidth\": 0, \"ticks\": \"\"}, \"type\": \"contourcarpet\"}], \"heatmap\": [{\"colorbar\": {\"outlinewidth\": 0, \"ticks\": \"\"}, \"colorscale\": [[0.0, \"#0d0887\"], [0.1111111111111111, \"#46039f\"], [0.2222222222222222, \"#7201a8\"], [0.3333333333333333, \"#9c179e\"], [0.4444444444444444, \"#bd3786\"], [0.5555555555555556, \"#d8576b\"], [0.6666666666666666, \"#ed7953\"], [0.7777777777777778, \"#fb9f3a\"], [0.8888888888888888, \"#fdca26\"], [1.0, \"#f0f921\"]], \"type\": \"heatmap\"}], \"heatmapgl\": [{\"colorbar\": {\"outlinewidth\": 0, \"ticks\": \"\"}, \"colorscale\": [[0.0, \"#0d0887\"], [0.1111111111111111, \"#46039f\"], [0.2222222222222222, \"#7201a8\"], [0.3333333333333333, \"#9c179e\"], [0.4444444444444444, \"#bd3786\"], [0.5555555555555556, \"#d8576b\"], [0.6666666666666666, \"#ed7953\"], [0.7777777777777778, \"#fb9f3a\"], [0.8888888888888888, \"#fdca26\"], [1.0, \"#f0f921\"]], \"type\": \"heatmapgl\"}], \"histogram\": [{\"marker\": {\"colorbar\": {\"outlinewidth\": 0, \"ticks\": \"\"}}, \"type\": \"histogram\"}], \"histogram2d\": [{\"colorbar\": {\"outlinewidth\": 0, \"ticks\": \"\"}, \"colorscale\": [[0.0, \"#0d0887\"], [0.1111111111111111, \"#46039f\"], [0.2222222222222222, \"#7201a8\"], [0.3333333333333333, \"#9c179e\"], [0.4444444444444444, \"#bd3786\"], [0.5555555555555556, \"#d8576b\"], [0.6666666666666666, \"#ed7953\"], [0.7777777777777778, \"#fb9f3a\"], [0.8888888888888888, \"#fdca26\"], [1.0, \"#f0f921\"]], \"type\": \"histogram2d\"}], \"histogram2dcontour\": [{\"colorbar\": {\"outlinewidth\": 0, \"ticks\": \"\"}, \"colorscale\": [[0.0, \"#0d0887\"], [0.1111111111111111, \"#46039f\"], [0.2222222222222222, \"#7201a8\"], [0.3333333333333333, \"#9c179e\"], [0.4444444444444444, \"#bd3786\"], [0.5555555555555556, \"#d8576b\"], [0.6666666666666666, \"#ed7953\"], [0.7777777777777778, \"#fb9f3a\"], [0.8888888888888888, \"#fdca26\"], [1.0, \"#f0f921\"]], \"type\": \"histogram2dcontour\"}], \"mesh3d\": [{\"colorbar\": {\"outlinewidth\": 0, \"ticks\": \"\"}, \"type\": \"mesh3d\"}], \"parcoords\": [{\"line\": {\"colorbar\": {\"outlinewidth\": 0, \"ticks\": \"\"}}, \"type\": \"parcoords\"}], \"pie\": [{\"automargin\": true, \"type\": \"pie\"}], \"scatter\": [{\"marker\": {\"colorbar\": {\"outlinewidth\": 0, \"ticks\": \"\"}}, \"type\": \"scatter\"}], \"scatter3d\": [{\"line\": {\"colorbar\": {\"outlinewidth\": 0, \"ticks\": \"\"}}, \"marker\": {\"colorbar\": {\"outlinewidth\": 0, \"ticks\": \"\"}}, \"type\": \"scatter3d\"}], \"scattercarpet\": [{\"marker\": {\"colorbar\": {\"outlinewidth\": 0, \"ticks\": \"\"}}, \"type\": \"scattercarpet\"}], \"scattergeo\": [{\"marker\": {\"colorbar\": {\"outlinewidth\": 0, \"ticks\": \"\"}}, \"type\": \"scattergeo\"}], \"scattergl\": [{\"marker\": {\"colorbar\": {\"outlinewidth\": 0, \"ticks\": \"\"}}, \"type\": \"scattergl\"}], \"scattermapbox\": [{\"marker\": {\"colorbar\": {\"outlinewidth\": 0, \"ticks\": \"\"}}, \"type\": \"scattermapbox\"}], \"scatterpolar\": [{\"marker\": {\"colorbar\": {\"outlinewidth\": 0, \"ticks\": \"\"}}, \"type\": \"scatterpolar\"}], \"scatterpolargl\": [{\"marker\": {\"colorbar\": {\"outlinewidth\": 0, \"ticks\": \"\"}}, \"type\": \"scatterpolargl\"}], \"scatterternary\": [{\"marker\": {\"colorbar\": {\"outlinewidth\": 0, \"ticks\": \"\"}}, \"type\": \"scatterternary\"}], \"surface\": [{\"colorbar\": {\"outlinewidth\": 0, \"ticks\": \"\"}, \"colorscale\": [[0.0, \"#0d0887\"], [0.1111111111111111, \"#46039f\"], [0.2222222222222222, \"#7201a8\"], [0.3333333333333333, \"#9c179e\"], [0.4444444444444444, \"#bd3786\"], [0.5555555555555556, \"#d8576b\"], [0.6666666666666666, \"#ed7953\"], [0.7777777777777778, \"#fb9f3a\"], [0.8888888888888888, \"#fdca26\"], [1.0, \"#f0f921\"]], \"type\": \"surface\"}], \"table\": [{\"cells\": {\"fill\": {\"color\": \"#EBF0F8\"}, \"line\": {\"color\": \"white\"}}, \"header\": {\"fill\": {\"color\": \"#C8D4E3\"}, \"line\": {\"color\": \"white\"}}, \"type\": \"table\"}]}, \"layout\": {\"annotationdefaults\": {\"arrowcolor\": \"#2a3f5f\", \"arrowhead\": 0, \"arrowwidth\": 1}, \"coloraxis\": {\"colorbar\": {\"outlinewidth\": 0, \"ticks\": \"\"}}, \"colorscale\": {\"diverging\": [[0, \"#8e0152\"], [0.1, \"#c51b7d\"], [0.2, \"#de77ae\"], [0.3, \"#f1b6da\"], [0.4, \"#fde0ef\"], [0.5, \"#f7f7f7\"], [0.6, \"#e6f5d0\"], [0.7, \"#b8e186\"], [0.8, \"#7fbc41\"], [0.9, \"#4d9221\"], [1, \"#276419\"]], \"sequential\": [[0.0, \"#0d0887\"], [0.1111111111111111, \"#46039f\"], [0.2222222222222222, \"#7201a8\"], [0.3333333333333333, \"#9c179e\"], [0.4444444444444444, \"#bd3786\"], [0.5555555555555556, \"#d8576b\"], [0.6666666666666666, \"#ed7953\"], [0.7777777777777778, \"#fb9f3a\"], [0.8888888888888888, \"#fdca26\"], [1.0, \"#f0f921\"]], \"sequentialminus\": [[0.0, \"#0d0887\"], [0.1111111111111111, \"#46039f\"], [0.2222222222222222, \"#7201a8\"], [0.3333333333333333, \"#9c179e\"], [0.4444444444444444, \"#bd3786\"], [0.5555555555555556, \"#d8576b\"], [0.6666666666666666, \"#ed7953\"], [0.7777777777777778, \"#fb9f3a\"], [0.8888888888888888, \"#fdca26\"], [1.0, \"#f0f921\"]]}, \"colorway\": [\"#636efa\", \"#EF553B\", \"#00cc96\", \"#ab63fa\", \"#FFA15A\", \"#19d3f3\", \"#FF6692\", \"#B6E880\", \"#FF97FF\", \"#FECB52\"], \"font\": {\"color\": \"#2a3f5f\"}, \"geo\": {\"bgcolor\": \"white\", \"lakecolor\": \"white\", \"landcolor\": \"#E5ECF6\", \"showlakes\": true, \"showland\": true, \"subunitcolor\": \"white\"}, \"hoverlabel\": {\"align\": \"left\"}, \"hovermode\": \"closest\", \"mapbox\": {\"style\": \"light\"}, \"paper_bgcolor\": \"white\", \"plot_bgcolor\": \"#E5ECF6\", \"polar\": {\"angularaxis\": {\"gridcolor\": \"white\", \"linecolor\": \"white\", \"ticks\": \"\"}, \"bgcolor\": \"#E5ECF6\", \"radialaxis\": {\"gridcolor\": \"white\", \"linecolor\": \"white\", \"ticks\": \"\"}}, \"scene\": {\"xaxis\": {\"backgroundcolor\": \"#E5ECF6\", \"gridcolor\": \"white\", \"gridwidth\": 2, \"linecolor\": \"white\", \"showbackground\": true, \"ticks\": \"\", \"zerolinecolor\": \"white\"}, \"yaxis\": {\"backgroundcolor\": \"#E5ECF6\", \"gridcolor\": \"white\", \"gridwidth\": 2, \"linecolor\": \"white\", \"showbackground\": true, \"ticks\": \"\", \"zerolinecolor\": \"white\"}, \"zaxis\": {\"backgroundcolor\": \"#E5ECF6\", \"gridcolor\": \"white\", \"gridwidth\": 2, \"linecolor\": \"white\", \"showbackground\": true, \"ticks\": \"\", \"zerolinecolor\": \"white\"}}, \"shapedefaults\": {\"line\": {\"color\": \"#2a3f5f\"}}, \"ternary\": {\"aaxis\": {\"gridcolor\": \"white\", \"linecolor\": \"white\", \"ticks\": \"\"}, \"baxis\": {\"gridcolor\": \"white\", \"linecolor\": \"white\", \"ticks\": \"\"}, \"bgcolor\": \"#E5ECF6\", \"caxis\": {\"gridcolor\": \"white\", \"linecolor\": \"white\", \"ticks\": \"\"}}, \"title\": {\"x\": 0.05}, \"xaxis\": {\"automargin\": true, \"gridcolor\": \"white\", \"linecolor\": \"white\", \"ticks\": \"\", \"title\": {\"standoff\": 15}, \"zerolinecolor\": \"white\", \"zerolinewidth\": 2}, \"yaxis\": {\"automargin\": true, \"gridcolor\": \"white\", \"linecolor\": \"white\", \"ticks\": \"\", \"title\": {\"standoff\": 15}, \"zerolinecolor\": \"white\", \"zerolinewidth\": 2}}}},\n",
              "                        {\"responsive\": true}\n",
              "                    ).then(function(){\n",
              "                            \n",
              "var gd = document.getElementById('9e703e79-92e3-400c-a8cf-28fbb87dfe13');\n",
              "var x = new MutationObserver(function (mutations, observer) {{\n",
              "        var display = window.getComputedStyle(gd).display;\n",
              "        if (!display || display === 'none') {{\n",
              "            console.log([gd, 'removed!']);\n",
              "            Plotly.purge(gd);\n",
              "            observer.disconnect();\n",
              "        }}\n",
              "}});\n",
              "\n",
              "// Listen for the removal of the full notebook cells\n",
              "var notebookContainer = gd.closest('#notebook-container');\n",
              "if (notebookContainer) {{\n",
              "    x.observe(notebookContainer, {childList: true});\n",
              "}}\n",
              "\n",
              "// Listen for the clearing of the current output cell\n",
              "var outputEl = gd.closest('.output');\n",
              "if (outputEl) {{\n",
              "    x.observe(outputEl, {childList: true});\n",
              "}}\n",
              "\n",
              "                        })\n",
              "                };\n",
              "                \n",
              "            </script>\n",
              "        </div>\n",
              "</body>\n",
              "</html>"
            ]
          },
          "metadata": {
            "tags": []
          }
        }
      ]
    },
    {
      "cell_type": "markdown",
      "metadata": {
        "id": "yhHrta_etlaE"
      },
      "source": [
        "##### Arvore de decisão\n",
        "\n",
        "*   `Algoritmo de aprendizado supervisionado`\n",
        "*   `Explicabilidade do Modelo`\n",
        "*   `Simples`\n"
      ]
    },
    {
      "cell_type": "code",
      "metadata": {
        "id": "s6AMt-S1tklE"
      },
      "source": [
        "# importa o pacote DecisionTreeRegressor\n",
        "from sklearn.tree import DecisionTreeRegressor"
      ],
      "execution_count": null,
      "outputs": []
    },
    {
      "cell_type": "code",
      "metadata": {
        "id": "9GWqPqMatkiv"
      },
      "source": [
        "# cria um objeto do tipo DecisionTreeRegressor\n",
        "regressor = DecisionTreeRegressor()"
      ],
      "execution_count": null,
      "outputs": []
    },
    {
      "cell_type": "code",
      "metadata": {
        "id": "aesYvbgetkgX",
        "colab": {
          "base_uri": "https://localhost:8080/"
        },
        "outputId": "0c7be6a3-79c4-47b5-8502-cc6b7cc5f92d"
      },
      "source": [
        "# treina o algoritmo\n",
        "regressor.fit(X_train, y_train)"
      ],
      "execution_count": null,
      "outputs": [
        {
          "output_type": "execute_result",
          "data": {
            "text/plain": [
              "DecisionTreeRegressor(ccp_alpha=0.0, criterion='mse', max_depth=None,\n",
              "                      max_features=None, max_leaf_nodes=None,\n",
              "                      min_impurity_decrease=0.0, min_impurity_split=None,\n",
              "                      min_samples_leaf=1, min_samples_split=2,\n",
              "                      min_weight_fraction_leaf=0.0, presort='deprecated',\n",
              "                      random_state=None, splitter='best')"
            ]
          },
          "metadata": {
            "tags": []
          },
          "execution_count": 60
        }
      ]
    },
    {
      "cell_type": "markdown",
      "metadata": {
        "id": "WHDUHZgHyztm"
      },
      "source": [
        "Avaliando o modelo de Árvore de Decisão"
      ]
    },
    {
      "cell_type": "code",
      "metadata": {
        "id": "3rnUwS6Vtkdw"
      },
      "source": [
        "# fazendo as previsões\n",
        "y_pred = regressor.predict(X_test)"
      ],
      "execution_count": null,
      "outputs": []
    },
    {
      "cell_type": "code",
      "metadata": {
        "id": "WPIrhQh_Lt4i"
      },
      "source": [
        "# Adicionando o valor do modelo no dataframe df_results\n",
        "df_results['valor_predito_arvore'] = y_pred"
      ],
      "execution_count": null,
      "outputs": []
    },
    {
      "cell_type": "code",
      "metadata": {
        "id": "z3bMNJK0LASe",
        "colab": {
          "base_uri": "https://localhost:8080/",
          "height": 359
        },
        "outputId": "c41835ed-ee47-426c-abe9-ff8970af02c1"
      },
      "source": [
        "# visualiza o dataframe df_results\n",
        "df_results.head(10)"
      ],
      "execution_count": null,
      "outputs": [
        {
          "output_type": "execute_result",
          "data": {
            "text/html": [
              "<div>\n",
              "<style scoped>\n",
              "    .dataframe tbody tr th:only-of-type {\n",
              "        vertical-align: middle;\n",
              "    }\n",
              "\n",
              "    .dataframe tbody tr th {\n",
              "        vertical-align: top;\n",
              "    }\n",
              "\n",
              "    .dataframe thead th {\n",
              "        text-align: right;\n",
              "    }\n",
              "</style>\n",
              "<table border=\"1\" class=\"dataframe\">\n",
              "  <thead>\n",
              "    <tr style=\"text-align: right;\">\n",
              "      <th></th>\n",
              "      <th>valor_real</th>\n",
              "      <th>valor_predito_baseline</th>\n",
              "      <th>valor_predito_reg_linear</th>\n",
              "      <th>valor_predito_arvore</th>\n",
              "    </tr>\n",
              "  </thead>\n",
              "  <tbody>\n",
              "    <tr>\n",
              "      <th>0</th>\n",
              "      <td>18.5</td>\n",
              "      <td>20.130425</td>\n",
              "      <td>18.459170</td>\n",
              "      <td>17.8</td>\n",
              "    </tr>\n",
              "    <tr>\n",
              "      <th>1</th>\n",
              "      <td>12.7</td>\n",
              "      <td>20.130425</td>\n",
              "      <td>12.279894</td>\n",
              "      <td>23.2</td>\n",
              "    </tr>\n",
              "    <tr>\n",
              "      <th>2</th>\n",
              "      <td>21.4</td>\n",
              "      <td>20.130425</td>\n",
              "      <td>24.588307</td>\n",
              "      <td>22.9</td>\n",
              "    </tr>\n",
              "    <tr>\n",
              "      <th>3</th>\n",
              "      <td>23.7</td>\n",
              "      <td>20.130425</td>\n",
              "      <td>28.254693</td>\n",
              "      <td>24.3</td>\n",
              "    </tr>\n",
              "    <tr>\n",
              "      <th>4</th>\n",
              "      <td>20.8</td>\n",
              "      <td>20.130425</td>\n",
              "      <td>18.195439</td>\n",
              "      <td>23.0</td>\n",
              "    </tr>\n",
              "    <tr>\n",
              "      <th>5</th>\n",
              "      <td>25.0</td>\n",
              "      <td>20.130425</td>\n",
              "      <td>21.630648</td>\n",
              "      <td>27.5</td>\n",
              "    </tr>\n",
              "    <tr>\n",
              "      <th>6</th>\n",
              "      <td>9.7</td>\n",
              "      <td>20.130425</td>\n",
              "      <td>11.319198</td>\n",
              "      <td>7.2</td>\n",
              "    </tr>\n",
              "    <tr>\n",
              "      <th>7</th>\n",
              "      <td>14.9</td>\n",
              "      <td>20.130425</td>\n",
              "      <td>14.561032</td>\n",
              "      <td>17.1</td>\n",
              "    </tr>\n",
              "    <tr>\n",
              "      <th>8</th>\n",
              "      <td>34.9</td>\n",
              "      <td>35.719231</td>\n",
              "      <td>31.623717</td>\n",
              "      <td>37.6</td>\n",
              "    </tr>\n",
              "    <tr>\n",
              "      <th>9</th>\n",
              "      <td>31.6</td>\n",
              "      <td>35.719231</td>\n",
              "      <td>29.588133</td>\n",
              "      <td>28.7</td>\n",
              "    </tr>\n",
              "  </tbody>\n",
              "</table>\n",
              "</div>"
            ],
            "text/plain": [
              "   valor_real  ...  valor_predito_arvore\n",
              "0        18.5  ...                  17.8\n",
              "1        12.7  ...                  23.2\n",
              "2        21.4  ...                  22.9\n",
              "3        23.7  ...                  24.3\n",
              "4        20.8  ...                  23.0\n",
              "5        25.0  ...                  27.5\n",
              "6         9.7  ...                   7.2\n",
              "7        14.9  ...                  17.1\n",
              "8        34.9  ...                  37.6\n",
              "9        31.6  ...                  28.7\n",
              "\n",
              "[10 rows x 4 columns]"
            ]
          },
          "metadata": {
            "tags": []
          },
          "execution_count": 63
        }
      ]
    },
    {
      "cell_type": "code",
      "metadata": {
        "id": "PV-RAtLPN12A",
        "colab": {
          "base_uri": "https://localhost:8080/",
          "height": 542
        },
        "outputId": "36a94e38-1c38-42cf-bfde-bd023bd3c858"
      },
      "source": [
        "import plotly.graph_objects as go\n",
        "\n",
        "# cria uma figura\n",
        "fig = go.Figure()\n",
        "\n",
        "# Linha com os dados de teste\n",
        "fig.add_trace(go.Scatter(x=df_results.index,\n",
        "                         y=df_results.valor_real,\n",
        "                         mode='lines+markers',\n",
        "                         name='Valor Real'))\n",
        "\n",
        "# Linha com os dados de teste\n",
        "fig.add_trace(go.Scatter(x=df_results.index,\n",
        "                         y=df_results.valor_predito_baseline,\n",
        "                         mode='lines+markers',\n",
        "                         name='Valor Predito Baseline'))\n",
        "\n",
        "\n",
        "# Linha com os dados de teste\n",
        "fig.add_trace(go.Scatter(x=df_results.index,\n",
        "                         y=df_results.valor_predito_reg_linear,\n",
        "                         mode='lines+markers',\n",
        "                         name='Valor Predito Reg Liner'))\n",
        "\n",
        "# Linha com os dados preditos\n",
        "fig.add_trace(go.Scatter(x=df_results.index,\n",
        "                         y=df_results.valor_predito_arvore,\n",
        "                         mode='lines+markers',\n",
        "                         name='Valor Predito Arvore'))\n",
        "# Plota a figura\n",
        "fig.show()"
      ],
      "execution_count": null,
      "outputs": [
        {
          "output_type": "display_data",
          "data": {
            "text/html": [
              "<html>\n",
              "<head><meta charset=\"utf-8\" /></head>\n",
              "<body>\n",
              "    <div>\n",
              "            <script src=\"https://cdnjs.cloudflare.com/ajax/libs/mathjax/2.7.5/MathJax.js?config=TeX-AMS-MML_SVG\"></script><script type=\"text/javascript\">if (window.MathJax) {MathJax.Hub.Config({SVG: {font: \"STIX-Web\"}});}</script>\n",
              "                <script type=\"text/javascript\">window.PlotlyConfig = {MathJaxConfig: 'local'};</script>\n",
              "        <script src=\"https://cdn.plot.ly/plotly-latest.min.js\"></script>    \n",
              "            <div id=\"5a77c639-df9c-4c00-86bb-b91883a607bb\" class=\"plotly-graph-div\" style=\"height:525px; width:100%;\"></div>\n",
              "            <script type=\"text/javascript\">\n",
              "                \n",
              "                    window.PLOTLYENV=window.PLOTLYENV || {};\n",
              "                    \n",
              "                if (document.getElementById(\"5a77c639-df9c-4c00-86bb-b91883a607bb\")) {\n",
              "                    Plotly.newPlot(\n",
              "                        '5a77c639-df9c-4c00-86bb-b91883a607bb',\n",
              "                        [{\"mode\": \"lines+markers\", \"name\": \"Valor Real\", \"type\": \"scatter\", \"x\": [0, 1, 2, 3, 4, 5, 6, 7, 8, 9, 10, 11, 12, 13, 14, 15, 16, 17, 18, 19, 20, 21, 22, 23, 24, 25, 26, 27, 28, 29, 30, 31, 32, 33, 34, 35, 36, 37, 38, 39, 40, 41, 42, 43, 44, 45, 46, 47, 48, 49, 50, 51, 52, 53, 54, 55, 56, 57, 58, 59, 60, 61, 62, 63, 64, 65, 66, 67, 68, 69, 70, 71, 72, 73, 74, 75, 76, 77, 78, 79, 80, 81, 82, 83, 84, 85, 86, 87, 88, 89, 90, 91, 92, 93, 94, 95, 96, 97], \"y\": [18.5, 12.7, 21.4, 23.7, 20.8, 25.0, 9.7, 14.9, 34.9, 31.6, 24.7, 22.9, 33.2, 9.6, 30.5, 19.2, 30.3, 15.4, 24.3, 24.4, 21.5, 27.9, 17.3, 21.4, 21.7, 24.4, 8.5, 15.0, 11.5, 13.6, 24.4, 7.4, 44.0, 21.7, 19.3, 16.1, 29.0, 26.4, 20.3, 10.8, 5.0, 19.6, 23.1, 23.9, 17.5, 13.5, 48.8, 26.2, 19.7, 14.2, 11.0, 19.0, 21.7, 18.4, 33.4, 14.0, 24.7, 43.8, 48.5, 25.0, 22.6, 21.2, 22.4, 23.8, 19.9, 16.5, 16.7, 17.2, 13.1, 19.1, 18.5, 22.2, 22.6, 19.4, 15.2, 19.8, 19.4, 21.6, 18.2, 19.6, 19.6, 23.0, 7.0, 17.6, 25.0, 41.3, 24.1, 22.6, 18.7, 22.6, 13.1, 22.2, 16.1, 39.8, 25.0, 20.5, 10.4, 20.4]}, {\"mode\": \"lines+markers\", \"name\": \"Valor Predito Baseline\", \"type\": \"scatter\", \"x\": [0, 1, 2, 3, 4, 5, 6, 7, 8, 9, 10, 11, 12, 13, 14, 15, 16, 17, 18, 19, 20, 21, 22, 23, 24, 25, 26, 27, 28, 29, 30, 31, 32, 33, 34, 35, 36, 37, 38, 39, 40, 41, 42, 43, 44, 45, 46, 47, 48, 49, 50, 51, 52, 53, 54, 55, 56, 57, 58, 59, 60, 61, 62, 63, 64, 65, 66, 67, 68, 69, 70, 71, 72, 73, 74, 75, 76, 77, 78, 79, 80, 81, 82, 83, 84, 85, 86, 87, 88, 89, 90, 91, 92, 93, 94, 95, 96, 97], \"y\": [20.1304245283019, 20.1304245283019, 20.1304245283019, 20.1304245283019, 20.1304245283019, 20.1304245283019, 20.1304245283019, 20.1304245283019, 35.71923076923077, 35.71923076923077, 20.1304245283019, 20.1304245283019, 35.71923076923077, 20.1304245283019, 20.1304245283019, 20.1304245283019, 35.71923076923077, 20.1304245283019, 20.1304245283019, 20.1304245283019, 20.1304245283019, 20.1304245283019, 20.1304245283019, 20.1304245283019, 20.1304245283019, 20.1304245283019, 20.1304245283019, 35.71923076923077, 20.1304245283019, 20.1304245283019, 20.1304245283019, 20.1304245283019, 35.71923076923077, 20.1304245283019, 20.1304245283019, 14.921428571428574, 35.71923076923077, 20.1304245283019, 20.1304245283019, 20.1304245283019, 20.1304245283019, 20.1304245283019, 20.1304245283019, 20.1304245283019, 20.1304245283019, 20.1304245283019, 35.71923076923077, 20.1304245283019, 20.1304245283019, 20.1304245283019, 20.1304245283019, 20.1304245283019, 20.1304245283019, 20.1304245283019, 35.71923076923077, 20.1304245283019, 20.1304245283019, 35.71923076923077, 35.71923076923077, 20.1304245283019, 20.1304245283019, 20.1304245283019, 20.1304245283019, 20.1304245283019, 20.1304245283019, 20.1304245283019, 20.1304245283019, 20.1304245283019, 20.1304245283019, 20.1304245283019, 20.1304245283019, 20.1304245283019, 20.1304245283019, 20.1304245283019, 20.1304245283019, 20.1304245283019, 20.1304245283019, 20.1304245283019, 20.1304245283019, 20.1304245283019, 20.1304245283019, 20.1304245283019, 14.921428571428574, 20.1304245283019, 20.1304245283019, 20.1304245283019, 20.1304245283019, 20.1304245283019, 20.1304245283019, 20.1304245283019, 20.1304245283019, 20.1304245283019, 20.1304245283019, 35.71923076923077, 35.71923076923077, 20.1304245283019, 20.1304245283019, 20.1304245283019]}, {\"mode\": \"lines+markers\", \"name\": \"Valor Predito Reg Liner\", \"type\": \"scatter\", \"x\": [0, 1, 2, 3, 4, 5, 6, 7, 8, 9, 10, 11, 12, 13, 14, 15, 16, 17, 18, 19, 20, 21, 22, 23, 24, 25, 26, 27, 28, 29, 30, 31, 32, 33, 34, 35, 36, 37, 38, 39, 40, 41, 42, 43, 44, 45, 46, 47, 48, 49, 50, 51, 52, 53, 54, 55, 56, 57, 58, 59, 60, 61, 62, 63, 64, 65, 66, 67, 68, 69, 70, 71, 72, 73, 74, 75, 76, 77, 78, 79, 80, 81, 82, 83, 84, 85, 86, 87, 88, 89, 90, 91, 92, 93, 94, 95, 96, 97], \"y\": [18.459169620175622, 12.279894164156513, 24.588306565387427, 28.2546932806687, 18.1954385373438, 21.63064823568959, 11.319198030946154, 14.561032219959817, 31.623716773040098, 29.58813260755701, 28.603936015257425, 26.482125815783228, 29.96603420778131, 14.553173045326119, 30.278248711999726, 24.630039158761864, 33.23345824950146, 16.931248570273688, 24.994464219097782, 26.46644144086013, 22.81363952407009, 27.10339073181635, 12.524996632311229, 19.379297519749333, 21.58154597100254, 23.87700670203906, 14.08585579782036, 21.23014696755979, 13.643973122717867, 14.71671288201728, 25.800161542012095, 7.867171947538871, 33.02051098404502, 26.04521891780928, 24.036781665116372, 17.775403456686536, 33.227091636621694, 27.517944398741665, 21.18738356258344, 10.957868727277685, 7.507685772949117, 19.41858658453992, 27.39333995128659, 23.841018256361505, 24.74227083856386, 16.99072369802027, 35.47974424493103, 26.159912917617138, 22.496912181783873, 17.904788196114126, 14.15411678225707, 21.181885684574738, 20.62452538832067, 21.177587641065536, 29.495521224006474, 14.230041126797463, 26.544112805265776, 31.0880450668066, 33.72693559925391, 24.891581735351778, 24.187944371239208, 23.864725908860088, 22.052781673616483, 21.389940457854472, 18.84595164654472, 27.8415820549433, 17.936323317583252, 13.823897089289776, 17.67613991103613, 19.294638279682893, 20.58230655963814, 25.39064984663409, 26.235960423440755, 18.894869868164715, 14.748302917740684, 26.81867562501565, 24.878238751496408, 25.213916812117628, 21.19251508313218, 20.51270333880149, 18.27047762963257, 21.370391016885534, -0.09444264955234516, 20.958291503542682, 28.55253759121914, 28.021862079991504, 27.666907491955033, 21.45842164716916, 21.37782433477167, 27.62100650340493, 16.075247361056487, 26.092542124103048, 17.7560875528065, 29.389596403738953, 25.474439973258516, 15.839468986221021, 8.446985834078287, 20.760205429443282]}, {\"mode\": \"lines+markers\", \"name\": \"Valor Predito Arvore\", \"type\": \"scatter\", \"x\": [0, 1, 2, 3, 4, 5, 6, 7, 8, 9, 10, 11, 12, 13, 14, 15, 16, 17, 18, 19, 20, 21, 22, 23, 24, 25, 26, 27, 28, 29, 30, 31, 32, 33, 34, 35, 36, 37, 38, 39, 40, 41, 42, 43, 44, 45, 46, 47, 48, 49, 50, 51, 52, 53, 54, 55, 56, 57, 58, 59, 60, 61, 62, 63, 64, 65, 66, 67, 68, 69, 70, 71, 72, 73, 74, 75, 76, 77, 78, 79, 80, 81, 82, 83, 84, 85, 86, 87, 88, 89, 90, 91, 92, 93, 94, 95, 96, 97], \"y\": [17.8, 23.2, 22.9, 24.3, 23.0, 27.5, 7.2, 17.1, 37.6, 28.7, 24.5, 22.2, 34.9, 14.6, 29.4, 23.1, 34.6, 13.8, 22.9, 24.8, 15.3, 28.5, 15.7, 21.4, 23.4, 18.5, 12.1, 31.0, 12.8, 16.2, 22.2, 10.5, 45.4, 23.2, 22.8, 14.5, 32.2, 23.3, 18.9, 8.4, 5.6, 19.2, 24.5, 22.2, 17.2, 13.9, 21.9, 22.8, 17.1, 22.4, 9.5, 19.5, 19.9, 21.7, 36.1, 14.4, 23.8, 38.7, 33.3, 23.3, 29.9, 20.1, 26.5, 19.1, 15.2, 22.0, 20.1, 27.5, 15.6, 20.0, 20.0, 20.7, 20.5, 22.4, 16.2, 19.4, 22.8, 23.8, 26.5, 15.3, 19.3, 20.6, 8.3, 17.4, 32.4, 27.0, 22.5, 19.3, 19.5, 30.1, 13.6, 22.0, 18.4, 37.9, 28.7, 18.8, 8.3, 19.3]}],\n",
              "                        {\"template\": {\"data\": {\"bar\": [{\"error_x\": {\"color\": \"#2a3f5f\"}, \"error_y\": {\"color\": \"#2a3f5f\"}, \"marker\": {\"line\": {\"color\": \"#E5ECF6\", \"width\": 0.5}}, \"type\": \"bar\"}], \"barpolar\": [{\"marker\": {\"line\": {\"color\": \"#E5ECF6\", \"width\": 0.5}}, \"type\": \"barpolar\"}], \"carpet\": [{\"aaxis\": {\"endlinecolor\": \"#2a3f5f\", \"gridcolor\": \"white\", \"linecolor\": \"white\", \"minorgridcolor\": \"white\", \"startlinecolor\": \"#2a3f5f\"}, \"baxis\": {\"endlinecolor\": \"#2a3f5f\", \"gridcolor\": \"white\", \"linecolor\": \"white\", \"minorgridcolor\": \"white\", \"startlinecolor\": \"#2a3f5f\"}, \"type\": \"carpet\"}], \"choropleth\": [{\"colorbar\": {\"outlinewidth\": 0, \"ticks\": \"\"}, \"type\": \"choropleth\"}], \"contour\": [{\"colorbar\": {\"outlinewidth\": 0, \"ticks\": \"\"}, \"colorscale\": [[0.0, \"#0d0887\"], [0.1111111111111111, \"#46039f\"], [0.2222222222222222, \"#7201a8\"], [0.3333333333333333, \"#9c179e\"], [0.4444444444444444, \"#bd3786\"], [0.5555555555555556, \"#d8576b\"], [0.6666666666666666, \"#ed7953\"], [0.7777777777777778, \"#fb9f3a\"], [0.8888888888888888, \"#fdca26\"], [1.0, \"#f0f921\"]], \"type\": \"contour\"}], \"contourcarpet\": [{\"colorbar\": {\"outlinewidth\": 0, \"ticks\": \"\"}, \"type\": \"contourcarpet\"}], \"heatmap\": [{\"colorbar\": {\"outlinewidth\": 0, \"ticks\": \"\"}, \"colorscale\": [[0.0, \"#0d0887\"], [0.1111111111111111, \"#46039f\"], [0.2222222222222222, \"#7201a8\"], [0.3333333333333333, \"#9c179e\"], [0.4444444444444444, \"#bd3786\"], [0.5555555555555556, \"#d8576b\"], [0.6666666666666666, \"#ed7953\"], [0.7777777777777778, \"#fb9f3a\"], [0.8888888888888888, \"#fdca26\"], [1.0, \"#f0f921\"]], \"type\": \"heatmap\"}], \"heatmapgl\": [{\"colorbar\": {\"outlinewidth\": 0, \"ticks\": \"\"}, \"colorscale\": [[0.0, \"#0d0887\"], [0.1111111111111111, \"#46039f\"], [0.2222222222222222, \"#7201a8\"], [0.3333333333333333, \"#9c179e\"], [0.4444444444444444, \"#bd3786\"], [0.5555555555555556, \"#d8576b\"], [0.6666666666666666, \"#ed7953\"], [0.7777777777777778, \"#fb9f3a\"], [0.8888888888888888, \"#fdca26\"], [1.0, \"#f0f921\"]], \"type\": \"heatmapgl\"}], \"histogram\": [{\"marker\": {\"colorbar\": {\"outlinewidth\": 0, \"ticks\": \"\"}}, \"type\": \"histogram\"}], \"histogram2d\": [{\"colorbar\": {\"outlinewidth\": 0, \"ticks\": \"\"}, \"colorscale\": [[0.0, \"#0d0887\"], [0.1111111111111111, \"#46039f\"], [0.2222222222222222, \"#7201a8\"], [0.3333333333333333, \"#9c179e\"], [0.4444444444444444, \"#bd3786\"], [0.5555555555555556, \"#d8576b\"], [0.6666666666666666, \"#ed7953\"], [0.7777777777777778, \"#fb9f3a\"], [0.8888888888888888, \"#fdca26\"], [1.0, \"#f0f921\"]], \"type\": \"histogram2d\"}], \"histogram2dcontour\": [{\"colorbar\": {\"outlinewidth\": 0, \"ticks\": \"\"}, \"colorscale\": [[0.0, \"#0d0887\"], [0.1111111111111111, \"#46039f\"], [0.2222222222222222, \"#7201a8\"], [0.3333333333333333, \"#9c179e\"], [0.4444444444444444, \"#bd3786\"], [0.5555555555555556, \"#d8576b\"], [0.6666666666666666, \"#ed7953\"], [0.7777777777777778, \"#fb9f3a\"], [0.8888888888888888, \"#fdca26\"], [1.0, \"#f0f921\"]], \"type\": \"histogram2dcontour\"}], \"mesh3d\": [{\"colorbar\": {\"outlinewidth\": 0, \"ticks\": \"\"}, \"type\": \"mesh3d\"}], \"parcoords\": [{\"line\": {\"colorbar\": {\"outlinewidth\": 0, \"ticks\": \"\"}}, \"type\": \"parcoords\"}], \"pie\": [{\"automargin\": true, \"type\": \"pie\"}], \"scatter\": [{\"marker\": {\"colorbar\": {\"outlinewidth\": 0, \"ticks\": \"\"}}, \"type\": \"scatter\"}], \"scatter3d\": [{\"line\": {\"colorbar\": {\"outlinewidth\": 0, \"ticks\": \"\"}}, \"marker\": {\"colorbar\": {\"outlinewidth\": 0, \"ticks\": \"\"}}, \"type\": \"scatter3d\"}], \"scattercarpet\": [{\"marker\": {\"colorbar\": {\"outlinewidth\": 0, \"ticks\": \"\"}}, \"type\": \"scattercarpet\"}], \"scattergeo\": [{\"marker\": {\"colorbar\": {\"outlinewidth\": 0, \"ticks\": \"\"}}, \"type\": \"scattergeo\"}], \"scattergl\": [{\"marker\": {\"colorbar\": {\"outlinewidth\": 0, \"ticks\": \"\"}}, \"type\": \"scattergl\"}], \"scattermapbox\": [{\"marker\": {\"colorbar\": {\"outlinewidth\": 0, \"ticks\": \"\"}}, \"type\": \"scattermapbox\"}], \"scatterpolar\": [{\"marker\": {\"colorbar\": {\"outlinewidth\": 0, \"ticks\": \"\"}}, \"type\": \"scatterpolar\"}], \"scatterpolargl\": [{\"marker\": {\"colorbar\": {\"outlinewidth\": 0, \"ticks\": \"\"}}, \"type\": \"scatterpolargl\"}], \"scatterternary\": [{\"marker\": {\"colorbar\": {\"outlinewidth\": 0, \"ticks\": \"\"}}, \"type\": \"scatterternary\"}], \"surface\": [{\"colorbar\": {\"outlinewidth\": 0, \"ticks\": \"\"}, \"colorscale\": [[0.0, \"#0d0887\"], [0.1111111111111111, \"#46039f\"], [0.2222222222222222, \"#7201a8\"], [0.3333333333333333, \"#9c179e\"], [0.4444444444444444, \"#bd3786\"], [0.5555555555555556, \"#d8576b\"], [0.6666666666666666, \"#ed7953\"], [0.7777777777777778, \"#fb9f3a\"], [0.8888888888888888, \"#fdca26\"], [1.0, \"#f0f921\"]], \"type\": \"surface\"}], \"table\": [{\"cells\": {\"fill\": {\"color\": \"#EBF0F8\"}, \"line\": {\"color\": \"white\"}}, \"header\": {\"fill\": {\"color\": \"#C8D4E3\"}, \"line\": {\"color\": \"white\"}}, \"type\": \"table\"}]}, \"layout\": {\"annotationdefaults\": {\"arrowcolor\": \"#2a3f5f\", \"arrowhead\": 0, \"arrowwidth\": 1}, \"coloraxis\": {\"colorbar\": {\"outlinewidth\": 0, \"ticks\": \"\"}}, \"colorscale\": {\"diverging\": [[0, \"#8e0152\"], [0.1, \"#c51b7d\"], [0.2, \"#de77ae\"], [0.3, \"#f1b6da\"], [0.4, \"#fde0ef\"], [0.5, \"#f7f7f7\"], [0.6, \"#e6f5d0\"], [0.7, \"#b8e186\"], [0.8, \"#7fbc41\"], [0.9, \"#4d9221\"], [1, \"#276419\"]], \"sequential\": [[0.0, \"#0d0887\"], [0.1111111111111111, \"#46039f\"], [0.2222222222222222, \"#7201a8\"], [0.3333333333333333, \"#9c179e\"], [0.4444444444444444, \"#bd3786\"], [0.5555555555555556, \"#d8576b\"], [0.6666666666666666, \"#ed7953\"], [0.7777777777777778, \"#fb9f3a\"], [0.8888888888888888, \"#fdca26\"], [1.0, \"#f0f921\"]], \"sequentialminus\": [[0.0, \"#0d0887\"], [0.1111111111111111, \"#46039f\"], [0.2222222222222222, \"#7201a8\"], [0.3333333333333333, \"#9c179e\"], [0.4444444444444444, \"#bd3786\"], [0.5555555555555556, \"#d8576b\"], [0.6666666666666666, \"#ed7953\"], [0.7777777777777778, \"#fb9f3a\"], [0.8888888888888888, \"#fdca26\"], [1.0, \"#f0f921\"]]}, \"colorway\": [\"#636efa\", \"#EF553B\", \"#00cc96\", \"#ab63fa\", \"#FFA15A\", \"#19d3f3\", \"#FF6692\", \"#B6E880\", \"#FF97FF\", \"#FECB52\"], \"font\": {\"color\": \"#2a3f5f\"}, \"geo\": {\"bgcolor\": \"white\", \"lakecolor\": \"white\", \"landcolor\": \"#E5ECF6\", \"showlakes\": true, \"showland\": true, \"subunitcolor\": \"white\"}, \"hoverlabel\": {\"align\": \"left\"}, \"hovermode\": \"closest\", \"mapbox\": {\"style\": \"light\"}, \"paper_bgcolor\": \"white\", \"plot_bgcolor\": \"#E5ECF6\", \"polar\": {\"angularaxis\": {\"gridcolor\": \"white\", \"linecolor\": \"white\", \"ticks\": \"\"}, \"bgcolor\": \"#E5ECF6\", \"radialaxis\": {\"gridcolor\": \"white\", \"linecolor\": \"white\", \"ticks\": \"\"}}, \"scene\": {\"xaxis\": {\"backgroundcolor\": \"#E5ECF6\", \"gridcolor\": \"white\", \"gridwidth\": 2, \"linecolor\": \"white\", \"showbackground\": true, \"ticks\": \"\", \"zerolinecolor\": \"white\"}, \"yaxis\": {\"backgroundcolor\": \"#E5ECF6\", \"gridcolor\": \"white\", \"gridwidth\": 2, \"linecolor\": \"white\", \"showbackground\": true, \"ticks\": \"\", \"zerolinecolor\": \"white\"}, \"zaxis\": {\"backgroundcolor\": \"#E5ECF6\", \"gridcolor\": \"white\", \"gridwidth\": 2, \"linecolor\": \"white\", \"showbackground\": true, \"ticks\": \"\", \"zerolinecolor\": \"white\"}}, \"shapedefaults\": {\"line\": {\"color\": \"#2a3f5f\"}}, \"ternary\": {\"aaxis\": {\"gridcolor\": \"white\", \"linecolor\": \"white\", \"ticks\": \"\"}, \"baxis\": {\"gridcolor\": \"white\", \"linecolor\": \"white\", \"ticks\": \"\"}, \"bgcolor\": \"#E5ECF6\", \"caxis\": {\"gridcolor\": \"white\", \"linecolor\": \"white\", \"ticks\": \"\"}}, \"title\": {\"x\": 0.05}, \"xaxis\": {\"automargin\": true, \"gridcolor\": \"white\", \"linecolor\": \"white\", \"ticks\": \"\", \"title\": {\"standoff\": 15}, \"zerolinecolor\": \"white\", \"zerolinewidth\": 2}, \"yaxis\": {\"automargin\": true, \"gridcolor\": \"white\", \"linecolor\": \"white\", \"ticks\": \"\", \"title\": {\"standoff\": 15}, \"zerolinecolor\": \"white\", \"zerolinewidth\": 2}}}},\n",
              "                        {\"responsive\": true}\n",
              "                    ).then(function(){\n",
              "                            \n",
              "var gd = document.getElementById('5a77c639-df9c-4c00-86bb-b91883a607bb');\n",
              "var x = new MutationObserver(function (mutations, observer) {{\n",
              "        var display = window.getComputedStyle(gd).display;\n",
              "        if (!display || display === 'none') {{\n",
              "            console.log([gd, 'removed!']);\n",
              "            Plotly.purge(gd);\n",
              "            observer.disconnect();\n",
              "        }}\n",
              "}});\n",
              "\n",
              "// Listen for the removal of the full notebook cells\n",
              "var notebookContainer = gd.closest('#notebook-container');\n",
              "if (notebookContainer) {{\n",
              "    x.observe(notebookContainer, {childList: true});\n",
              "}}\n",
              "\n",
              "// Listen for the clearing of the current output cell\n",
              "var outputEl = gd.closest('.output');\n",
              "if (outputEl) {{\n",
              "    x.observe(outputEl, {childList: true});\n",
              "}}\n",
              "\n",
              "                        })\n",
              "                };\n",
              "                \n",
              "            </script>\n",
              "        </div>\n",
              "</body>\n",
              "</html>"
            ]
          },
          "metadata": {
            "tags": []
          }
        }
      ]
    },
    {
      "cell_type": "markdown",
      "metadata": {
        "id": "exqvETJrM0BB"
      },
      "source": [
        "Avaliação do Modelo"
      ]
    },
    {
      "cell_type": "code",
      "metadata": {
        "id": "VpR1FT389JN_"
      },
      "source": [
        "# calcula a métrica rmse\n",
        "rmse = (np.sqrt(mean_squared_error(y_test, y_pred)))"
      ],
      "execution_count": null,
      "outputs": []
    },
    {
      "cell_type": "code",
      "metadata": {
        "id": "cEBz7JpJyYcm",
        "colab": {
          "base_uri": "https://localhost:8080/"
        },
        "outputId": "b13cda34-23bf-4fad-df04-66ecb57d971d"
      },
      "source": [
        "# imprime a performance do modelo\n",
        "print ('Performance do modelo avaliado com os dados de teste:')\n",
        "print('\\nRMSE é: {} '.format(rmse))"
      ],
      "execution_count": null,
      "outputs": [
        {
          "output_type": "stream",
          "text": [
            "Performance do modelo avaliado com os dados de teste:\n",
            "\n",
            "RMSE é: 5.048974436174425 \n"
          ],
          "name": "stdout"
        }
      ]
    },
    {
      "cell_type": "markdown",
      "metadata": {
        "id": "IPf53dk8cQ4A"
      },
      "source": [
        "#### Random Forest\n",
        "\n",
        "- `Método Ensemble`\n",
        "- `Mais robustez para os modelos`"
      ]
    },
    {
      "cell_type": "code",
      "metadata": {
        "id": "dXpfe5pfWcxs"
      },
      "source": [
        "# Importa o método RandomForestRegressor\n",
        "from sklearn.ensemble import RandomForestRegressor"
      ],
      "execution_count": null,
      "outputs": []
    },
    {
      "cell_type": "code",
      "metadata": {
        "id": "G-TcDYH6WcqX"
      },
      "source": [
        "# cria o objeto rf_regressor\n",
        "rf_regressor = RandomForestRegressor()"
      ],
      "execution_count": null,
      "outputs": []
    },
    {
      "cell_type": "code",
      "metadata": {
        "id": "PXwdpDXdWcm5",
        "colab": {
          "base_uri": "https://localhost:8080/"
        },
        "outputId": "751bbb2e-8f21-41d0-889d-b1ea54d88a02"
      },
      "source": [
        "# treina o algoritmo\n",
        "rf_regressor.fit(X_train, y_train)"
      ],
      "execution_count": null,
      "outputs": [
        {
          "output_type": "execute_result",
          "data": {
            "text/plain": [
              "RandomForestRegressor(bootstrap=True, ccp_alpha=0.0, criterion='mse',\n",
              "                      max_depth=None, max_features='auto', max_leaf_nodes=None,\n",
              "                      max_samples=None, min_impurity_decrease=0.0,\n",
              "                      min_impurity_split=None, min_samples_leaf=1,\n",
              "                      min_samples_split=2, min_weight_fraction_leaf=0.0,\n",
              "                      n_estimators=100, n_jobs=None, oob_score=False,\n",
              "                      random_state=None, verbose=0, warm_start=False)"
            ]
          },
          "metadata": {
            "tags": []
          },
          "execution_count": 69
        }
      ]
    },
    {
      "cell_type": "code",
      "metadata": {
        "id": "YJp4BOStc5bS"
      },
      "source": [
        "# avaliação do modelo nos dados de teste\n",
        "y_pred = rf_regressor.predict(X_test)"
      ],
      "execution_count": null,
      "outputs": []
    },
    {
      "cell_type": "code",
      "metadata": {
        "id": "2jH8pO-PdD3I"
      },
      "source": [
        "# adiciona os resultados no dataframe df_results\n",
        "df_results['valor_predito_random_forest'] = rf_regressor.predict(X_test)"
      ],
      "execution_count": null,
      "outputs": []
    },
    {
      "cell_type": "code",
      "metadata": {
        "id": "WLxMyfruc5UO"
      },
      "source": [
        "# calcula a métrica rmse\n",
        "rmse = (np.sqrt(mean_squared_error(y_test, y_pred)))"
      ],
      "execution_count": null,
      "outputs": []
    },
    {
      "cell_type": "code",
      "metadata": {
        "id": "V7Yt6UAxc5MQ",
        "colab": {
          "base_uri": "https://localhost:8080/"
        },
        "outputId": "56fd227a-99c6-4a9f-b4a8-feec461be988"
      },
      "source": [
        "# imprime a performance do modelo\n",
        "print ('Performance do modelo avaliado com os dados de teste:')\n",
        "print('\\nRMSE é: {} '.format(rmse))"
      ],
      "execution_count": null,
      "outputs": [
        {
          "output_type": "stream",
          "text": [
            "Performance do modelo avaliado com os dados de teste:\n",
            "\n",
            "RMSE é: 3.347766346417275 \n"
          ],
          "name": "stdout"
        }
      ]
    },
    {
      "cell_type": "code",
      "metadata": {
        "id": "xKy2c8eidpdW",
        "colab": {
          "base_uri": "https://localhost:8080/",
          "height": 542
        },
        "outputId": "b8cf36b8-c993-4598-938b-1f852ef142c4"
      },
      "source": [
        "# plota os resultados dos modelos e o valor real.\n",
        "import plotly.graph_objects as go\n",
        "\n",
        "# Create traces\n",
        "fig = go.Figure()\n",
        "\n",
        "# Linha com os dados de teste\n",
        "fig.add_trace(go.Scatter(x=df_results.index,\n",
        "                         y=df_results.valor_real,\n",
        "                         mode='markers',\n",
        "                         name='Valor Real'))\n",
        "\n",
        "# Linha com os dados da baseline\n",
        "fig.add_trace(go.Scatter(x=df_results.index,\n",
        "                         y=df_results.valor_predito_baseline,\n",
        "                         mode='lines+markers',\n",
        "                         line = dict(color = '#FF00FF'),\n",
        "                         name='Valor da Baseline'))\n",
        "\n",
        "# Linha com os dados preditos pela arvore\n",
        "fig.add_trace(go.Scatter(x=df_results.index,\n",
        "                         y=df_results.valor_predito_arvore,\n",
        "                         mode='lines',\n",
        "                         line = dict(color = '#B2FF66'),\n",
        "                         name='Valor Predito Árvore'))\n",
        "\n",
        "# Linha com os dados preditos pela regressão linear\n",
        "fig.add_trace(go.Scatter(x=df_results.index,\n",
        "                         y=df_results.valor_predito_reg_linear,\n",
        "                         mode='lines',\n",
        "                         line = dict(color = '#17BECF'),\n",
        "                         name='Valor Predito Regressão Linear'))\n",
        "\n",
        "\n",
        "# Linha com os dados preditos pela Random Forest\n",
        "fig.add_trace(go.Scatter(x=df_results.index,\n",
        "                         y=df_results.valor_predito_random_forest,\n",
        "                         mode='lines',\n",
        "                         line = dict(color = '#7F7F7F'),\n",
        "                         name='Valor Predito Random Forest'))\n",
        "\n",
        "# Plota a figura\n",
        "fig.show()"
      ],
      "execution_count": null,
      "outputs": [
        {
          "output_type": "display_data",
          "data": {
            "text/html": [
              "<html>\n",
              "<head><meta charset=\"utf-8\" /></head>\n",
              "<body>\n",
              "    <div>\n",
              "            <script src=\"https://cdnjs.cloudflare.com/ajax/libs/mathjax/2.7.5/MathJax.js?config=TeX-AMS-MML_SVG\"></script><script type=\"text/javascript\">if (window.MathJax) {MathJax.Hub.Config({SVG: {font: \"STIX-Web\"}});}</script>\n",
              "                <script type=\"text/javascript\">window.PlotlyConfig = {MathJaxConfig: 'local'};</script>\n",
              "        <script src=\"https://cdn.plot.ly/plotly-latest.min.js\"></script>    \n",
              "            <div id=\"9243edb5-245a-4277-ac82-7882ec08f120\" class=\"plotly-graph-div\" style=\"height:525px; width:100%;\"></div>\n",
              "            <script type=\"text/javascript\">\n",
              "                \n",
              "                    window.PLOTLYENV=window.PLOTLYENV || {};\n",
              "                    \n",
              "                if (document.getElementById(\"9243edb5-245a-4277-ac82-7882ec08f120\")) {\n",
              "                    Plotly.newPlot(\n",
              "                        '9243edb5-245a-4277-ac82-7882ec08f120',\n",
              "                        [{\"mode\": \"markers\", \"name\": \"Valor Real\", \"type\": \"scatter\", \"x\": [0, 1, 2, 3, 4, 5, 6, 7, 8, 9, 10, 11, 12, 13, 14, 15, 16, 17, 18, 19, 20, 21, 22, 23, 24, 25, 26, 27, 28, 29, 30, 31, 32, 33, 34, 35, 36, 37, 38, 39, 40, 41, 42, 43, 44, 45, 46, 47, 48, 49, 50, 51, 52, 53, 54, 55, 56, 57, 58, 59, 60, 61, 62, 63, 64, 65, 66, 67, 68, 69, 70, 71, 72, 73, 74, 75, 76, 77, 78, 79, 80, 81, 82, 83, 84, 85, 86, 87, 88, 89, 90, 91, 92, 93, 94, 95, 96, 97], \"y\": [18.5, 12.7, 21.4, 23.7, 20.8, 25.0, 9.7, 14.9, 34.9, 31.6, 24.7, 22.9, 33.2, 9.6, 30.5, 19.2, 30.3, 15.4, 24.3, 24.4, 21.5, 27.9, 17.3, 21.4, 21.7, 24.4, 8.5, 15.0, 11.5, 13.6, 24.4, 7.4, 44.0, 21.7, 19.3, 16.1, 29.0, 26.4, 20.3, 10.8, 5.0, 19.6, 23.1, 23.9, 17.5, 13.5, 48.8, 26.2, 19.7, 14.2, 11.0, 19.0, 21.7, 18.4, 33.4, 14.0, 24.7, 43.8, 48.5, 25.0, 22.6, 21.2, 22.4, 23.8, 19.9, 16.5, 16.7, 17.2, 13.1, 19.1, 18.5, 22.2, 22.6, 19.4, 15.2, 19.8, 19.4, 21.6, 18.2, 19.6, 19.6, 23.0, 7.0, 17.6, 25.0, 41.3, 24.1, 22.6, 18.7, 22.6, 13.1, 22.2, 16.1, 39.8, 25.0, 20.5, 10.4, 20.4]}, {\"line\": {\"color\": \"#FF00FF\"}, \"mode\": \"lines+markers\", \"name\": \"Valor da Baseline\", \"type\": \"scatter\", \"x\": [0, 1, 2, 3, 4, 5, 6, 7, 8, 9, 10, 11, 12, 13, 14, 15, 16, 17, 18, 19, 20, 21, 22, 23, 24, 25, 26, 27, 28, 29, 30, 31, 32, 33, 34, 35, 36, 37, 38, 39, 40, 41, 42, 43, 44, 45, 46, 47, 48, 49, 50, 51, 52, 53, 54, 55, 56, 57, 58, 59, 60, 61, 62, 63, 64, 65, 66, 67, 68, 69, 70, 71, 72, 73, 74, 75, 76, 77, 78, 79, 80, 81, 82, 83, 84, 85, 86, 87, 88, 89, 90, 91, 92, 93, 94, 95, 96, 97], \"y\": [20.1304245283019, 20.1304245283019, 20.1304245283019, 20.1304245283019, 20.1304245283019, 20.1304245283019, 20.1304245283019, 20.1304245283019, 35.71923076923077, 35.71923076923077, 20.1304245283019, 20.1304245283019, 35.71923076923077, 20.1304245283019, 20.1304245283019, 20.1304245283019, 35.71923076923077, 20.1304245283019, 20.1304245283019, 20.1304245283019, 20.1304245283019, 20.1304245283019, 20.1304245283019, 20.1304245283019, 20.1304245283019, 20.1304245283019, 20.1304245283019, 35.71923076923077, 20.1304245283019, 20.1304245283019, 20.1304245283019, 20.1304245283019, 35.71923076923077, 20.1304245283019, 20.1304245283019, 14.921428571428574, 35.71923076923077, 20.1304245283019, 20.1304245283019, 20.1304245283019, 20.1304245283019, 20.1304245283019, 20.1304245283019, 20.1304245283019, 20.1304245283019, 20.1304245283019, 35.71923076923077, 20.1304245283019, 20.1304245283019, 20.1304245283019, 20.1304245283019, 20.1304245283019, 20.1304245283019, 20.1304245283019, 35.71923076923077, 20.1304245283019, 20.1304245283019, 35.71923076923077, 35.71923076923077, 20.1304245283019, 20.1304245283019, 20.1304245283019, 20.1304245283019, 20.1304245283019, 20.1304245283019, 20.1304245283019, 20.1304245283019, 20.1304245283019, 20.1304245283019, 20.1304245283019, 20.1304245283019, 20.1304245283019, 20.1304245283019, 20.1304245283019, 20.1304245283019, 20.1304245283019, 20.1304245283019, 20.1304245283019, 20.1304245283019, 20.1304245283019, 20.1304245283019, 20.1304245283019, 14.921428571428574, 20.1304245283019, 20.1304245283019, 20.1304245283019, 20.1304245283019, 20.1304245283019, 20.1304245283019, 20.1304245283019, 20.1304245283019, 20.1304245283019, 20.1304245283019, 35.71923076923077, 35.71923076923077, 20.1304245283019, 20.1304245283019, 20.1304245283019]}, {\"line\": {\"color\": \"#B2FF66\"}, \"mode\": \"lines\", \"name\": \"Valor Predito \\u00c1rvore\", \"type\": \"scatter\", \"x\": [0, 1, 2, 3, 4, 5, 6, 7, 8, 9, 10, 11, 12, 13, 14, 15, 16, 17, 18, 19, 20, 21, 22, 23, 24, 25, 26, 27, 28, 29, 30, 31, 32, 33, 34, 35, 36, 37, 38, 39, 40, 41, 42, 43, 44, 45, 46, 47, 48, 49, 50, 51, 52, 53, 54, 55, 56, 57, 58, 59, 60, 61, 62, 63, 64, 65, 66, 67, 68, 69, 70, 71, 72, 73, 74, 75, 76, 77, 78, 79, 80, 81, 82, 83, 84, 85, 86, 87, 88, 89, 90, 91, 92, 93, 94, 95, 96, 97], \"y\": [17.8, 23.2, 22.9, 24.3, 23.0, 27.5, 7.2, 17.1, 37.6, 28.7, 24.5, 22.2, 34.9, 14.6, 29.4, 23.1, 34.6, 13.8, 22.9, 24.8, 15.3, 28.5, 15.7, 21.4, 23.4, 18.5, 12.1, 31.0, 12.8, 16.2, 22.2, 10.5, 45.4, 23.2, 22.8, 14.5, 32.2, 23.3, 18.9, 8.4, 5.6, 19.2, 24.5, 22.2, 17.2, 13.9, 21.9, 22.8, 17.1, 22.4, 9.5, 19.5, 19.9, 21.7, 36.1, 14.4, 23.8, 38.7, 33.3, 23.3, 29.9, 20.1, 26.5, 19.1, 15.2, 22.0, 20.1, 27.5, 15.6, 20.0, 20.0, 20.7, 20.5, 22.4, 16.2, 19.4, 22.8, 23.8, 26.5, 15.3, 19.3, 20.6, 8.3, 17.4, 32.4, 27.0, 22.5, 19.3, 19.5, 30.1, 13.6, 22.0, 18.4, 37.9, 28.7, 18.8, 8.3, 19.3]}, {\"line\": {\"color\": \"#17BECF\"}, \"mode\": \"lines\", \"name\": \"Valor Predito Regress\\u00e3o Linear\", \"type\": \"scatter\", \"x\": [0, 1, 2, 3, 4, 5, 6, 7, 8, 9, 10, 11, 12, 13, 14, 15, 16, 17, 18, 19, 20, 21, 22, 23, 24, 25, 26, 27, 28, 29, 30, 31, 32, 33, 34, 35, 36, 37, 38, 39, 40, 41, 42, 43, 44, 45, 46, 47, 48, 49, 50, 51, 52, 53, 54, 55, 56, 57, 58, 59, 60, 61, 62, 63, 64, 65, 66, 67, 68, 69, 70, 71, 72, 73, 74, 75, 76, 77, 78, 79, 80, 81, 82, 83, 84, 85, 86, 87, 88, 89, 90, 91, 92, 93, 94, 95, 96, 97], \"y\": [18.459169620175622, 12.279894164156513, 24.588306565387427, 28.2546932806687, 18.1954385373438, 21.63064823568959, 11.319198030946154, 14.561032219959817, 31.623716773040098, 29.58813260755701, 28.603936015257425, 26.482125815783228, 29.96603420778131, 14.553173045326119, 30.278248711999726, 24.630039158761864, 33.23345824950146, 16.931248570273688, 24.994464219097782, 26.46644144086013, 22.81363952407009, 27.10339073181635, 12.524996632311229, 19.379297519749333, 21.58154597100254, 23.87700670203906, 14.08585579782036, 21.23014696755979, 13.643973122717867, 14.71671288201728, 25.800161542012095, 7.867171947538871, 33.02051098404502, 26.04521891780928, 24.036781665116372, 17.775403456686536, 33.227091636621694, 27.517944398741665, 21.18738356258344, 10.957868727277685, 7.507685772949117, 19.41858658453992, 27.39333995128659, 23.841018256361505, 24.74227083856386, 16.99072369802027, 35.47974424493103, 26.159912917617138, 22.496912181783873, 17.904788196114126, 14.15411678225707, 21.181885684574738, 20.62452538832067, 21.177587641065536, 29.495521224006474, 14.230041126797463, 26.544112805265776, 31.0880450668066, 33.72693559925391, 24.891581735351778, 24.187944371239208, 23.864725908860088, 22.052781673616483, 21.389940457854472, 18.84595164654472, 27.8415820549433, 17.936323317583252, 13.823897089289776, 17.67613991103613, 19.294638279682893, 20.58230655963814, 25.39064984663409, 26.235960423440755, 18.894869868164715, 14.748302917740684, 26.81867562501565, 24.878238751496408, 25.213916812117628, 21.19251508313218, 20.51270333880149, 18.27047762963257, 21.370391016885534, -0.09444264955234516, 20.958291503542682, 28.55253759121914, 28.021862079991504, 27.666907491955033, 21.45842164716916, 21.37782433477167, 27.62100650340493, 16.075247361056487, 26.092542124103048, 17.7560875528065, 29.389596403738953, 25.474439973258516, 15.839468986221021, 8.446985834078287, 20.760205429443282]}, {\"line\": {\"color\": \"#7F7F7F\"}, \"mode\": \"lines\", \"name\": \"Valor Predito Random Forest\", \"type\": \"scatter\", \"x\": [0, 1, 2, 3, 4, 5, 6, 7, 8, 9, 10, 11, 12, 13, 14, 15, 16, 17, 18, 19, 20, 21, 22, 23, 24, 25, 26, 27, 28, 29, 30, 31, 32, 33, 34, 35, 36, 37, 38, 39, 40, 41, 42, 43, 44, 45, 46, 47, 48, 49, 50, 51, 52, 53, 54, 55, 56, 57, 58, 59, 60, 61, 62, 63, 64, 65, 66, 67, 68, 69, 70, 71, 72, 73, 74, 75, 76, 77, 78, 79, 80, 81, 82, 83, 84, 85, 86, 87, 88, 89, 90, 91, 92, 93, 94, 95, 96, 97], \"y\": [19.266999999999992, 17.004, 23.438999999999997, 24.731999999999992, 22.049, 23.754000000000005, 10.609999999999998, 13.418000000000005, 38.796000000000035, 33.69799999999996, 25.749999999999982, 27.13799999999998, 33.248999999999974, 12.655000000000015, 32.933, 20.79899999999999, 31.828999999999994, 15.268999999999995, 23.594, 24.583999999999996, 19.02399999999999, 28.491, 17.86400000000001, 22.526999999999997, 21.497000000000007, 21.74499999999999, 13.666999999999991, 22.797000000000008, 12.532999999999983, 17.60399999999999, 23.763999999999996, 8.717000000000008, 41.92100000000003, 21.872, 23.892000000000003, 19.935999999999993, 34.53899999999999, 24.017000000000003, 20.991000000000014, 10.722999999999988, 6.886000000000008, 19.319000000000006, 24.662000000000006, 21.388, 20.588999999999995, 14.135999999999997, 37.71699999999997, 24.353, 19.944, 15.821999999999997, 12.202999999999998, 20.416000000000007, 21.151000000000003, 19.439000000000007, 34.71299999999996, 13.94999999999999, 24.966999999999985, 39.205000000000034, 39.55700000000004, 24.26900000000001, 23.909999999999997, 20.315999999999992, 21.308000000000003, 19.868999999999986, 17.525000000000013, 25.32199999999999, 14.987000000000005, 17.382, 15.91999999999999, 17.888000000000005, 21.428999999999995, 24.335, 24.695000000000004, 16.550999999999995, 17.629999999999992, 23.912999999999997, 21.801, 23.403999999999993, 20.430999999999997, 18.025999999999982, 18.693, 20.752999999999997, 8.335, 18.733999999999995, 28.335999999999995, 26.486000000000004, 26.971, 20.079999999999995, 20.279999999999994, 29.506999999999984, 14.828000000000007, 21.769999999999985, 17.070000000000007, 34.551999999999985, 30.32700000000001, 20.000999999999987, 8.098999999999998, 19.865999999999996]}],\n",
              "                        {\"template\": {\"data\": {\"bar\": [{\"error_x\": {\"color\": \"#2a3f5f\"}, \"error_y\": {\"color\": \"#2a3f5f\"}, \"marker\": {\"line\": {\"color\": \"#E5ECF6\", \"width\": 0.5}}, \"type\": \"bar\"}], \"barpolar\": [{\"marker\": {\"line\": {\"color\": \"#E5ECF6\", \"width\": 0.5}}, \"type\": \"barpolar\"}], \"carpet\": [{\"aaxis\": {\"endlinecolor\": \"#2a3f5f\", \"gridcolor\": \"white\", \"linecolor\": \"white\", \"minorgridcolor\": \"white\", \"startlinecolor\": \"#2a3f5f\"}, \"baxis\": {\"endlinecolor\": \"#2a3f5f\", \"gridcolor\": \"white\", \"linecolor\": \"white\", \"minorgridcolor\": \"white\", \"startlinecolor\": \"#2a3f5f\"}, \"type\": \"carpet\"}], \"choropleth\": [{\"colorbar\": {\"outlinewidth\": 0, \"ticks\": \"\"}, \"type\": \"choropleth\"}], \"contour\": [{\"colorbar\": {\"outlinewidth\": 0, \"ticks\": \"\"}, \"colorscale\": [[0.0, \"#0d0887\"], [0.1111111111111111, \"#46039f\"], [0.2222222222222222, \"#7201a8\"], [0.3333333333333333, \"#9c179e\"], [0.4444444444444444, \"#bd3786\"], [0.5555555555555556, \"#d8576b\"], [0.6666666666666666, \"#ed7953\"], [0.7777777777777778, \"#fb9f3a\"], [0.8888888888888888, \"#fdca26\"], [1.0, \"#f0f921\"]], \"type\": \"contour\"}], \"contourcarpet\": [{\"colorbar\": {\"outlinewidth\": 0, \"ticks\": \"\"}, \"type\": \"contourcarpet\"}], \"heatmap\": [{\"colorbar\": {\"outlinewidth\": 0, \"ticks\": \"\"}, \"colorscale\": [[0.0, \"#0d0887\"], [0.1111111111111111, \"#46039f\"], [0.2222222222222222, \"#7201a8\"], [0.3333333333333333, \"#9c179e\"], [0.4444444444444444, \"#bd3786\"], [0.5555555555555556, \"#d8576b\"], [0.6666666666666666, \"#ed7953\"], [0.7777777777777778, \"#fb9f3a\"], [0.8888888888888888, \"#fdca26\"], [1.0, \"#f0f921\"]], \"type\": \"heatmap\"}], \"heatmapgl\": [{\"colorbar\": {\"outlinewidth\": 0, \"ticks\": \"\"}, \"colorscale\": [[0.0, \"#0d0887\"], [0.1111111111111111, \"#46039f\"], [0.2222222222222222, \"#7201a8\"], [0.3333333333333333, \"#9c179e\"], [0.4444444444444444, \"#bd3786\"], [0.5555555555555556, \"#d8576b\"], [0.6666666666666666, \"#ed7953\"], [0.7777777777777778, \"#fb9f3a\"], [0.8888888888888888, \"#fdca26\"], [1.0, \"#f0f921\"]], \"type\": \"heatmapgl\"}], \"histogram\": [{\"marker\": {\"colorbar\": {\"outlinewidth\": 0, \"ticks\": \"\"}}, \"type\": \"histogram\"}], \"histogram2d\": [{\"colorbar\": {\"outlinewidth\": 0, \"ticks\": \"\"}, \"colorscale\": [[0.0, \"#0d0887\"], [0.1111111111111111, \"#46039f\"], [0.2222222222222222, \"#7201a8\"], [0.3333333333333333, \"#9c179e\"], [0.4444444444444444, \"#bd3786\"], [0.5555555555555556, \"#d8576b\"], [0.6666666666666666, \"#ed7953\"], [0.7777777777777778, \"#fb9f3a\"], [0.8888888888888888, \"#fdca26\"], [1.0, \"#f0f921\"]], \"type\": \"histogram2d\"}], \"histogram2dcontour\": [{\"colorbar\": {\"outlinewidth\": 0, \"ticks\": \"\"}, \"colorscale\": [[0.0, \"#0d0887\"], [0.1111111111111111, \"#46039f\"], [0.2222222222222222, \"#7201a8\"], [0.3333333333333333, \"#9c179e\"], [0.4444444444444444, \"#bd3786\"], [0.5555555555555556, \"#d8576b\"], [0.6666666666666666, \"#ed7953\"], [0.7777777777777778, \"#fb9f3a\"], [0.8888888888888888, \"#fdca26\"], [1.0, \"#f0f921\"]], \"type\": \"histogram2dcontour\"}], \"mesh3d\": [{\"colorbar\": {\"outlinewidth\": 0, \"ticks\": \"\"}, \"type\": \"mesh3d\"}], \"parcoords\": [{\"line\": {\"colorbar\": {\"outlinewidth\": 0, \"ticks\": \"\"}}, \"type\": \"parcoords\"}], \"pie\": [{\"automargin\": true, \"type\": \"pie\"}], \"scatter\": [{\"marker\": {\"colorbar\": {\"outlinewidth\": 0, \"ticks\": \"\"}}, \"type\": \"scatter\"}], \"scatter3d\": [{\"line\": {\"colorbar\": {\"outlinewidth\": 0, \"ticks\": \"\"}}, \"marker\": {\"colorbar\": {\"outlinewidth\": 0, \"ticks\": \"\"}}, \"type\": \"scatter3d\"}], \"scattercarpet\": [{\"marker\": {\"colorbar\": {\"outlinewidth\": 0, \"ticks\": \"\"}}, \"type\": \"scattercarpet\"}], \"scattergeo\": [{\"marker\": {\"colorbar\": {\"outlinewidth\": 0, \"ticks\": \"\"}}, \"type\": \"scattergeo\"}], \"scattergl\": [{\"marker\": {\"colorbar\": {\"outlinewidth\": 0, \"ticks\": \"\"}}, \"type\": \"scattergl\"}], \"scattermapbox\": [{\"marker\": {\"colorbar\": {\"outlinewidth\": 0, \"ticks\": \"\"}}, \"type\": \"scattermapbox\"}], \"scatterpolar\": [{\"marker\": {\"colorbar\": {\"outlinewidth\": 0, \"ticks\": \"\"}}, \"type\": \"scatterpolar\"}], \"scatterpolargl\": [{\"marker\": {\"colorbar\": {\"outlinewidth\": 0, \"ticks\": \"\"}}, \"type\": \"scatterpolargl\"}], \"scatterternary\": [{\"marker\": {\"colorbar\": {\"outlinewidth\": 0, \"ticks\": \"\"}}, \"type\": \"scatterternary\"}], \"surface\": [{\"colorbar\": {\"outlinewidth\": 0, \"ticks\": \"\"}, \"colorscale\": [[0.0, \"#0d0887\"], [0.1111111111111111, \"#46039f\"], [0.2222222222222222, \"#7201a8\"], [0.3333333333333333, \"#9c179e\"], [0.4444444444444444, \"#bd3786\"], [0.5555555555555556, \"#d8576b\"], [0.6666666666666666, \"#ed7953\"], [0.7777777777777778, \"#fb9f3a\"], [0.8888888888888888, \"#fdca26\"], [1.0, \"#f0f921\"]], \"type\": \"surface\"}], \"table\": [{\"cells\": {\"fill\": {\"color\": \"#EBF0F8\"}, \"line\": {\"color\": \"white\"}}, \"header\": {\"fill\": {\"color\": \"#C8D4E3\"}, \"line\": {\"color\": \"white\"}}, \"type\": \"table\"}]}, \"layout\": {\"annotationdefaults\": {\"arrowcolor\": \"#2a3f5f\", \"arrowhead\": 0, \"arrowwidth\": 1}, \"coloraxis\": {\"colorbar\": {\"outlinewidth\": 0, \"ticks\": \"\"}}, \"colorscale\": {\"diverging\": [[0, \"#8e0152\"], [0.1, \"#c51b7d\"], [0.2, \"#de77ae\"], [0.3, \"#f1b6da\"], [0.4, \"#fde0ef\"], [0.5, \"#f7f7f7\"], [0.6, \"#e6f5d0\"], [0.7, \"#b8e186\"], [0.8, \"#7fbc41\"], [0.9, \"#4d9221\"], [1, \"#276419\"]], \"sequential\": [[0.0, \"#0d0887\"], [0.1111111111111111, \"#46039f\"], [0.2222222222222222, \"#7201a8\"], [0.3333333333333333, \"#9c179e\"], [0.4444444444444444, \"#bd3786\"], [0.5555555555555556, \"#d8576b\"], [0.6666666666666666, \"#ed7953\"], [0.7777777777777778, \"#fb9f3a\"], [0.8888888888888888, \"#fdca26\"], [1.0, \"#f0f921\"]], \"sequentialminus\": [[0.0, \"#0d0887\"], [0.1111111111111111, \"#46039f\"], [0.2222222222222222, \"#7201a8\"], [0.3333333333333333, \"#9c179e\"], [0.4444444444444444, \"#bd3786\"], [0.5555555555555556, \"#d8576b\"], [0.6666666666666666, \"#ed7953\"], [0.7777777777777778, \"#fb9f3a\"], [0.8888888888888888, \"#fdca26\"], [1.0, \"#f0f921\"]]}, \"colorway\": [\"#636efa\", \"#EF553B\", \"#00cc96\", \"#ab63fa\", \"#FFA15A\", \"#19d3f3\", \"#FF6692\", \"#B6E880\", \"#FF97FF\", \"#FECB52\"], \"font\": {\"color\": \"#2a3f5f\"}, \"geo\": {\"bgcolor\": \"white\", \"lakecolor\": \"white\", \"landcolor\": \"#E5ECF6\", \"showlakes\": true, \"showland\": true, \"subunitcolor\": \"white\"}, \"hoverlabel\": {\"align\": \"left\"}, \"hovermode\": \"closest\", \"mapbox\": {\"style\": \"light\"}, \"paper_bgcolor\": \"white\", \"plot_bgcolor\": \"#E5ECF6\", \"polar\": {\"angularaxis\": {\"gridcolor\": \"white\", \"linecolor\": \"white\", \"ticks\": \"\"}, \"bgcolor\": \"#E5ECF6\", \"radialaxis\": {\"gridcolor\": \"white\", \"linecolor\": \"white\", \"ticks\": \"\"}}, \"scene\": {\"xaxis\": {\"backgroundcolor\": \"#E5ECF6\", \"gridcolor\": \"white\", \"gridwidth\": 2, \"linecolor\": \"white\", \"showbackground\": true, \"ticks\": \"\", \"zerolinecolor\": \"white\"}, \"yaxis\": {\"backgroundcolor\": \"#E5ECF6\", \"gridcolor\": \"white\", \"gridwidth\": 2, \"linecolor\": \"white\", \"showbackground\": true, \"ticks\": \"\", \"zerolinecolor\": \"white\"}, \"zaxis\": {\"backgroundcolor\": \"#E5ECF6\", \"gridcolor\": \"white\", \"gridwidth\": 2, \"linecolor\": \"white\", \"showbackground\": true, \"ticks\": \"\", \"zerolinecolor\": \"white\"}}, \"shapedefaults\": {\"line\": {\"color\": \"#2a3f5f\"}}, \"ternary\": {\"aaxis\": {\"gridcolor\": \"white\", \"linecolor\": \"white\", \"ticks\": \"\"}, \"baxis\": {\"gridcolor\": \"white\", \"linecolor\": \"white\", \"ticks\": \"\"}, \"bgcolor\": \"#E5ECF6\", \"caxis\": {\"gridcolor\": \"white\", \"linecolor\": \"white\", \"ticks\": \"\"}}, \"title\": {\"x\": 0.05}, \"xaxis\": {\"automargin\": true, \"gridcolor\": \"white\", \"linecolor\": \"white\", \"ticks\": \"\", \"title\": {\"standoff\": 15}, \"zerolinecolor\": \"white\", \"zerolinewidth\": 2}, \"yaxis\": {\"automargin\": true, \"gridcolor\": \"white\", \"linecolor\": \"white\", \"ticks\": \"\", \"title\": {\"standoff\": 15}, \"zerolinecolor\": \"white\", \"zerolinewidth\": 2}}}},\n",
              "                        {\"responsive\": true}\n",
              "                    ).then(function(){\n",
              "                            \n",
              "var gd = document.getElementById('9243edb5-245a-4277-ac82-7882ec08f120');\n",
              "var x = new MutationObserver(function (mutations, observer) {{\n",
              "        var display = window.getComputedStyle(gd).display;\n",
              "        if (!display || display === 'none') {{\n",
              "            console.log([gd, 'removed!']);\n",
              "            Plotly.purge(gd);\n",
              "            observer.disconnect();\n",
              "        }}\n",
              "}});\n",
              "\n",
              "// Listen for the removal of the full notebook cells\n",
              "var notebookContainer = gd.closest('#notebook-container');\n",
              "if (notebookContainer) {{\n",
              "    x.observe(notebookContainer, {childList: true});\n",
              "}}\n",
              "\n",
              "// Listen for the clearing of the current output cell\n",
              "var outputEl = gd.closest('.output');\n",
              "if (outputEl) {{\n",
              "    x.observe(outputEl, {childList: true});\n",
              "}}\n",
              "\n",
              "                        })\n",
              "                };\n",
              "                \n",
              "            </script>\n",
              "        </div>\n",
              "</body>\n",
              "</html>"
            ]
          },
          "metadata": {
            "tags": []
          }
        }
      ]
    },
    {
      "cell_type": "markdown",
      "metadata": {
        "id": "udB7k-TMe9tj"
      },
      "source": [
        "### Tunning do Algoritmo de Machine Learning"
      ]
    },
    {
      "cell_type": "markdown",
      "metadata": {
        "id": "-ivExBIzzrmX"
      },
      "source": [
        "**Parâmetros da Random Forest**\n",
        "\n",
        "- `O parâmetro n_estimators define a quantidade de árvores que serão usadas para criação dos modelos. Quanto maior o número de árvores, maior será o número de modelos no ensemble.`\n",
        "\n",
        "- `O parâmtro max_deph define a profundidade da árvore, quanto mais profunda a árvore, mais especializado nos dados de treino o nosso modelo estará.`\n",
        "\n",
        "- `O parâmetro max_features define a quantidade máxima de nós que serão usados para separar os níveis folha da árvore`"
      ]
    },
    {
      "cell_type": "markdown",
      "metadata": {
        "id": "Kt1_TcBfWn31"
      },
      "source": [
        "Deploy da Aplicação"
      ]
    },
    {
      "cell_type": "code",
      "metadata": {
        "id": "o_vwA3soYjYq"
      },
      "source": [
        "X['MEDV'] = y"
      ],
      "execution_count": null,
      "outputs": []
    },
    {
      "cell_type": "code",
      "metadata": {
        "id": "x5-qVIdOZwdt",
        "colab": {
          "base_uri": "https://localhost:8080/",
          "height": 204
        },
        "outputId": "08df81dc-e668-46e6-fb46-b6c31938a91d"
      },
      "source": [
        "X.head()"
      ],
      "execution_count": null,
      "outputs": [
        {
          "output_type": "execute_result",
          "data": {
            "text/html": [
              "<div>\n",
              "<style scoped>\n",
              "    .dataframe tbody tr th:only-of-type {\n",
              "        vertical-align: middle;\n",
              "    }\n",
              "\n",
              "    .dataframe tbody tr th {\n",
              "        vertical-align: top;\n",
              "    }\n",
              "\n",
              "    .dataframe thead th {\n",
              "        text-align: right;\n",
              "    }\n",
              "</style>\n",
              "<table border=\"1\" class=\"dataframe\">\n",
              "  <thead>\n",
              "    <tr style=\"text-align: right;\">\n",
              "      <th></th>\n",
              "      <th>CRIM</th>\n",
              "      <th>INDUS</th>\n",
              "      <th>CHAS</th>\n",
              "      <th>NOX</th>\n",
              "      <th>RM</th>\n",
              "      <th>PTRATIO</th>\n",
              "      <th>B</th>\n",
              "      <th>LSTAT</th>\n",
              "      <th>MEDV</th>\n",
              "    </tr>\n",
              "  </thead>\n",
              "  <tbody>\n",
              "    <tr>\n",
              "      <th>0</th>\n",
              "      <td>0.00632</td>\n",
              "      <td>2.31</td>\n",
              "      <td>0.0</td>\n",
              "      <td>0.538</td>\n",
              "      <td>6</td>\n",
              "      <td>15.3</td>\n",
              "      <td>396.90</td>\n",
              "      <td>4.98</td>\n",
              "      <td>24.0</td>\n",
              "    </tr>\n",
              "    <tr>\n",
              "      <th>1</th>\n",
              "      <td>0.02731</td>\n",
              "      <td>7.07</td>\n",
              "      <td>0.0</td>\n",
              "      <td>0.469</td>\n",
              "      <td>6</td>\n",
              "      <td>17.8</td>\n",
              "      <td>396.90</td>\n",
              "      <td>9.14</td>\n",
              "      <td>21.6</td>\n",
              "    </tr>\n",
              "    <tr>\n",
              "      <th>2</th>\n",
              "      <td>0.02729</td>\n",
              "      <td>7.07</td>\n",
              "      <td>0.0</td>\n",
              "      <td>0.469</td>\n",
              "      <td>7</td>\n",
              "      <td>17.8</td>\n",
              "      <td>392.83</td>\n",
              "      <td>4.03</td>\n",
              "      <td>34.7</td>\n",
              "    </tr>\n",
              "    <tr>\n",
              "      <th>3</th>\n",
              "      <td>0.03237</td>\n",
              "      <td>2.18</td>\n",
              "      <td>0.0</td>\n",
              "      <td>0.458</td>\n",
              "      <td>6</td>\n",
              "      <td>18.7</td>\n",
              "      <td>394.63</td>\n",
              "      <td>2.94</td>\n",
              "      <td>33.4</td>\n",
              "    </tr>\n",
              "    <tr>\n",
              "      <th>4</th>\n",
              "      <td>0.06905</td>\n",
              "      <td>2.18</td>\n",
              "      <td>0.0</td>\n",
              "      <td>0.458</td>\n",
              "      <td>7</td>\n",
              "      <td>18.7</td>\n",
              "      <td>396.90</td>\n",
              "      <td>5.33</td>\n",
              "      <td>36.2</td>\n",
              "    </tr>\n",
              "  </tbody>\n",
              "</table>\n",
              "</div>"
            ],
            "text/plain": [
              "      CRIM  INDUS  CHAS    NOX  RM  PTRATIO       B  LSTAT  MEDV\n",
              "0  0.00632   2.31   0.0  0.538   6     15.3  396.90   4.98  24.0\n",
              "1  0.02731   7.07   0.0  0.469   6     17.8  396.90   9.14  21.6\n",
              "2  0.02729   7.07   0.0  0.469   7     17.8  392.83   4.03  34.7\n",
              "3  0.03237   2.18   0.0  0.458   6     18.7  394.63   2.94  33.4\n",
              "4  0.06905   2.18   0.0  0.458   7     18.7  396.90   5.33  36.2"
            ]
          },
          "metadata": {
            "tags": []
          },
          "execution_count": 76
        }
      ]
    },
    {
      "cell_type": "code",
      "metadata": {
        "id": "vbPO7woOa7N0"
      },
      "source": [
        "X.to_csv('data.csv', index=False)"
      ],
      "execution_count": null,
      "outputs": []
    },
    {
      "cell_type": "markdown",
      "metadata": {
        "id": "i-hlg9BO940s"
      },
      "source": [
        "- Faça download do arquivo data.csv.\n",
        "- Adicione o arquivo **data.csv** junto da pasta onde você extraiu o **arquivo aula03.ipynb**"
      ]
    }
  ]
}