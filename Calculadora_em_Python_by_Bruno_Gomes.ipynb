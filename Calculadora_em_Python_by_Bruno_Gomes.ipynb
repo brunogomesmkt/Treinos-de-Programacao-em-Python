{
  "nbformat": 4,
  "nbformat_minor": 0,
  "metadata": {
    "colab": {
      "name": "Calculadora em Python by Bruno Gomes.ipynb",
      "provenance": [],
      "authorship_tag": "ABX9TyOD8Xr9L7y0bAtrY0hudDmp",
      "include_colab_link": true
    },
    "kernelspec": {
      "name": "python3",
      "display_name": "Python 3"
    },
    "language_info": {
      "name": "python"
    }
  },
  "cells": [
    {
      "cell_type": "markdown",
      "metadata": {
        "id": "view-in-github",
        "colab_type": "text"
      },
      "source": [
        "<a href=\"https://colab.research.google.com/github/brunogomesmkt/Treinos-de-Programacao-em-Python/blob/main/Calculadora_em_Python_by_Bruno_Gomes.ipynb\" target=\"_parent\"><img src=\"https://colab.research.google.com/assets/colab-badge.svg\" alt=\"Open In Colab\"/></a>"
      ]
    },
    {
      "cell_type": "markdown",
      "metadata": {
        "id": "UfA9q3dLpIw3"
      },
      "source": [
        "**Calculadora em Python**\n"
      ]
    },
    {
      "cell_type": "code",
      "metadata": {
        "colab": {
          "base_uri": "https://localhost:8080/"
        },
        "id": "buyoeMcvpVT9",
        "outputId": "b78f1a29-bb5b-4779-ae22-0920615a025c"
      },
      "source": [
        "print('\\n************ Python Calculator ****************')\n",
        "\n",
        "def add(x, y):\n",
        "  return x + y\n",
        "\n",
        "def subtract(x, y):\n",
        "  return x- y\n",
        "\n",
        "def multiply(x, y):\n",
        "  return x * y\n",
        "\n",
        "def divide(x, y):\n",
        "  return x / y \n",
        "\n",
        "print('\\nSelecione o número da operação desejada: \\n')\n",
        "print('1 - Soma')\n",
        "print('2 - Sutração')\n",
        "print('3 - Multiplicação')\n",
        "print('4 - Divisão')\n",
        "\n",
        "escolha = input('\\nDigite sua opção (1/2/3/4):')\n",
        "\n",
        "num1 = int(input('\\in Digite o primeiro número: '))\n",
        "num2 = int(input('\\in Digite o segundo número: '))\n",
        "\n",
        "if escolha =='1':\n",
        "  print('\\n')\n",
        "  print(num1, '+', num2, '=', add(num1, num2))\n",
        "  print('\\n')\n",
        "\n",
        "elif escolha =='2':\n",
        "  print('\\n')\n",
        "  print(num1, '-', num2, '=', subtract(num1, num2))\n",
        "  print('\\n')\n",
        "\n",
        "elif escolha =='3':\n",
        "  print('\\n')\n",
        "  print(num1, '*', num2, '=', multiply(num1, num2))\n",
        "  print('\\n')\n",
        "\n",
        "elif escolha =='4':\n",
        "  print('\\n')\n",
        "  print(num1, '/', num2, '=', divide(num1, num2))\n",
        "  print('\\n')\n",
        "\n",
        "else:\n",
        "  print('\\nOpção Inválida!')"
      ],
      "execution_count": 6,
      "outputs": [
        {
          "output_type": "stream",
          "name": "stdout",
          "text": [
            "\n",
            "************ Python Calculator ****************\n",
            "\n",
            "Selecione o número da operação desejada: \n",
            "\n",
            "1 - Soma\n",
            "2 - Sutração\n",
            "3 - Multiplicação\n",
            "4 - Divisão\n",
            "\n",
            "Digite sua opção (1/2/3/4):3\n",
            "\\in Digite o primeiro número: 2\n",
            "\\in Digite o segundo número: 5\n",
            "\n",
            "\n",
            "2 * 5 = 10\n",
            "\n",
            "\n"
          ]
        }
      ]
    }
  ]
}